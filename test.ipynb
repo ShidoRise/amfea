{
 "cells": [
  {
   "cell_type": "code",
   "execution_count": 48,
   "id": "62bd74ef",
   "metadata": {},
   "outputs": [
    {
     "name": "stdout",
     "output_type": "stream",
     "text": [
      "The autoreload extension is already loaded. To reload it, use:\n",
      "  %reload_ext autoreload\n"
     ]
    }
   ],
   "source": [
    "%load_ext autoreload\n",
    "%autoreload 2\n",
    "import numpy as np\n",
    "import pickle\n",
    "import os\n",
    "from mutation import *\n",
    "from crossover import *\n",
    "from rmp import *\n",
    "from mfea import *\n",
    "from task import *\n",
    "from llm import *\n",
    "import matplotlib.pyplot as plt"
   ]
  },
  {
   "cell_type": "code",
   "execution_count": 49,
   "id": "d49f584e",
   "metadata": {},
   "outputs": [],
   "source": [
    "gnbg_tasks = []\n",
    "gnbg_tasks.append(GNBGTask(1, 100))\n",
    "gnbg_tasks.append(GNBGTask(2, 100))\n",
    "gnbg_tasks.append(GNBGTask(3, 100))\n",
    "gnbg_tasks.append(GNBGTask(4, 100))\n",
    "gnbg_tasks.append(GNBGTask(5, 100))\n",
    "gnbg_tasks.append(GNBGTask(6, 100))"
   ]
  },
  {
   "cell_type": "code",
   "execution_count": 50,
   "id": "1242be84",
   "metadata": {},
   "outputs": [
    {
     "name": "stdout",
     "output_type": "stream",
     "text": [
      "sk-505a4ff57cfb432d8888a3d8d66a3133\n"
     ]
    }
   ],
   "source": [
    "\n",
    "API_KEY = os.getenv(\"DEEPSEEK_API_KEY\")\n",
    "print(API_KEY)\n"
   ]
  },
  {
   "cell_type": "code",
   "execution_count": 51,
   "id": "70978029",
   "metadata": {},
   "outputs": [
    {
     "name": "stdout",
     "output_type": "stream",
     "text": [
      "Initialization:\n",
      "Task 0:\n",
      "Best Fitness: 89672.91238526908\n",
      "Mean Fitness: 177354.47092346053\n",
      "\n",
      "Task 1:\n",
      "Best Fitness: -701.3866075417664\n",
      "Mean Fitness: -701.310943993558\n",
      "\n",
      "Task 2:\n",
      "Best Fitness: 38747847618.83141\n",
      "Mean Fitness: 93071728120.38055\n",
      "\n",
      "Task 3:\n",
      "Best Fitness: 410534.65715594345\n",
      "Mean Fitness: 920790.6031041741\n",
      "\n",
      "Task 4:\n",
      "Best Fitness: -334.1131677939574\n",
      "Mean Fitness: -333.9971863774097\n",
      "\n",
      "Task 5:\n",
      "Best Fitness: -183.49018405197518\n",
      "Mean Fitness: -183.3473880141399\n",
      "\n"
     ]
    }
   ],
   "source": [
    "num_indis_per_task = 100\n",
    "indi_len = 30\n",
    "bound = 100\n",
    "crossover = BLXCrossover()\n",
    "mutation = PolynomialMutation(20)\n",
    "rmp = NormalRMP(0.3)\n",
    "\n",
    "amfea = AMFEA(num_indis_per_task, indi_len, gnbg_tasks, crossover, mutation, rmp)"
   ]
  },
  {
   "cell_type": "code",
   "execution_count": null,
   "id": "6a667e50",
   "metadata": {
    "scrolled": true
   },
   "outputs": [
    {
     "name": "stdout",
     "output_type": "stream",
     "text": [
      "Gen 0\n",
      "Task 0, Best: 89672.91238526908, Avg: 171755.00252698548\n",
      "Task 1, Best: -701.3866075417664, Avg: -701.3122048966526\n",
      "Task 2, Best: 38747847618.83141, Avg: 92024126993.60849\n",
      "Task 3, Best: 410534.65715594345, Avg: 907240.198798304\n",
      "Task 4, Best: -334.1131677939574, Avg: -334.00130826970417\n",
      "Task 5, Best: -183.49018405197518, Avg: -183.3530643983958\n",
      "Time taken each gen: 0.0051 seconds\n",
      "\n"
     ]
    }
   ],
   "source": [
    "bfs, mfs = amfea.fit(1, monitor=True, monitor_rate=500)"
   ]
  },
  {
   "cell_type": "code",
   "execution_count": 34,
   "id": "7695a5be",
   "metadata": {},
   "outputs": [
    {
     "name": "stdout",
     "output_type": "stream",
     "text": [
      "-1081.9837994003399\n",
      "-703.1328146165181\n",
      "-357.5797495903721\n",
      "-382.6205211774271\n",
      "-337.50899809752036\n",
      "-186.86405320391498\n"
     ]
    }
   ],
   "source": [
    "for task in gnbg_tasks:\n",
    "    print(task.gnbg.OptimumValue)"
   ]
  },
  {
   "cell_type": "code",
   "execution_count": 41,
   "id": "0c002b34",
   "metadata": {},
   "outputs": [
    {
     "data": {
      "text/plain": [
       "[<matplotlib.lines.Line2D at 0x2094cab9eb0>]"
      ]
     },
     "execution_count": 41,
     "metadata": {},
     "output_type": "execute_result"
    },
    {
     "data": {
      "image/png": "[encoded data removed]",
      "text/plain": [
       "<Figure size 640x480 with 4 Axes>"
      ]
     },
     "metadata": {},
     "output_type": "display_data"
    }
   ],
   "source": [
    "fig, axes = plt.subplots(2, 2)\n",
    "fig.tight_layout()\n",
    "axes[0, 0].plot(bfs[0])"
   ]
  },
  {
   "cell_type": "code",
   "execution_count": null,
   "id": "3f877e47",
   "metadata": {},
   "outputs": [],
   "source": [
    "with open('student_file.pkl', 'rb') as f:\n",
    "    student_names_loaded = pickle.load(f) # deserialize using load()\n",
    "    print(student_names_loaded) # print student names"
   ]
  },
  {
   "cell_type": "code",
   "execution_count": 47,
   "id": "9ec1279d",
   "metadata": {},
   "outputs": [
    {
     "data": {
      "text/plain": [
       "array([[ 3,  7],\n",
       "       [ 5, 11]])"
      ]
     },
     "execution_count": 47,
     "metadata": {},
     "output_type": "execute_result"
    }
   ],
   "source": [
    "x = np.array([[1, 2], [3, 4]])\n",
    "y = np.array([[1, 1], [1, 2]])\n",
    "y @ x.T"
   ]
  }
 ],
 "metadata": {
  "kernelspec": {
   "display_name": "Python 3",
   "language": "python",
   "name": "python3"
  },
  "language_info": {
   "codemirror_mode": {
    "name": "ipython",
    "version": 3
   },
   "file_extension": ".py",
   "mimetype": "text/x-python",
   "name": "python",
   "nbconvert_exporter": "python",
   "pygments_lexer": "ipython3",
   "version": "3.9.12"
  }
 },
 "nbformat": 4,
 "nbformat_minor": 5
}
