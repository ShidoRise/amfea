{
 "cells": [
  {
   "cell_type": "code",
   "execution_count": 12,
   "id": "62bd74ef",
   "metadata": {},
   "outputs": [
    {
     "name": "stdout",
     "output_type": "stream",
     "text": [
      "The autoreload extension is already loaded. To reload it, use:\n",
      "  %reload_ext autoreload\n"
     ]
    }
   ],
   "source": [
    "%load_ext autoreload\n",
    "%autoreload 2\n",
    "import numpy as np\n",
    "import pickle\n",
    "import os\n",
    "from mutation import *\n",
    "from crossover import *\n",
    "from rmp import *\n",
    "from mfea import *\n",
    "from task import *\n",
    "from llm import *\n",
    "import matplotlib.pyplot as plt"
   ]
  },
  {
   "cell_type": "code",
   "execution_count": null,
   "id": "a9f72150",
   "metadata": {},
   "outputs": [
    {
     "ename": "NameError",
     "evalue": "name 'get_2_tasks' is not defined",
     "output_type": "error",
     "traceback": [
      "\u001b[1;31m---------------------------------------------------------------------------\u001b[0m",
      "\u001b[1;31mNameError\u001b[0m                                 Traceback (most recent call last)",
      "Cell \u001b[1;32mIn[11], line 1\u001b[0m\n\u001b[1;32m----> 1\u001b[0m cec2017_tasks \u001b[38;5;241m=\u001b[39m \u001b[43mget_2_tasks\u001b[49m()\n",
      "\u001b[1;31mNameError\u001b[0m: name 'get_2_tasks' is not defined"
     ]
    }
   ],
   "source": [
    "cec2017_tasks = get_2_tasks()"
   ]
  },
  {
   "cell_type": "code",
   "execution_count": 37,
   "id": "24701637",
   "metadata": {},
   "outputs": [],
   "source": [
    "gnbg_tasks = []\n",
    "gnbg_tasks.append(GNBGTask(1, 100))\n",
    "gnbg_tasks.append(GNBGTask(2, 100))\n",
    "gnbg_tasks.append(GNBGTask(3, 100))\n",
    "gnbg_tasks.append(GNBGTask(4, 100))\n",
    "gnbg_tasks.append(GNBGTask(5, 100))"
   ]
  },
  {
   "cell_type": "code",
   "execution_count": 26,
   "id": "1242be84",
   "metadata": {},
   "outputs": [
    {
     "name": "stdout",
     "output_type": "stream",
     "text": [
      "sk-505a4ff57cfb432d8888a3d8d66a3133\n"
     ]
    }
   ],
   "source": [
    "\n",
    "API_KEY = os.getenv(\"DEEPSEEK_API_KEY\")\n",
    "print(API_KEY)\n"
   ]
  },
  {
   "cell_type": "code",
   "execution_count": 2,
   "id": "996fca4f",
   "metadata": {},
   "outputs": [],
   "source": [
    "np.random.seed(0)"
   ]
  },
  {
   "cell_type": "code",
   "execution_count": 64,
   "id": "ff17d230",
   "metadata": {},
   "outputs": [],
   "source": [
    "mutation = PolynomialMutation(5, 0.02)\n",
    "crossover = SBXCrossover(mutation)"
   ]
  },
  {
   "cell_type": "code",
   "execution_count": 65,
   "id": "64e33e26",
   "metadata": {},
   "outputs": [
    {
     "name": "stdout",
     "output_type": "stream",
     "text": [
      "(array([[0.7794315 , 0.81083127, 1.        , 0.73176079, 0.12872421],\n",
      "       [0.26247285, 0.42783087, 0.78617018, 0.15658595, 0.83829266],\n",
      "       [0.76469823, 0.4048979 , 0.65179168, 0.4825844 , 0.78472574],\n",
      "       [0.67492619, 0.57603534, 0.27793705, 0.18739663, 0.95179167],\n",
      "       [0.18919698, 0.93249569, 0.91050306, 0.85991671, 0.430823  ],\n",
      "       [0.03847428, 0.87106064, 0.45564594, 0.35977366, 0.42622861],\n",
      "       [0.70281832, 0.11375917, 0.91994065, 0.17777059, 0.15687455],\n",
      "       [0.13270201, 0.80011669, 0.02004039, 0.35316909, 0.6907277 ],\n",
      "       [0.37565957, 0.91186321, 0.11411476, 0.6198274 , 0.60354548],\n",
      "       [0.00559622, 0.64154897, 0.70884256, 0.27929384, 0.45446718],\n",
      "       [0.9662002 , 0.71263881, 0.05491244, 0.98168789, 0.11540637],\n",
      "       [0.34585055, 0.53865634, 0.10937166, 0.88660731, 0.50552206],\n",
      "       [0.58352673, 0.44091173, 0.03858816, 0.04054567, 0.94447261],\n",
      "       [0.13209316, 0.91692294, 0.65936009, 0.22806892, 0.1518967 ],\n",
      "       [0.6650946 , 0.05689601, 0.95618389, 0.51866202, 0.03014084],\n",
      "       [0.76276304, 0.18496303, 0.39451718, 0.09961218, 0.16010653],\n",
      "       [0.17155532, 0.59711303, 0.0227356 , 0.32762579, 0.4251035 ],\n",
      "       [0.68658131, 0.12857868, 0.726422  , 0.76467733, 0.38301621],\n",
      "       [0.84484054, 0.71976296, 0.09412389, 0.99388523, 0.1605355 ],\n",
      "       [0.34134004, 0.18653406, 0.75135068, 0.54780339, 0.3811581 ]]), array([1, 2, 1, 2, 2, 5, 5, 2, 0, 4, 2, 7, 0, 7, 6, 3, 3, 8, 7, 0],\n",
      "      dtype=int32))\n"
     ]
    }
   ],
   "source": [
    "p1 = np.random.uniform(size=(10, 5))\n",
    "p2 = np.random.uniform(size=(10, 5))\n",
    "p1_skill_factor = np.random.randint(0, 10, size=10)\n",
    "p2_skill_factor = np.random.randint(0, 10, size=10)\n",
    "rmp = np.full(10, 0.3)\n",
    "print(crossover(rmp, p1, p2, p1_skill_factor, p2_skill_factor))"
   ]
  },
  {
   "cell_type": "code",
   "execution_count": 69,
   "id": "70978029",
   "metadata": {},
   "outputs": [
    {
     "name": "stdout",
     "output_type": "stream",
     "text": [
      "Initialization:\n",
      "Task 0:\n",
      "Best Fitness: 116447.39949289561\n",
      "Mean Fitness: 166054.41207150585\n",
      "\n",
      "Task 1:\n",
      "Best Fitness: 320421.65828384866\n",
      "Mean Fitness: 483879.92036122526\n",
      "\n",
      "Task 2:\n",
      "Best Fitness: 307194.0732347421\n",
      "Mean Fitness: 481620.5585640305\n",
      "\n",
      "Task 3:\n",
      "Best Fitness: 38.80318640437166\n",
      "Mean Fitness: 50.53773881069812\n",
      "\n",
      "Task 4:\n",
      "Best Fitness: 3785001101.5025334\n",
      "Mean Fitness: 6157219971.659155\n",
      "\n",
      "Task 5:\n",
      "Best Fitness: 21.47632038411661\n",
      "Mean Fitness: 21.723472311046226\n",
      "\n",
      "Task 6:\n",
      "Best Fitness: 79.00326216260231\n",
      "Mean Fitness: 99.53079080509877\n",
      "\n",
      "Task 7:\n",
      "Best Fitness: 17610.413755943737\n",
      "Mean Fitness: 20978.21820874574\n",
      "\n",
      "Task 8:\n",
      "Best Fitness: 85.14513434592668\n",
      "Mean Fitness: 119.90031871918659\n",
      "\n",
      "Task 9:\n",
      "Best Fitness: 83527.26725531454\n",
      "Mean Fitness: 121540.23650576103\n",
      "\n"
     ]
    }
   ],
   "source": [
    "num_indis_per_task = 100\n",
    "indi_len = 50\n",
    "mutation = PolynomialMutation(5, 0.02)\n",
    "crossover = SBXCrossover(mutation, eta=2)\n",
    "# crossover = BLXCrossover()\n",
    "rmp = NormalRMP(0.3)\n",
    "\n",
    "amfea = AMFEA(num_indis_per_task, indi_len, cec2017_tasks, crossover, mutation, rmp)"
   ]
  },
  {
   "cell_type": "code",
   "execution_count": 70,
   "id": "6a667e50",
   "metadata": {
    "scrolled": true
   },
   "outputs": [
    {
     "name": "stdout",
     "output_type": "stream",
     "text": [
      "Gen 0\n",
      "Evaluation count: 2000\n",
      "Task 0, Best: 90283.25, Avg: 136748.2629045791\n",
      "Task 1, Best: 309871.5625, Avg: 409413.2536208033\n",
      "Task 2, Best: 295921.25, Avg: 403424.1723389085\n",
      "Task 3, Best: 34.971981048583984, Avg: 45.28092241337483\n",
      "Task 4, Best: 1771791872.0, Avg: 4461340049.057347\n",
      "Task 5, Best: 21.192007064819336, Avg: 21.58950486135156\n",
      "Task 6, Best: 69.84164428710938, Avg: 91.76126401693837\n",
      "Task 7, Best: 17610.413755943737, Avg: 19402.010910752317\n",
      "Task 8, Best: 85.14513434592668, Avg: 102.59035909887338\n",
      "Task 9, Best: 74008.046875, Avg: 101719.39516368117\n",
      "Time taken each gen: 0.1880 seconds\n",
      "\n",
      "Gen 100\n",
      "Evaluation count: 202000\n",
      "Task 0, Best: 696.3109741210938, Avg: 746.2169409179687\n",
      "Task 1, Best: 625.055908203125, Avg: 1338.2202551269531\n",
      "Task 2, Best: 292.3666687011719, Avg: 492.9252395629883\n",
      "Task 3, Best: 3.458834171295166, Avg: 3.6129266524314883\n",
      "Task 4, Best: 136947.890625, Avg: 158903.89421875\n",
      "Task 5, Best: 8.887727737426758, Avg: 10.072058191299439\n",
      "Task 6, Best: 12.4010009765625, Avg: 13.14198618888855\n",
      "Task 7, Best: 1771.7540283203125, Avg: 1902.6007666015626\n",
      "Task 8, Best: 1.1009516716003418, Avg: 1.1747687888145446\n",
      "Task 9, Best: 1412.552734375, Avg: 1541.5626147460937\n",
      "Time taken each gen: 0.2000 seconds\n",
      "\n",
      "Gen 200\n",
      "Evaluation count: 402000\n",
      "Task 0, Best: 180.08511352539062, Avg: 187.1534799194336\n",
      "Task 1, Best: 55.20259475708008, Avg: 58.684381294250485\n",
      "Task 2, Best: 32.51861572265625, Avg: 34.349723930358884\n",
      "Task 3, Best: 1.2822585105895996, Avg: 1.3503651213645935\n",
      "Task 4, Best: 11316.6572265625, Avg: 11616.939873046875\n",
      "Task 5, Best: 3.547151565551758, Avg: 3.5930287551879885\n",
      "Task 6, Best: 7.195313453674316, Avg: 7.292951331138611\n",
      "Task 7, Best: 217.27337646484375, Avg: 254.2239224243164\n",
      "Task 8, Best: 0.5766547918319702, Avg: 0.6014536625146866\n",
      "Task 9, Best: 338.1907043457031, Avg: 352.27010955810545\n",
      "Time taken each gen: 0.1751 seconds\n",
      "\n",
      "Gen 300\n",
      "Evaluation count: 602000\n",
      "Task 0, Best: 58.722572326660156, Avg: 64.81400245666504\n",
      "Task 1, Best: 17.395776748657227, Avg: 18.154400882720946\n",
      "Task 2, Best: 9.368634223937988, Avg: 10.160274391174317\n",
      "Task 3, Best: 0.694139301776886, Avg: 0.7061917299032211\n",
      "Task 4, Best: 2338.457275390625, Avg: 2508.7763940429686\n",
      "Task 5, Best: 2.476691484451294, Avg: 2.525957238674164\n",
      "Task 6, Best: 4.762442111968994, Avg: 4.821454062461853\n",
      "Task 7, Best: 30.501537322998047, Avg: 35.020876770019534\n",
      "Task 8, Best: 0.2654613256454468, Avg: 0.30058163493871687\n",
      "Task 9, Best: 150.1787872314453, Avg: 159.97359832763672\n",
      "Time taken each gen: 0.1782 seconds\n",
      "\n",
      "Gen 400\n",
      "Evaluation count: 802000\n",
      "Task 0, Best: 24.223649978637695, Avg: 26.038496856689452\n",
      "Task 1, Best: 7.437324523925781, Avg: 7.5679838705062865\n",
      "Task 2, Best: 3.2653658390045166, Avg: 3.295975465774536\n",
      "Task 3, Best: 0.47276321053504944, Avg: 0.47310517460107804\n",
      "Task 4, Best: 748.5420532226562, Avg: 828.7165899658203\n",
      "Task 5, Best: 1.6664444208145142, Avg: 1.760071507692337\n",
      "Task 6, Best: 3.2962734699249268, Avg: 3.3364448738098145\n",
      "Task 7, Best: 11.322330474853516, Avg: 11.79535376548767\n",
      "Task 8, Best: 0.13921160995960236, Avg: 0.14748300418257712\n",
      "Task 9, Best: 76.16726684570312, Avg: 78.77942405700684\n",
      "Time taken each gen: 0.1926 seconds\n",
      "\n",
      "Gen 500\n",
      "Evaluation count: 1002000\n",
      "Task 0, Best: 11.393829345703125, Avg: 11.873544397354125\n",
      "Task 1, Best: 1.8144077062606812, Avg: 1.9461255693435668\n",
      "Task 2, Best: 1.319587230682373, Avg: 1.3730417001247406\n",
      "Task 3, Best: 0.41006794571876526, Avg: 0.41010673820972443\n",
      "Task 4, Best: 442.8825988769531, Avg: 456.9608053588867\n",
      "Task 5, Best: 0.770358681678772, Avg: 0.7994771659374237\n",
      "Task 6, Best: 2.473182439804077, Avg: 2.504154064655304\n",
      "Task 7, Best: 4.497489929199219, Avg: 5.105052189826965\n",
      "Task 8, Best: 0.09052572399377823, Avg: 0.09125062048435212\n",
      "Task 9, Best: 47.549842834472656, Avg: 48.98455333709717\n",
      "Time taken each gen: 0.1767 seconds\n",
      "\n",
      "Gen 600\n",
      "Evaluation count: 1202000\n",
      "Task 0, Best: 4.9950385093688965, Avg: 5.141025185585022\n",
      "Task 1, Best: 0.9301364421844482, Avg: 0.9410371845960617\n",
      "Task 2, Best: 0.7507322430610657, Avg: 0.7787488698959351\n",
      "Task 3, Best: 0.2528546154499054, Avg: 0.25361584246158597\n",
      "Task 4, Best: 309.303466796875, Avg: 311.2962045288086\n",
      "Task 5, Best: 0.4563133418560028, Avg: 0.4945607954263687\n",
      "Task 6, Best: 1.8276180028915405, Avg: 1.840899237394333\n",
      "Task 7, Best: 2.568899154663086, Avg: 2.652066843509674\n",
      "Task 8, Best: 0.06100881099700928, Avg: 0.06425427474081516\n",
      "Task 9, Best: 33.706817626953125, Avg: 33.91184013366699\n",
      "Time taken each gen: 0.1902 seconds\n",
      "\n",
      "Gen 700\n",
      "Evaluation count: 1402000\n",
      "Task 0, Best: 2.631028890609741, Avg: 2.6956056427955626\n",
      "Task 1, Best: 0.44009801745414734, Avg: 0.45466710925102233\n",
      "Task 2, Best: 0.337980180978775, Avg: 0.34101260364055636\n",
      "Task 3, Best: 0.198428213596344, Avg: 0.19843033224344253\n",
      "Task 4, Best: 260.1714782714844, Avg: 261.3003256225586\n",
      "Task 5, Best: 0.29884982109069824, Avg: 0.3050654637813568\n",
      "Task 6, Best: 1.4759169816970825, Avg: 1.4794529116153716\n",
      "Task 7, Best: 1.365538239479065, Avg: 1.4192333829402923\n",
      "Task 8, Best: 0.05109112337231636, Avg: 0.05153657253831625\n",
      "Task 9, Best: 26.08152961730957, Avg: 26.48553960800171\n",
      "Time taken each gen: 0.2053 seconds\n",
      "\n",
      "Gen 800\n",
      "Evaluation count: 1602000\n",
      "Task 0, Best: 1.7431719303131104, Avg: 1.7984776127338409\n",
      "Task 1, Best: 0.30173173546791077, Avg: 0.30765402644872664\n",
      "Task 2, Best: 0.23961114883422852, Avg: 0.24445033967494964\n",
      "Task 3, Best: 0.1807231307029724, Avg: 0.1807231307029724\n",
      "Task 4, Best: 101.04242706298828, Avg: 102.65849075317382\n",
      "Task 5, Best: 0.23391883075237274, Avg: 0.23716455057263375\n",
      "Task 6, Best: 1.1978397369384766, Avg: 1.218898562192917\n",
      "Task 7, Best: 0.918921947479248, Avg: 0.9253132456541061\n",
      "Task 8, Best: 0.038307074457407, Avg: 0.03839329458773136\n",
      "Task 9, Best: 17.57858657836914, Avg: 17.813619136810303\n",
      "Time taken each gen: 0.1988 seconds\n",
      "\n",
      "Gen 900\n",
      "Evaluation count: 1802000\n",
      "Task 0, Best: 0.8237627744674683, Avg: 0.8278803902864457\n",
      "Task 1, Best: 0.16688241064548492, Avg: 0.17591471940279008\n",
      "Task 2, Best: 0.15798096358776093, Avg: 0.15869588270783425\n",
      "Task 3, Best: 0.1807231307029724, Avg: 0.1807231307029724\n",
      "Task 4, Best: 82.0096664428711, Avg: 82.91472351074219\n",
      "Task 5, Best: 0.1586754024028778, Avg: 0.16397894978523253\n",
      "Task 6, Best: 1.043381690979004, Avg: 1.045972626209259\n",
      "Task 7, Best: 0.5312089920043945, Avg: 0.5336898773908615\n",
      "Task 8, Best: 0.03418782725930214, Avg: 0.03430414505302906\n",
      "Task 9, Best: 11.321898460388184, Avg: 12.055559110641479\n",
      "Time taken each gen: 0.1897 seconds\n",
      "\n",
      "Gen 1000\n",
      "Evaluation count: 2002000\n",
      "Task 0, Best: 0.536117434501648, Avg: 0.5376994550228119\n",
      "Task 1, Best: 0.07981037348508835, Avg: 0.08194664910435677\n",
      "Task 2, Best: 0.11520235240459442, Avg: 0.11761301167309285\n",
      "Task 3, Best: 0.1206471174955368, Avg: 0.12064712934195995\n",
      "Task 4, Best: 60.73545837402344, Avg: 60.89477565765381\n",
      "Task 5, Best: 0.10116840898990631, Avg: 0.10206351526081563\n",
      "Task 6, Best: 0.9041344523429871, Avg: 0.9140278005599975\n",
      "Task 7, Best: 0.3193446397781372, Avg: 0.3233588969707489\n",
      "Task 8, Best: 0.03165993466973305, Avg: 0.031743996143341065\n",
      "Task 9, Best: 6.96599817276001, Avg: 7.203651442527771\n",
      "Time taken each gen: 0.2100 seconds\n",
      "\n"
     ]
    }
   ],
   "source": [
    "bfs, mfs = amfea.fit(num_gen=1000, monitor=True, monitor_rate=100)"
   ]
  },
  {
   "cell_type": "code",
   "execution_count": null,
   "id": "63681614",
   "metadata": {},
   "outputs": [
    {
     "name": "stdout",
     "output_type": "stream",
     "text": [
      "2182358\n"
     ]
    }
   ],
   "source": [
    "print(amfea.eval_cnt)"
   ]
  },
  {
   "cell_type": "code",
   "execution_count": null,
   "id": "136b9a28",
   "metadata": {},
   "outputs": [
    {
     "name": "stdout",
     "output_type": "stream",
     "text": [
      "[1.92707397e-01 9.28115568e-01 1.95030332e-01 9.19464883e-01\n",
      " 7.00052070e-01 1.94086735e-01 9.32649332e-01 2.01325155e-01\n",
      " 3.79375448e-01 6.99848299e-01 1.94312757e-01 1.91218354e-01\n",
      " 9.32632332e-01 7.04786795e-01 1.85863576e-01 2.03263489e-01\n",
      " 6.95277561e-01 9.17992806e-01 9.40317772e-01 9.22242633e-01\n",
      " 7.15224694e-01 2.01667188e-01 7.00697586e-01 1.83446501e-01\n",
      " 7.04126343e-01 1.93066440e-01 7.03597835e-01 9.20387664e-01\n",
      " 7.05086955e-01 7.20233286e-04 7.07544023e-01 9.28164487e-01\n",
      " 1.85552661e-01 1.80195522e-01 2.14168065e-01 1.89942223e-01\n",
      " 7.02260894e-01 7.04083201e-01 9.23887402e-01 3.15534153e-03\n",
      " 9.19865290e-01 7.02337478e-01 9.06982242e-01 9.22580845e-01\n",
      " 6.97567082e-01 7.06233374e-01 7.08674613e-01 1.98085688e-01\n",
      " 9.28875413e-01 1.99998422e-01]\n",
      "[6637.95167233]\n"
     ]
    }
   ],
   "source": [
    "for i in range(len(amfea.pop[:701])):\n",
    "    if amfea.skill_factor[i] == 7:\n",
    "        x = amfea.pop[i]\n",
    "        print(x)\n",
    "        print(SchwefelTask.fitness(np.array([x])))"
   ]
  },
  {
   "cell_type": "code",
   "execution_count": null,
   "id": "e3295c50",
   "metadata": {},
   "outputs": [
    {
     "name": "stdout",
     "output_type": "stream",
     "text": [
      "0.9795161081006124\n"
     ]
    }
   ],
   "source": [
    "print(np.max(amfea.pop))"
   ]
  },
  {
   "cell_type": "code",
   "execution_count": 4,
   "id": "88fdd99b",
   "metadata": {},
   "outputs": [],
   "source": [
    "dim = 50\n",
    "schwefel_shift = np.full(dim, 0)\n",
    "schwefel = Schwefel(50, schwefel_shift)"
   ]
  },
  {
   "cell_type": "code",
   "execution_count": 5,
   "id": "f0181778",
   "metadata": {},
   "outputs": [
    {
     "data": {
      "text/plain": [
       "array([21553.29522811])"
      ]
     },
     "execution_count": 5,
     "metadata": {},
     "output_type": "execute_result"
    }
   ],
   "source": [
    "x_test = np.random.uniform(0, 1, size=dim)\n",
    "SchwefelTask = CEC17Task(schwefel, 500)\n",
    "SchwefelTask.fitness(np.array([x_test]))"
   ]
  },
  {
   "cell_type": "code",
   "execution_count": 6,
   "id": "3aad6bff",
   "metadata": {},
   "outputs": [
    {
     "name": "stdout",
     "output_type": "stream",
     "text": [
      "[0.0709671  0.70162416 0.82500378 0.59171738 0.31201308 0.27791308\n",
      " 0.59944379 0.13117884 0.84688716 0.26178407 0.84700825 0.25641774\n",
      " 0.25067366 0.0291892  0.22005961 0.39770238 0.59431677 0.83778735\n",
      " 0.57738364 0.28016288 0.94905329 0.22062306 0.07731988 0.77346391\n",
      " 0.43104826 0.46027146 0.43524515 0.31074158 0.93590086 0.16976581\n",
      " 0.00684518 0.41392874 0.43715647 0.28218279 0.76430868 0.98080144\n",
      " 0.58706816 0.15573434 0.76121126 0.40208163 0.49510657 0.12566194\n",
      " 0.72668887 0.11085828 0.91590536 0.30972702 0.93962638 0.65592678\n",
      " 0.68699463 0.88730101]\n"
     ]
    }
   ],
   "source": [
    "print(x_test)"
   ]
  },
  {
   "cell_type": "code",
   "execution_count": 7,
   "id": "6aad89ee",
   "metadata": {},
   "outputs": [
    {
     "name": "stdout",
     "output_type": "stream",
     "text": [
      "[164653.77602241]\n",
      "[506484.7290924]\n",
      "[462822.82295242]\n",
      "[51.62977499]\n",
      "[5.66607615e+09]\n",
      "[21.61071135]\n",
      "[99.04091139]\n",
      "[21553.29522811]\n",
      "[109.39305966]\n",
      "[134383.12832027]\n"
     ]
    }
   ],
   "source": [
    "super_tasks = get_10_tasks()\n",
    "for task in super_tasks:\n",
    "    print(task.fitness(np.array([x_test])))"
   ]
  },
  {
   "cell_type": "code",
   "execution_count": 8,
   "id": "b24c064a",
   "metadata": {},
   "outputs": [],
   "source": [
    "with open('x_test.pkl', 'wb') as f:\n",
    "    pickle.dump(x_test, f)\n",
    "f.close()"
   ]
  }
 ],
 "metadata": {
  "kernelspec": {
   "display_name": "Python 3",
   "language": "python",
   "name": "python3"
  },
  "language_info": {
   "codemirror_mode": {
    "name": "ipython",
    "version": 3
   },
   "file_extension": ".py",
   "mimetype": "text/x-python",
   "name": "python",
   "nbconvert_exporter": "python",
   "pygments_lexer": "ipython3",
   "version": "3.9.12"
  }
 },
 "nbformat": 4,
 "nbformat_minor": 5
}
