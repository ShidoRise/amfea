{
 "cells": [
  {
   "cell_type": "code",
   "execution_count": 64,
   "id": "62bd74ef",
   "metadata": {},
   "outputs": [
    {
     "name": "stdout",
     "output_type": "stream",
     "text": [
      "The autoreload extension is already loaded. To reload it, use:\n",
      "  %reload_ext autoreload\n"
     ]
    }
   ],
   "source": [
    "%load_ext autoreload\n",
    "%autoreload 2\n",
    "import numpy as np\n",
    "import pickle\n",
    "import os\n",
    "from mutation import *\n",
    "from crossover import *\n",
    "from rmp import *\n",
    "from mfea import *\n",
    "from task import *\n",
    "from llm import *\n",
    "import matplotlib.pyplot as plt"
   ]
  },
  {
   "cell_type": "code",
   "execution_count": 79,
   "id": "a9f72150",
   "metadata": {},
   "outputs": [],
   "source": [
    "cec2017_tasks = get_10_tasks()"
   ]
  },
  {
   "cell_type": "code",
   "execution_count": 66,
   "id": "24701637",
   "metadata": {},
   "outputs": [],
   "source": [
    "gnbg_tasks = []\n",
    "gnbg_tasks.append(GNBGTask(1, 100))\n",
    "gnbg_tasks.append(GNBGTask(2, 100))\n",
    "gnbg_tasks.append(GNBGTask(3, 100))\n",
    "gnbg_tasks.append(GNBGTask(4, 100))\n",
    "gnbg_tasks.append(GNBGTask(5, 100))"
   ]
  },
  {
   "cell_type": "code",
   "execution_count": 67,
   "id": "1242be84",
   "metadata": {},
   "outputs": [
    {
     "name": "stdout",
     "output_type": "stream",
     "text": [
      "sk-505a4ff57cfb432d8888a3d8d66a3133\n"
     ]
    }
   ],
   "source": [
    "\n",
    "API_KEY = os.getenv(\"DEEPSEEK_API_KEY\")\n",
    "print(API_KEY)\n"
   ]
  },
  {
   "cell_type": "code",
   "execution_count": 80,
   "id": "996fca4f",
   "metadata": {},
   "outputs": [],
   "source": [
    "np.random.seed(0)"
   ]
  },
  {
   "cell_type": "code",
   "execution_count": 98,
   "id": "ff17d230",
   "metadata": {},
   "outputs": [],
   "source": [
    "mutation = PolynomialMutation(5, 0.02)\n",
    "crossover = SBXCrossover(mutation)"
   ]
  },
  {
   "cell_type": "code",
   "execution_count": 70,
   "id": "f6679ed7",
   "metadata": {},
   "outputs": [],
   "source": [
    "def rmp_matrix_to_array(rmp_matrix, p1_skill_factor, p2_skill_factor):\n",
    "    return rmp_matrix[p1_skill_factor, p2_skill_factor]"
   ]
  },
  {
   "cell_type": "code",
   "execution_count": null,
   "id": "33f263ce",
   "metadata": {},
   "outputs": [],
   "source": []
  },
  {
   "cell_type": "code",
   "execution_count": 82,
   "id": "528aa919",
   "metadata": {},
   "outputs": [
    {
     "name": "stdout",
     "output_type": "stream",
     "text": [
      "10\n"
     ]
    }
   ],
   "source": [
    "print(len(cec2017_tasks))"
   ]
  },
  {
   "cell_type": "code",
   "execution_count": 108,
   "id": "64e33e26",
   "metadata": {},
   "outputs": [],
   "source": [
    "p1 = np.random.uniform(size=(10, 50))\n",
    "p2 = np.random.uniform(size=(10, 50))\n",
    "p1_skill_factor = np.random.randint(0, 2, size=10)\n",
    "p2_skill_factor = np.random.randint(0, 2, size=10)\n",
    "p1_fitness = np.random.uniform(size=10)\n",
    "p2_fitness = np.random.uniform(size=10)\n",
    "rmp = np.full(shape=(2, 2), fill_value=0.3)\n",
    "off, off_skill_factor, off_fitness = crossover(rmp, p1, p2, p1_skill_factor, p2_skill_factor, p1_fitness, p2_fitness, cec2017_tasks, eval=False)"
   ]
  },
  {
   "cell_type": "code",
   "execution_count": 109,
   "id": "90310df1",
   "metadata": {},
   "outputs": [
    {
     "name": "stdout",
     "output_type": "stream",
     "text": [
      "1.0\n"
     ]
    }
   ],
   "source": [
    "print(np.max(off))"
   ]
  },
  {
   "cell_type": "code",
   "execution_count": 110,
   "id": "5dfdebe5",
   "metadata": {},
   "outputs": [
    {
     "data": {
      "text/plain": [
       "array([0.3, 0.3, 0.3, 0.3, 0.3, 0.3, 0.3, 0.3, 0.3, 0.3])"
      ]
     },
     "execution_count": 110,
     "metadata": {},
     "output_type": "execute_result"
    }
   ],
   "source": [
    "rmp_matrix_to_array(rmp, p1_skill_factor, p2_skill_factor)"
   ]
  },
  {
   "cell_type": "code",
   "execution_count": 111,
   "id": "70978029",
   "metadata": {},
   "outputs": [
    {
     "name": "stdout",
     "output_type": "stream",
     "text": [
      "Initialization:\n",
      "Task 0:\n",
      "Best Fitness: 119842.55426057834\n",
      "Mean Fitness: 166914.40365790948\n",
      "\n",
      "Task 1:\n",
      "Best Fitness: 286232.7192528038\n",
      "Mean Fitness: 479307.9406127449\n",
      "\n",
      "Task 2:\n",
      "Best Fitness: 283083.5698670431\n",
      "Mean Fitness: 496826.4379942231\n",
      "\n",
      "Task 3:\n",
      "Best Fitness: 42.39640202260273\n",
      "Mean Fitness: 50.16789220889359\n",
      "\n",
      "Task 4:\n",
      "Best Fitness: 3999747949.703829\n",
      "Mean Fitness: 6252286973.801757\n",
      "\n",
      "Task 5:\n",
      "Best Fitness: 21.52808381676207\n",
      "Mean Fitness: 21.72840820145346\n",
      "\n",
      "Task 6:\n",
      "Best Fitness: 79.66764684732715\n",
      "Mean Fitness: 100.24664040966618\n",
      "\n",
      "Task 7:\n",
      "Best Fitness: 17240.220948277405\n",
      "Mean Fitness: 20636.451886385476\n",
      "\n",
      "Task 8:\n",
      "Best Fitness: 82.03549955086858\n",
      "Mean Fitness: 124.88187583003565\n",
      "\n",
      "Task 9:\n",
      "Best Fitness: 83574.14871569995\n",
      "Mean Fitness: 123224.37864086946\n",
      "\n"
     ]
    }
   ],
   "source": [
    "num_indis_per_task = 50\n",
    "indi_len = 50\n",
    "mutation = PolynomialMutation(5, 0.02)\n",
    "crossover = SBXCrossover(mutation, eta=2)\n",
    "# crossover = BLXCrossover()\n",
    "rmp = NormalRMP(0.3)\n",
    "\n",
    "amfea = AMFEA(num_indis_per_task, indi_len, cec2017_tasks, crossover, mutation, rmp)"
   ]
  },
  {
   "cell_type": "code",
   "execution_count": null,
   "id": "6a667e50",
   "metadata": {
    "scrolled": true
   },
   "outputs": [
    {
     "name": "stdout",
     "output_type": "stream",
     "text": [
      "Gen 0\n",
      "Evaluation count: 0\n",
      "Task 0, Best: 113526.77820368408, Avg: 142386.16687863832\n",
      "Task 1, Best: 301545.9860046316, Avg: 404260.462538067\n",
      "Task 2, Best: 367644.6961715585, Avg: 432549.4961056955\n",
      "Task 3, Best: 38.22277568263915, Avg: 45.3887449915617\n",
      "Task 4, Best: 2055919034.3642907, Avg: 4366987481.996906\n",
      "Task 5, Best: 21.49657955037943, Avg: 21.63475456187017\n",
      "Task 6, Best: 85.59006484135281, Avg: 93.98963357426595\n",
      "Task 7, Best: 16530.459241479053, Avg: 19172.95885243127\n",
      "Task 8, Best: 83.30767653656936, Avg: 107.74565319304203\n",
      "Task 9, Best: 82229.1042864103, Avg: 106180.97253099621\n",
      "Time taken each gen: 0.1291 seconds\n",
      "\n"
     ]
    }
   ],
   "source": [
    "bfs, mfs = amfea.fit(num_gen=1000, monitor=True, monitor_rate=100)"
   ]
  },
  {
   "cell_type": "code",
   "execution_count": 90,
   "id": "24a6afef",
   "metadata": {},
   "outputs": [
    {
     "name": "stdout",
     "output_type": "stream",
     "text": [
      "0.9999784003327589\n"
     ]
    }
   ],
   "source": [
    "print(np.max(amfea.pop))"
   ]
  },
  {
   "cell_type": "code",
   "execution_count": null,
   "id": "88fdd99b",
   "metadata": {},
   "outputs": [],
   "source": [
    "dim = 50\n",
    "schwefel_shift = np.full(dim, 0)\n",
    "schwefel = Schwefel(50, schwefel_shift)"
   ]
  },
  {
   "cell_type": "code",
   "execution_count": null,
   "id": "f0181778",
   "metadata": {},
   "outputs": [
    {
     "data": {
      "text/plain": [
       "array([19624.00486413])"
      ]
     },
     "execution_count": 23,
     "metadata": {},
     "output_type": "execute_result"
    }
   ],
   "source": [
    "x_test = np.random.uniform(0, 1, size=dim)\n",
    "SchwefelTask = CEC17Task(schwefel, 500)\n",
    "SchwefelTask.fitness(np.array([x_test]))"
   ]
  },
  {
   "cell_type": "code",
   "execution_count": null,
   "id": "3aad6bff",
   "metadata": {},
   "outputs": [
    {
     "name": "stdout",
     "output_type": "stream",
     "text": [
      "[0.18541045 0.10918362 0.41620666 0.05202045 0.73581345 0.10242111\n",
      " 0.27975593 0.500361   0.28994784 0.69074022 0.43137988 0.69181414\n",
      " 0.18295413 0.60222251 0.94836878 0.83444372 0.74597701 0.29911743\n",
      " 0.86886052 0.66123358 0.01325606 0.14413201 0.93982458 0.31279125\n",
      " 0.83371066 0.9945565  0.37324847 0.94440294 0.76597573 0.93927236\n",
      " 0.73464583 0.73928831 0.24930223 0.86097878 0.48044106 0.70032713\n",
      " 0.18992072 0.18732098 0.34944063 0.67636843 0.45803565 0.81829454\n",
      " 0.77605716 0.66082975 0.67077776 0.39174871 0.01667886 0.62422151\n",
      " 0.90594216 0.4268725 ]\n"
     ]
    }
   ],
   "source": [
    "print(x_test)"
   ]
  },
  {
   "cell_type": "code",
   "execution_count": null,
   "id": "6aad89ee",
   "metadata": {},
   "outputs": [
    {
     "ename": "NameError",
     "evalue": "name 'get_2_tasks' is not defined",
     "output_type": "error",
     "traceback": [
      "\u001b[1;31m---------------------------------------------------------------------------\u001b[0m",
      "\u001b[1;31mNameError\u001b[0m                                 Traceback (most recent call last)",
      "Cell \u001b[1;32mIn[1], line 1\u001b[0m\n\u001b[1;32m----> 1\u001b[0m super_tasks \u001b[38;5;241m=\u001b[39m \u001b[43mget_2_tasks\u001b[49m(\u001b[38;5;241m1\u001b[39m)\n\u001b[0;32m      2\u001b[0m \u001b[38;5;28;01mfor\u001b[39;00m task \u001b[38;5;129;01min\u001b[39;00m super_tasks:\n\u001b[0;32m      3\u001b[0m     \u001b[38;5;28mprint\u001b[39m(task\u001b[38;5;241m.\u001b[39mfitness(np\u001b[38;5;241m.\u001b[39marray([x_test])))\n",
      "\u001b[1;31mNameError\u001b[0m: name 'get_2_tasks' is not defined"
     ]
    }
   ],
   "source": [
    "super_tasks = get_2_tasks(1)\n",
    "for task in super_tasks:\n",
    "    print(task.fitness(np.array([x_test])))"
   ]
  },
  {
   "cell_type": "code",
   "execution_count": null,
   "id": "b24c064a",
   "metadata": {},
   "outputs": [],
   "source": [
    "with open('x_test.pkl', 'wb') as f:\n",
    "    pickle.dump(x_test, f)\n",
    "f.close()"
   ]
  },
  {
   "cell_type": "code",
   "execution_count": null,
   "id": "2c88785f",
   "metadata": {},
   "outputs": [
    {
     "name": "stdout",
     "output_type": "stream",
     "text": [
      "[4 5 6]\n"
     ]
    }
   ],
   "source": [
    "#test \n",
    "p = np.array([1, 2, 3])\n",
    "def f(p):\n",
    "    p += 3\n",
    "f(p)\n",
    "print(p)"
   ]
  }
 ],
 "metadata": {
  "kernelspec": {
   "display_name": "Python 3",
   "language": "python",
   "name": "python3"
  },
  "language_info": {
   "codemirror_mode": {
    "name": "ipython",
    "version": 3
   },
   "file_extension": ".py",
   "mimetype": "text/x-python",
   "name": "python",
   "nbconvert_exporter": "python",
   "pygments_lexer": "ipython3",
   "version": "3.9.12"
  }
 },
 "nbformat": 4,
 "nbformat_minor": 5
}
