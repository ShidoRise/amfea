{
 "cells": [
  {
   "cell_type": "code",
   "execution_count": 15,
   "id": "76bca8f0",
   "metadata": {},
   "outputs": [
    {
     "name": "stdout",
     "output_type": "stream",
     "text": [
      "The autoreload extension is already loaded. To reload it, use:\n",
      "  %reload_ext autoreload\n"
     ]
    }
   ],
   "source": [
    "%load_ext autoreload\n",
    "%autoreload 2\n",
    "import numpy as np\n",
    "from mutation import *\n",
    "from crossover import *\n",
    "from rmp import *"
   ]
  },
  {
   "cell_type": "code",
   "execution_count": 12,
   "id": "f40d99a9",
   "metadata": {},
   "outputs": [
    {
     "data": {
      "text/plain": [
       "(array([[ 8.517385 ,  9.101417 ,  8.417903 , 10.       ,  9.942884 ],\n",
       "        [10.       ,  9.995075 , 10.       , 10.       , 10.       ],\n",
       "        [ 9.674025 ,  8.186938 ,  8.347168 , 10.       ,  8.757153 ],\n",
       "        [ 8.877822 ,  8.050218 , 10.       , 10.       ,  9.124175 ],\n",
       "        [ 8.094106 , 10.       , 10.       , 10.       , 10.       ],\n",
       "        [10.       , 10.       ,  9.505994 , 10.       ,  9.325687 ],\n",
       "        [10.       , 10.       , 10.       , 10.       , 10.       ],\n",
       "        [ 9.450962 ,  8.971153 ,  8.453933 , 10.       ,  9.097835 ],\n",
       "        [10.       ,  8.725991 , 10.       ,  8.5836525, 10.       ],\n",
       "        [10.       , 10.       , 10.       , 10.       , 10.       ]],\n",
       "       dtype=float32),\n",
       " array([0, 1, 1, 0, 0, 1, 1, 0, 0, 1], dtype=int32))"
      ]
     },
     "execution_count": 12,
     "metadata": {},
     "output_type": "execute_result"
    }
   ],
   "source": [
    "p = np.full((10, 5), 10.0, dtype=np.float32)\n",
    "skf = np.random.randint(0, 2, 10)\n",
    "am = AdditiveMutation(10.0, 2.0)\n",
    "am(p, skf)"
   ]
  },
  {
   "cell_type": "code",
   "execution_count": 14,
   "id": "e62b8583",
   "metadata": {},
   "outputs": [
    {
     "data": {
      "text/plain": [
       "(array([[10., 10., 10., 10., 10.],\n",
       "        [10., 10., 10., 10., 10.],\n",
       "        [10., 10., 10., 10., 10.]]),\n",
       " array([0, 1, 0], dtype=int32))"
      ]
     },
     "execution_count": 14,
     "metadata": {},
     "output_type": "execute_result"
    }
   ],
   "source": [
    "crs = ArithmeticCrossover()\n",
    "rmp = NormalRMP()\n",
    "\n",
    "crs(rmp(10), p, p, skf, skf)"
   ]
  },
  {
   "cell_type": "code",
   "execution_count": 4,
   "id": "5707d7a1",
   "metadata": {},
   "outputs": [
    {
     "data": {
      "text/plain": [
       "array([0.3, 0.3, 0.3, 0.3, 0.3])"
      ]
     },
     "execution_count": 4,
     "metadata": {},
     "output_type": "execute_result"
    }
   ],
   "source": [
    "rmp(5)"
   ]
  }
 ],
 "metadata": {
  "kernelspec": {
   "display_name": "Python 3",
   "language": "python",
   "name": "python3"
  },
  "language_info": {
   "codemirror_mode": {
    "name": "ipython",
    "version": 3
   },
   "file_extension": ".py",
   "mimetype": "text/x-python",
   "name": "python",
   "nbconvert_exporter": "python",
   "pygments_lexer": "ipython3",
   "version": "3.9.12"
  }
 },
 "nbformat": 4,
 "nbformat_minor": 5
}
