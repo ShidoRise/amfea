{
 "cells": [
  {
   "cell_type": "code",
   "execution_count": 33,
   "id": "62bd74ef",
   "metadata": {},
   "outputs": [
    {
     "name": "stdout",
     "output_type": "stream",
     "text": [
      "The autoreload extension is already loaded. To reload it, use:\n",
      "  %reload_ext autoreload\n"
     ]
    }
   ],
   "source": [
    "%load_ext autoreload\n",
    "%autoreload 2\n",
    "import numpy as np\n",
    "import pickle\n",
    "import os\n",
    "from mutation import *\n",
    "from crossover import *\n",
    "from rmp import *\n",
    "from mfea import *\n",
    "from task import *\n",
    "from llm import *\n",
    "import matplotlib.pyplot as plt"
   ]
  },
  {
   "cell_type": "code",
   "execution_count": 34,
   "id": "a9f72150",
   "metadata": {},
   "outputs": [],
   "source": [
    "cec2017_tasks = get_10_tasks()"
   ]
  },
  {
   "cell_type": "code",
   "execution_count": 37,
   "id": "24701637",
   "metadata": {},
   "outputs": [],
   "source": [
    "gnbg_tasks = []\n",
    "gnbg_tasks.append(GNBGTask(1, 100))\n",
    "gnbg_tasks.append(GNBGTask(2, 100))\n",
    "gnbg_tasks.append(GNBGTask(3, 100))\n",
    "gnbg_tasks.append(GNBGTask(4, 100))\n",
    "gnbg_tasks.append(GNBGTask(5, 100))"
   ]
  },
  {
   "cell_type": "code",
   "execution_count": 26,
   "id": "1242be84",
   "metadata": {},
   "outputs": [
    {
     "name": "stdout",
     "output_type": "stream",
     "text": [
      "sk-505a4ff57cfb432d8888a3d8d66a3133\n"
     ]
    }
   ],
   "source": [
    "\n",
    "API_KEY = os.getenv(\"DEEPSEEK_API_KEY\")\n",
    "print(API_KEY)\n"
   ]
  },
  {
   "cell_type": "code",
   "execution_count": 2,
   "id": "996fca4f",
   "metadata": {},
   "outputs": [],
   "source": [
    "np.random.seed(0)"
   ]
  },
  {
   "cell_type": "code",
   "execution_count": 19,
   "id": "ff17d230",
   "metadata": {},
   "outputs": [],
   "source": [
    "mutation = PolynomialMutation(5, 0.1)\n",
    "crossover = SBXCrossover(mutation)"
   ]
  },
  {
   "cell_type": "code",
   "execution_count": 20,
   "id": "64e33e26",
   "metadata": {},
   "outputs": [
    {
     "name": "stdout",
     "output_type": "stream",
     "text": [
      "(array([[0.48907732, 0.21755999, 0.38282867, 0.24502553, 0.38761506],\n",
      "       [0.25702345, 0.51651566, 0.41216283, 0.62994366, 0.30246677],\n",
      "       [0.29330261, 0.16726568, 0.96330419, 0.49164913, 0.58479895],\n",
      "       [0.93257398, 0.79978351, 0.51145685, 0.04501065, 0.27360551],\n",
      "       [0.91755921, 0.2466678 , 0.16830929, 0.85676823, 0.67986795],\n",
      "       [0.33830493, 0.37590454, 0.29916411, 0.22162368, 0.54668233],\n",
      "       [0.26543292, 0.67768779, 0.0042077 , 0.06198635, 0.66880384],\n",
      "       [0.20565835, 0.10719216, 0.33144878, 0.52079129, 0.97023498],\n",
      "       [0.9152389 , 0.        , 0.31353523, 0.52489001, 0.98670348],\n",
      "       [0.71376043, 0.86902526, 0.53801804, 0.2645594 , 0.39786925],\n",
      "       [0.7984426 , 0.4955613 , 0.82089615, 0.97791707, 0.58542042],\n",
      "       [0.52776594, 0.69569761, 0.57516585, 0.94148554, 0.23392645],\n",
      "       [0.36224576, 0.56844494, 0.77220572, 0.59651301, 0.23630839],\n",
      "       [0.02502096, 0.91025351, 0.26328723, 0.43930677, 0.20838595],\n",
      "       [0.87963117, 0.16182006, 0.43728935, 0.13623643, 0.1272122 ],\n",
      "       [0.32230072, 0.64946132, 0.49621577, 0.90409349, 0.20503342],\n",
      "       [0.03477424, 0.18773212, 0.87994292, 0.2965849 , 0.21578047],\n",
      "       [0.03603631, 0.56855121, 0.87959733, 0.36149174, 0.11980146],\n",
      "       [0.60663913, 0.15684728, 0.28619983, 0.91906696, 0.72958755],\n",
      "       [0.10344789, 0.88044502, 0.46708058, 0.56863755, 0.75293539]]), array([1, 0, 1, 7, 8, 1, 0, 1, 7, 8, 7, 9, 5, 7, 9, 8, 5, 1, 1, 4],\n",
      "      dtype=int32))\n"
     ]
    }
   ],
   "source": [
    "p1 = np.random.uniform(size=(10, 5))\n",
    "p2 = np.random.uniform(size=(10, 5))\n",
    "p1_skill_factor = np.random.randint(0, 10, size=10)\n",
    "p2_skill_factor = np.random.randint(0, 10, size=10)\n",
    "rmp = np.full(10, 0.3)\n",
    "print(crossover(rmp, p1, p2, p1_skill_factor, p2_skill_factor))"
   ]
  },
  {
   "cell_type": "code",
   "execution_count": 39,
   "id": "70978029",
   "metadata": {},
   "outputs": [
    {
     "name": "stdout",
     "output_type": "stream",
     "text": [
      "Initialization:\n",
      "Task 0:\n",
      "Best Fitness: 65026.655883979685\n",
      "Mean Fitness: 173836.13839391872\n",
      "\n",
      "Task 1:\n",
      "Best Fitness: -701.3558613102514\n",
      "Mean Fitness: -701.3067565493777\n",
      "\n",
      "Task 2:\n",
      "Best Fitness: 43565610040.70057\n",
      "Mean Fitness: 92497802201.73515\n",
      "\n",
      "Task 3:\n",
      "Best Fitness: 494268.3626899761\n",
      "Mean Fitness: 905392.8543643093\n",
      "\n",
      "Task 4:\n",
      "Best Fitness: -334.1558493846376\n",
      "Mean Fitness: -333.9955164514848\n",
      "\n"
     ]
    }
   ],
   "source": [
    "num_indis_per_task = 100\n",
    "indi_len = 30\n",
    "mutation = PolynomialMutation(5, 0.02)\n",
    "crossover = SBXCrossover(mutation)\n",
    "# crossover = BLXCrossover()\n",
    "rmp = NormalRMP(0.3)\n",
    "\n",
    "amfea = AMFEA(num_indis_per_task, indi_len, gnbg_tasks, crossover, mutation, rmp)"
   ]
  },
  {
   "cell_type": "code",
   "execution_count": 40,
   "id": "6a667e50",
   "metadata": {
    "scrolled": true
   },
   "outputs": [
    {
     "name": "stdout",
     "output_type": "stream",
     "text": [
      "Gen 0\n",
      "Evaluation count: 1000\n",
      "Task 0, Best: 63274.89453125, Avg: 127928.16670243123\n",
      "Task 1, Best: -701.3966064453125, Avg: -701.3309232677599\n",
      "Task 2, Best: 43565608960.0, Avg: 68497121021.8612\n",
      "Task 3, Best: 477495.0, Avg: 638126.3093685278\n",
      "Task 4, Best: -334.1809997558594, Avg: -334.04843239974207\n",
      "Time taken each gen: 0.0989 seconds\n",
      "\n",
      "Gen 100\n",
      "Evaluation count: 101000\n",
      "Task 0, Best: -134.52935791015625, Avg: 71.55827896595001\n",
      "Task 1, Best: -701.6751098632812, Avg: -701.666303100586\n",
      "Task 2, Best: 1583486848.0, Avg: 1692922316.8\n",
      "Task 3, Best: 11083.0185546875, Avg: 12742.030595703125\n",
      "Task 4, Best: -334.6695251464844, Avg: -334.65916412353516\n",
      "Time taken each gen: 0.1076 seconds\n",
      "\n",
      "Gen 200\n",
      "Evaluation count: 201000\n",
      "Task 0, Best: -1036.635986328125, Avg: -1032.867802734375\n",
      "Task 1, Best: -701.8646850585938, Avg: -701.8594567871094\n",
      "Task 2, Best: 60411824.0, Avg: 66400893.12\n",
      "Task 3, Best: 1033.4742431640625, Avg: 1093.8527368164061\n",
      "Task 4, Best: -334.9659423828125, Avg: -334.9602331542969\n",
      "Time taken each gen: 0.1066 seconds\n",
      "\n",
      "Gen 300\n",
      "Evaluation count: 301000\n",
      "Task 0, Best: -1076.424560546875, Avg: -1075.3399951171875\n",
      "Task 1, Best: -701.9971923828125, Avg: -701.9955267333985\n",
      "Task 2, Best: 9557825.0, Avg: 10005580.94\n",
      "Task 3, Best: -36.91098403930664, Avg: -10.783831136226654\n",
      "Task 4, Best: -335.1394348144531, Avg: -335.13681549072265\n",
      "Time taken each gen: 0.1125 seconds\n",
      "\n",
      "Gen 400\n",
      "Evaluation count: 401000\n",
      "Task 0, Best: -1080.663818359375, Avg: -1080.6195239257813\n",
      "Task 1, Best: -702.0697021484375, Avg: -702.0680242919922\n",
      "Task 2, Best: 2159346.0, Avg: 2301687.8\n",
      "Task 3, Best: -251.34158325195312, Avg: -249.4566096496582\n",
      "Task 4, Best: -335.2655944824219, Avg: -335.26026031494143\n",
      "Time taken each gen: 0.1098 seconds\n",
      "\n",
      "Gen 500\n",
      "Evaluation count: 501000\n",
      "Task 0, Best: -1081.2545166015625, Avg: -1081.2464904785156\n",
      "Task 1, Best: -702.1258544921875, Avg: -702.1239605712891\n",
      "Task 2, Best: 514325.84375, Avg: 585363.5071875\n",
      "Task 3, Best: -314.15283203125, Avg: -311.94\n",
      "Task 4, Best: -335.3770446777344, Avg: -335.3732177734375\n",
      "Time taken each gen: 0.1271 seconds\n",
      "\n",
      "Gen 600\n",
      "Evaluation count: 601000\n",
      "Task 0, Best: -1081.6676025390625, Avg: -1081.6265991210937\n",
      "Task 1, Best: -702.1613159179688, Avg: -702.1576727294922\n",
      "Task 2, Best: 121086.7890625, Avg: 123456.285078125\n",
      "Task 3, Best: -346.979736328125, Avg: -346.44610473632815\n",
      "Task 4, Best: -335.4736633300781, Avg: -335.4656396484375\n",
      "Time taken each gen: 0.1205 seconds\n",
      "\n",
      "Gen 700\n",
      "Evaluation count: 701000\n",
      "Task 0, Best: -1081.888427734375, Avg: -1081.8879711914062\n",
      "Task 1, Best: -702.2106323242188, Avg: -702.2093444824219\n",
      "Task 2, Best: 48263.9140625, Avg: 48995.777109375\n",
      "Task 3, Best: -362.64544677734375, Avg: -362.1928860473633\n",
      "Task 4, Best: -335.56842041015625, Avg: -335.5661660766602\n",
      "Time taken each gen: 0.4103 seconds\n",
      "\n",
      "Gen 800\n",
      "Evaluation count: 801000\n",
      "Task 0, Best: -1081.921142578125, Avg: -1081.921142578125\n",
      "Task 1, Best: -702.2367553710938, Avg: -702.23607421875\n",
      "Task 2, Best: 34182.03125, Avg: 34231.9676171875\n",
      "Task 3, Best: -369.46722412109375, Avg: -369.41697204589843\n",
      "Task 4, Best: -335.6263122558594, Avg: -335.6217837524414\n",
      "Time taken each gen: 0.4517 seconds\n",
      "\n",
      "Gen 900\n",
      "Evaluation count: 901000\n",
      "Task 0, Best: -1081.93212890625, Avg: -1081.9320324707032\n",
      "Task 1, Best: -702.2733764648438, Avg: -702.2719818115235\n",
      "Task 2, Best: 22227.21875, Avg: 22227.28005859375\n",
      "Task 3, Best: -373.81561279296875, Avg: -373.7806405639648\n",
      "Task 4, Best: -335.6850891113281, Avg: -335.68436157226563\n",
      "Time taken each gen: 0.5195 seconds\n",
      "\n",
      "Gen 1000\n",
      "Evaluation count: 1001000\n",
      "Task 0, Best: -1081.94580078125, Avg: -1081.9455163574219\n",
      "Task 1, Best: -702.2892456054688, Avg: -702.2892364501953\n",
      "Task 2, Best: 11864.2470703125, Avg: 11864.28423828125\n",
      "Task 3, Best: -377.0986328125, Avg: -377.0012725830078\n",
      "Task 4, Best: -335.7265319824219, Avg: -335.7255419921875\n",
      "Time taken each gen: 0.4156 seconds\n",
      "\n"
     ]
    }
   ],
   "source": [
    "bfs, mfs = amfea.fit(num_gen=1000, monitor=True, monitor_rate=100)"
   ]
  },
  {
   "cell_type": "code",
   "execution_count": null,
   "id": "63681614",
   "metadata": {},
   "outputs": [
    {
     "name": "stdout",
     "output_type": "stream",
     "text": [
      "2182358\n"
     ]
    }
   ],
   "source": [
    "print(amfea.eval_cnt)"
   ]
  },
  {
   "cell_type": "code",
   "execution_count": null,
   "id": "136b9a28",
   "metadata": {},
   "outputs": [
    {
     "name": "stdout",
     "output_type": "stream",
     "text": [
      "[1.92707397e-01 9.28115568e-01 1.95030332e-01 9.19464883e-01\n",
      " 7.00052070e-01 1.94086735e-01 9.32649332e-01 2.01325155e-01\n",
      " 3.79375448e-01 6.99848299e-01 1.94312757e-01 1.91218354e-01\n",
      " 9.32632332e-01 7.04786795e-01 1.85863576e-01 2.03263489e-01\n",
      " 6.95277561e-01 9.17992806e-01 9.40317772e-01 9.22242633e-01\n",
      " 7.15224694e-01 2.01667188e-01 7.00697586e-01 1.83446501e-01\n",
      " 7.04126343e-01 1.93066440e-01 7.03597835e-01 9.20387664e-01\n",
      " 7.05086955e-01 7.20233286e-04 7.07544023e-01 9.28164487e-01\n",
      " 1.85552661e-01 1.80195522e-01 2.14168065e-01 1.89942223e-01\n",
      " 7.02260894e-01 7.04083201e-01 9.23887402e-01 3.15534153e-03\n",
      " 9.19865290e-01 7.02337478e-01 9.06982242e-01 9.22580845e-01\n",
      " 6.97567082e-01 7.06233374e-01 7.08674613e-01 1.98085688e-01\n",
      " 9.28875413e-01 1.99998422e-01]\n",
      "[6637.95167233]\n"
     ]
    }
   ],
   "source": [
    "for i in range(len(amfea.pop[:701])):\n",
    "    if amfea.skill_factor[i] == 7:\n",
    "        x = amfea.pop[i]\n",
    "        print(x)\n",
    "        print(SchwefelTask.fitness(np.array([x])))"
   ]
  },
  {
   "cell_type": "code",
   "execution_count": null,
   "id": "e3295c50",
   "metadata": {},
   "outputs": [
    {
     "name": "stdout",
     "output_type": "stream",
     "text": [
      "0.9795161081006124\n"
     ]
    }
   ],
   "source": [
    "print(np.max(amfea.pop))"
   ]
  },
  {
   "cell_type": "code",
   "execution_count": null,
   "id": "88fdd99b",
   "metadata": {},
   "outputs": [],
   "source": [
    "dim = 50\n",
    "schwefel_shift = np.full(dim, 0)\n",
    "schwefel = Schwefel(50, schwefel_shift)"
   ]
  },
  {
   "cell_type": "code",
   "execution_count": null,
   "id": "f0181778",
   "metadata": {},
   "outputs": [
    {
     "data": {
      "text/plain": [
       "array([22735.02372398])"
      ]
     },
     "execution_count": 9,
     "metadata": {},
     "output_type": "execute_result"
    }
   ],
   "source": [
    "x_test = np.random.uniform(0, 1, size=dim)\n",
    "SchwefelTask = CEC17Task(schwefel, 500)\n",
    "SchwefelTask.fitness(np.array([x_test]))"
   ]
  },
  {
   "cell_type": "code",
   "execution_count": null,
   "id": "3aad6bff",
   "metadata": {},
   "outputs": [
    {
     "name": "stdout",
     "output_type": "stream",
     "text": [
      "[0.37138179 0.73449412 0.36311813 0.78244749 0.99178212 0.47985734\n",
      " 0.36771698 0.51114184 0.04594897 0.84181967 0.61995408 0.63615412\n",
      " 0.46263011 0.8640062  0.14332885 0.62474759 0.54728951 0.59178973\n",
      " 0.36934856 0.98753811 0.03777077 0.29882631 0.96237095 0.15249977\n",
      " 0.7886243  0.27673331 0.88030284 0.30618377 0.50073916 0.18406873\n",
      " 0.35633323 0.47317796 0.91791397 0.80261628 0.74382469 0.86932051\n",
      " 0.35167865 0.03108078 0.88207472 0.64581258 0.17599662 0.44207642\n",
      " 0.74174619 0.14262801 0.26605845 0.89521602 0.44415947 0.62751617\n",
      " 0.62814485 0.30749574]\n"
     ]
    }
   ],
   "source": [
    "print(x_test)"
   ]
  },
  {
   "cell_type": "code",
   "execution_count": null,
   "id": "6aad89ee",
   "metadata": {},
   "outputs": [
    {
     "name": "stdout",
     "output_type": "stream",
     "text": [
      "[152104.57279382]\n",
      "[425081.00403927]\n",
      "[519128.14154837]\n",
      "[53.38544507]\n",
      "[5.70541367e+09]\n",
      "[21.72861174]\n",
      "[104.8360553]\n",
      "[21254.0220888]\n",
      "[124.49564953]\n",
      "[113062.82998873]\n"
     ]
    }
   ],
   "source": [
    "super_tasks = get_10_tasks()\n",
    "for task in super_tasks:\n",
    "    print(task.fitness(np.array([x_test])))"
   ]
  },
  {
   "cell_type": "code",
   "execution_count": null,
   "id": "b24c064a",
   "metadata": {},
   "outputs": [],
   "source": [
    "with open('x_test.pkl', 'wb') as f:\n",
    "    pickle.dump(x_test, f)\n",
    "f.close()"
   ]
  },
  {
   "cell_type": "code",
   "execution_count": null,
   "id": "8ba02b55",
   "metadata": {},
   "outputs": [],
   "source": [
    "t = np.arange(10)"
   ]
  },
  {
   "cell_type": "code",
   "execution_count": null,
   "id": "605fc20a",
   "metadata": {},
   "outputs": [
    {
     "data": {
      "text/plain": [
       "array([[0, 1, 2, 3, 4, 5, 6, 7, 8, 9],\n",
       "       [0, 1, 2, 3, 4, 5, 6, 7, 8, 9]])"
      ]
     },
     "execution_count": 110,
     "metadata": {},
     "output_type": "execute_result"
    }
   ],
   "source": [
    "t = np.array([t, t])\n",
    "t"
   ]
  },
  {
   "cell_type": "code",
   "execution_count": null,
   "id": "c58d777a",
   "metadata": {},
   "outputs": [
    {
     "data": {
      "text/plain": [
       "array([[0, 1, 2],\n",
       "       [0, 1, 2]])"
      ]
     },
     "execution_count": 111,
     "metadata": {},
     "output_type": "execute_result"
    }
   ],
   "source": [
    "t[:, :3]"
   ]
  }
 ],
 "metadata": {
  "kernelspec": {
   "display_name": "Python 3",
   "language": "python",
   "name": "python3"
  },
  "language_info": {
   "codemirror_mode": {
    "name": "ipython",
    "version": 3
   },
   "file_extension": ".py",
   "mimetype": "text/x-python",
   "name": "python",
   "nbconvert_exporter": "python",
   "pygments_lexer": "ipython3",
   "version": "3.9.12"
  }
 },
 "nbformat": 4,
 "nbformat_minor": 5
}
