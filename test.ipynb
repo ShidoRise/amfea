{
 "cells": [
  {
   "cell_type": "code",
   "execution_count": 64,
   "id": "62bd74ef",
   "metadata": {},
   "outputs": [
    {
     "name": "stdout",
     "output_type": "stream",
     "text": [
      "The autoreload extension is already loaded. To reload it, use:\n",
      "  %reload_ext autoreload\n"
     ]
    }
   ],
   "source": [
    "%load_ext autoreload\n",
    "%autoreload 2\n",
    "import numpy as np\n",
    "import pickle\n",
    "import os\n",
    "from mutation import *\n",
    "from crossover import *\n",
    "from rmp import *\n",
    "from mfea import *\n",
    "from task import *\n",
    "from llm import *\n",
    "import matplotlib.pyplot as plt"
   ]
  },
  {
   "cell_type": "code",
   "execution_count": 79,
   "id": "a9f72150",
   "metadata": {},
   "outputs": [],
   "source": [
    "cec2017_tasks = get_10_tasks()"
   ]
  },
  {
   "cell_type": "code",
   "execution_count": 66,
   "id": "24701637",
   "metadata": {},
   "outputs": [],
   "source": [
    "gnbg_tasks = []\n",
    "gnbg_tasks.append(GNBGTask(1, 100))\n",
    "gnbg_tasks.append(GNBGTask(2, 100))\n",
    "gnbg_tasks.append(GNBGTask(3, 100))\n",
    "gnbg_tasks.append(GNBGTask(4, 100))\n",
    "gnbg_tasks.append(GNBGTask(5, 100))"
   ]
  },
  {
   "cell_type": "code",
   "execution_count": 67,
   "id": "1242be84",
   "metadata": {},
   "outputs": [
    {
     "name": "stdout",
     "output_type": "stream",
     "text": [
      "sk-505a4ff57cfb432d8888a3d8d66a3133\n"
     ]
    }
   ],
   "source": [
    "\n",
    "API_KEY = os.getenv(\"DEEPSEEK_API_KEY\")\n",
    "print(API_KEY)\n"
   ]
  },
  {
   "cell_type": "code",
   "execution_count": 80,
   "id": "996fca4f",
   "metadata": {},
   "outputs": [],
   "source": [
    "np.random.seed(0)"
   ]
  },
  {
   "cell_type": "code",
   "execution_count": 98,
   "id": "ff17d230",
   "metadata": {},
   "outputs": [],
   "source": [
    "mutation = PolynomialMutation(5, 0.02)\n",
    "crossover = SBXCrossover(mutation)"
   ]
  },
  {
   "cell_type": "code",
   "execution_count": 70,
   "id": "f6679ed7",
   "metadata": {},
   "outputs": [],
   "source": [
    "def rmp_matrix_to_array(rmp_matrix, p1_skill_factor, p2_skill_factor):\n",
    "    return rmp_matrix[p1_skill_factor, p2_skill_factor]"
   ]
  },
  {
   "cell_type": "code",
   "execution_count": null,
   "id": "33f263ce",
   "metadata": {},
   "outputs": [],
   "source": []
  },
  {
   "cell_type": "code",
   "execution_count": 82,
   "id": "528aa919",
   "metadata": {},
   "outputs": [
    {
     "name": "stdout",
     "output_type": "stream",
     "text": [
      "10\n"
     ]
    }
   ],
   "source": [
    "print(len(cec2017_tasks))"
   ]
  },
  {
   "cell_type": "code",
   "execution_count": 108,
   "id": "64e33e26",
   "metadata": {},
   "outputs": [],
   "source": [
    "p1 = np.random.uniform(size=(10, 50))\n",
    "p2 = np.random.uniform(size=(10, 50))\n",
    "p1_skill_factor = np.random.randint(0, 2, size=10)\n",
    "p2_skill_factor = np.random.randint(0, 2, size=10)\n",
    "p1_fitness = np.random.uniform(size=10)\n",
    "p2_fitness = np.random.uniform(size=10)\n",
    "rmp = np.full(shape=(2, 2), fill_value=0.3)\n",
    "off, off_skill_factor, off_fitness = crossover(rmp, p1, p2, p1_skill_factor, p2_skill_factor, p1_fitness, p2_fitness, cec2017_tasks, eval=False)"
   ]
  },
  {
   "cell_type": "code",
   "execution_count": 109,
   "id": "90310df1",
   "metadata": {},
   "outputs": [
    {
     "name": "stdout",
     "output_type": "stream",
     "text": [
      "1.0\n"
     ]
    }
   ],
   "source": [
    "print(np.max(off))"
   ]
  },
  {
   "cell_type": "code",
   "execution_count": 110,
   "id": "5dfdebe5",
   "metadata": {},
   "outputs": [
    {
     "data": {
      "text/plain": [
       "array([0.3, 0.3, 0.3, 0.3, 0.3, 0.3, 0.3, 0.3, 0.3, 0.3])"
      ]
     },
     "execution_count": 110,
     "metadata": {},
     "output_type": "execute_result"
    }
   ],
   "source": [
    "rmp_matrix_to_array(rmp, p1_skill_factor, p2_skill_factor)"
   ]
  },
  {
   "cell_type": "code",
   "execution_count": null,
   "id": "70978029",
   "metadata": {},
   "outputs": [
    {
     "name": "stdout",
     "output_type": "stream",
     "text": [
      "Initialization:\n",
      "Task 0:\n",
      "Best Fitness: 119942.44515243385\n",
      "Mean Fitness: 165559.68141275048\n",
      "\n",
      "Task 1:\n",
      "Best Fitness: 361858.9083699929\n",
      "Mean Fitness: 480119.2297387419\n",
      "\n",
      "Task 2:\n",
      "Best Fitness: 308605.1606399592\n",
      "Mean Fitness: 489377.1078875712\n",
      "\n",
      "Task 3:\n",
      "Best Fitness: 40.93402821240308\n",
      "Mean Fitness: 50.70281108619733\n",
      "\n",
      "Task 4:\n",
      "Best Fitness: 3290258454.6844053\n",
      "Mean Fitness: 6222720432.233082\n",
      "\n",
      "Task 5:\n",
      "Best Fitness: 21.457730213775395\n",
      "Mean Fitness: 21.711551975861397\n",
      "\n",
      "Task 6:\n",
      "Best Fitness: 86.4547190995287\n",
      "Mean Fitness: 100.6735587657009\n",
      "\n",
      "Task 7:\n",
      "Best Fitness: 18963.22398104165\n",
      "Mean Fitness: 21073.755865436626\n",
      "\n",
      "Task 8:\n",
      "Best Fitness: 79.99567052202349\n",
      "Mean Fitness: 125.20263270152404\n",
      "\n",
      "Task 9:\n",
      "Best Fitness: 86021.29725785153\n",
      "Mean Fitness: 121718.66420500605\n",
      "\n"
     ]
    }
   ],
   "source": [
    "num_indis_per_task = 100\n",
    "indi_len = 50\n",
    "mutation = PolynomialMutation(5, 0.02)\n",
    "crossover = SBXCrossover(mutation, eta=2)\n",
    "# crossover = BLXCrossover()\n",
    "rmp = NormalRMP(0.3)\n",
    "\n",
    "amfea = AMFEA(num_indis_per_task, indi_len, cec2017_tasks, crossover, mutation, rmp)"
   ]
  },
  {
   "cell_type": "code",
   "execution_count": 114,
   "id": "6a667e50",
   "metadata": {
    "scrolled": true
   },
   "outputs": [
    {
     "name": "stdout",
     "output_type": "stream",
     "text": [
      "Gen 0\n",
      "Evaluation count: 0\n",
      "Task 0, Best: 72975.78705186633, Avg: 134060.82966121982\n",
      "Task 1, Best: 309718.1825671343, Avg: 407540.73577611806\n",
      "Task 2, Best: 288526.6758626887, Avg: 408707.09219814464\n",
      "Task 3, Best: 38.11744553660621, Avg: 45.024343735088905\n",
      "Task 4, Best: 2426943937.601818, Avg: 4716878220.009815\n",
      "Task 5, Best: 20.538638780216573, Avg: 21.560461408295918\n",
      "Task 6, Best: 65.93947344587036, Avg: 90.59339397188242\n",
      "Task 7, Best: 17144.08246936057, Avg: 19755.24900990665\n",
      "Task 8, Best: 72.42147550907163, Avg: 101.8750554157855\n",
      "Task 9, Best: 80732.0871645476, Avg: 100897.21753906706\n",
      "Time taken each gen: 0.1927 seconds\n",
      "\n",
      "Gen 100\n",
      "Evaluation count: 0\n",
      "Task 0, Best: 1080.0344148221316, Avg: 1247.113332832825\n",
      "Task 1, Best: 12068.237190366426, Avg: 26429.54363976254\n",
      "Task 2, Best: 13048.562929880727, Avg: 16056.846084254634\n",
      "Task 3, Best: 9.905007202303686, Avg: 11.063734488252763\n",
      "Task 4, Best: 379627.68949093006, Avg: 474596.8018127775\n",
      "Task 5, Best: 17.859107806454695, Avg: 19.777601940560494\n",
      "Task 6, Best: 25.682026790136874, Avg: 26.199572075626904\n",
      "Task 7, Best: 5756.358274803793, Avg: 6788.205122762702\n",
      "Task 8, Best: 4.061807150871299, Avg: 6.537980691019161\n",
      "Task 9, Best: 2919.5276197943354, Avg: 5155.911876293137\n",
      "Time taken each gen: 1.2751 seconds\n",
      "\n",
      "Gen 200\n",
      "Evaluation count: 0\n",
      "Task 0, Best: 351.3548061530339, Avg: 384.5069404733771\n",
      "Task 1, Best: 26.29047869104912, Avg: 27.665712489723056\n",
      "Task 2, Best: 1402.6999810686486, Avg: 1514.035166783683\n",
      "Task 3, Best: 3.4008463915583036, Avg: 3.519947131104617\n",
      "Task 4, Best: 33594.57971278486, Avg: 38304.50710452198\n",
      "Task 5, Best: 3.119811155586952, Avg: 3.183649855216541\n",
      "Task 6, Best: 17.700324099435704, Avg: 18.452914457624058\n",
      "Task 7, Best: 69.17521879746346, Avg: 72.8258865510907\n",
      "Task 8, Best: 1.2867719168086902, Avg: 1.3150605674409885\n",
      "Task 9, Best: 387.11930765720393, Avg: 406.618908557674\n",
      "Time taken each gen: 1.3638 seconds\n",
      "\n",
      "Gen 300\n",
      "Evaluation count: 0\n",
      "Task 0, Best: 140.11057234979978, Avg: 147.58119633141735\n",
      "Task 1, Best: 10.583375738976015, Avg: 10.892272623678203\n",
      "Task 2, Best: 263.8712385318076, Avg: 292.5407781130172\n",
      "Task 3, Best: 1.439030210365054, Avg: 1.5356352830885993\n",
      "Task 4, Best: 5998.157625177517, Avg: 7098.4137254388015\n",
      "Task 5, Best: 2.250162589142502, Avg: 2.293201818425374\n",
      "Task 6, Best: 13.046351072830817, Avg: 13.313148429109306\n",
      "Task 7, Best: 29.947139401407185, Avg: 34.28465930754053\n",
      "Task 8, Best: 1.0648664269051322, Avg: 1.0683987037636566\n",
      "Task 9, Best: 210.06579837675548, Avg: 220.39021885356874\n",
      "Time taken each gen: 1.2654 seconds\n",
      "\n",
      "Gen 400\n",
      "Evaluation count: 0\n",
      "Task 0, Best: 77.6231492527977, Avg: 81.13083466203378\n",
      "Task 1, Best: 4.973914763283148, Avg: 5.482045647057099\n",
      "Task 2, Best: 84.19828815869313, Avg: 89.84561922018402\n",
      "Task 3, Best: 1.0771879736551568, Avg: 1.0902143940551727\n",
      "Task 4, Best: 2007.2472101191588, Avg: 2137.6693038190137\n",
      "Task 5, Best: 1.5832005702654972, Avg: 1.6207246554949608\n",
      "Task 6, Best: 9.493851667807235, Avg: 10.04856876127892\n",
      "Task 7, Best: 15.446822605219495, Avg: 16.07230108425887\n",
      "Task 8, Best: 0.9772801698102558, Avg: 0.9831572102132395\n",
      "Task 9, Best: 139.70008307695463, Avg: 146.45799879709477\n",
      "Time taken each gen: 1.3076 seconds\n",
      "\n",
      "Gen 500\n",
      "Evaluation count: 0\n",
      "Task 0, Best: 43.35507825734333, Avg: 46.012868742099236\n",
      "Task 1, Best: 2.7379008335464925, Avg: 2.923640522110216\n",
      "Task 2, Best: 38.85539278214021, Avg: 40.67882241351931\n",
      "Task 3, Best: 0.7193318198599172, Avg: 0.7315638985776305\n",
      "Task 4, Best: 1012.1636440873468, Avg: 1081.5802679421447\n",
      "Task 5, Best: 1.0953032513134962, Avg: 1.1175344359441362\n",
      "Task 6, Best: 7.976735539046928, Avg: 8.146533283342059\n",
      "Task 7, Best: 8.719115359675925, Avg: 9.083118059084628\n",
      "Task 8, Best: 0.6558960107071681, Avg: 0.6974535985826279\n",
      "Task 9, Best: 100.93471463287807, Avg: 103.72571039984572\n",
      "Time taken each gen: 1.2939 seconds\n",
      "\n",
      "Gen 600\n",
      "Evaluation count: 0\n",
      "Task 0, Best: 26.59306488822915, Avg: 27.529703040948444\n",
      "Task 1, Best: 1.7775273411278405, Avg: 1.8293699874327092\n",
      "Task 2, Best: 21.063768507223408, Avg: 22.170062826043424\n",
      "Task 3, Best: 0.5325057257116441, Avg: 0.5348710191584407\n",
      "Task 4, Best: 647.275793925437, Avg: 663.3215759219707\n",
      "Task 5, Best: 0.7940420072123904, Avg: 0.801596526428598\n",
      "Task 6, Best: 5.790289542354472, Avg: 6.148303504678307\n",
      "Task 7, Best: 5.476290364153101, Avg: 5.692326332644516\n",
      "Task 8, Best: 0.43080465912970345, Avg: 0.4474388612250275\n",
      "Task 9, Best: 73.199079074662, Avg: 76.89111121807083\n",
      "Time taken each gen: 1.2931 seconds\n",
      "\n",
      "Gen 700\n",
      "Evaluation count: 0\n",
      "Task 0, Best: 16.07916008868056, Avg: 16.913325750546754\n",
      "Task 1, Best: 1.0748694872582816, Avg: 1.1423017605793653\n",
      "Task 2, Best: 12.199225240315375, Avg: 12.916810115012167\n",
      "Task 3, Best: 0.3831754580586946, Avg: 0.3833133346679755\n",
      "Task 4, Best: 479.141464912699, Avg: 485.9932149040811\n",
      "Task 5, Best: 0.5534939788442661, Avg: 0.5653429863637235\n",
      "Task 6, Best: 4.864862794448143, Avg: 5.055409745316013\n",
      "Task 7, Best: 3.5322434134468494, Avg: 3.675329043221136\n",
      "Task 8, Best: 0.2639701196953569, Avg: 0.26977043411487117\n",
      "Task 9, Best: 50.02520309037766, Avg: 51.72184312702027\n",
      "Time taken each gen: 1.9761 seconds\n",
      "\n",
      "Gen 800\n",
      "Evaluation count: 0\n",
      "Task 0, Best: 8.437066397038747, Avg: 8.754404018686119\n",
      "Task 1, Best: 0.7155895733867295, Avg: 0.726861464244592\n",
      "Task 2, Best: 5.938663120965082, Avg: 6.792735251405886\n",
      "Task 3, Best: 0.3457425487706587, Avg: 0.34584302293162644\n",
      "Task 4, Best: 382.94799976192616, Avg: 386.57976040396073\n",
      "Task 5, Best: 0.4198911564199759, Avg: 0.4228997681731043\n",
      "Task 6, Best: 4.3499492607520835, Avg: 4.392563878950943\n",
      "Task 7, Best: 2.254667183282436, Avg: 2.310189823381588\n",
      "Task 8, Best: 0.18412985170963692, Avg: 0.1856533450008628\n",
      "Task 9, Best: 37.14066107210698, Avg: 39.269260170265504\n",
      "Time taken each gen: 1.6783 seconds\n",
      "\n",
      "Gen 900\n",
      "Evaluation count: 0\n",
      "Task 0, Best: 4.40414680612746, Avg: 4.711128165540271\n",
      "Task 1, Best: 0.5022734330332811, Avg: 0.5153847135431774\n",
      "Task 2, Best: 3.60395024422666, Avg: 3.7834339769974825\n",
      "Task 3, Best: 0.26902886265011006, Avg: 0.269721043030094\n",
      "Task 4, Best: 322.12522113462336, Avg: 326.4171996695697\n",
      "Task 5, Best: 0.32923474287313725, Avg: 0.3321702804737967\n",
      "Task 6, Best: 3.8887271341967704, Avg: 3.9759156518548466\n",
      "Task 7, Best: 1.6684859160341148, Avg: 1.714361279758232\n",
      "Task 8, Best: 0.10976418706957025, Avg: 0.111727050836494\n",
      "Task 9, Best: 31.059790192357696, Avg: 31.862065610532028\n",
      "Time taken each gen: 1.3596 seconds\n",
      "\n",
      "Gen 1000\n",
      "Evaluation count: 0\n",
      "Task 0, Best: 3.202908504791374, Avg: 3.267316920398894\n",
      "Task 1, Best: 0.3073157333634795, Avg: 0.31448897932523984\n",
      "Task 2, Best: 2.114187715718555, Avg: 2.2147241102576176\n",
      "Task 3, Best: 0.22363760531605692, Avg: 0.23917569859109755\n",
      "Task 4, Best: 291.9036071835021, Avg: 293.2632468601658\n",
      "Task 5, Best: 0.23423961537436755, Avg: 0.23886259816759658\n",
      "Task 6, Best: 3.1603631004441013, Avg: 3.194066512867445\n",
      "Task 7, Best: 1.2030962061762693, Avg: 1.2094431681406785\n",
      "Task 8, Best: 0.07516301718107565, Avg: 0.07758751490003722\n",
      "Task 9, Best: 27.23093808023998, Avg: 27.388933517751344\n",
      "Time taken each gen: 1.7745 seconds\n",
      "\n"
     ]
    }
   ],
   "source": [
    "bfs, mfs = amfea.fit(num_gen=1000, monitor=True, monitor_rate=100)"
   ]
  },
  {
   "cell_type": "code",
   "execution_count": 90,
   "id": "24a6afef",
   "metadata": {},
   "outputs": [
    {
     "name": "stdout",
     "output_type": "stream",
     "text": [
      "0.9999784003327589\n"
     ]
    }
   ],
   "source": [
    "print(np.max(amfea.pop))"
   ]
  },
  {
   "cell_type": "code",
   "execution_count": null,
   "id": "88fdd99b",
   "metadata": {},
   "outputs": [],
   "source": [
    "dim = 50\n",
    "schwefel_shift = np.full(dim, 0)\n",
    "schwefel = Schwefel(50, schwefel_shift)"
   ]
  },
  {
   "cell_type": "code",
   "execution_count": null,
   "id": "f0181778",
   "metadata": {},
   "outputs": [
    {
     "data": {
      "text/plain": [
       "array([19624.00486413])"
      ]
     },
     "execution_count": 23,
     "metadata": {},
     "output_type": "execute_result"
    }
   ],
   "source": [
    "x_test = np.random.uniform(0, 1, size=dim)\n",
    "SchwefelTask = CEC17Task(schwefel, 500)\n",
    "SchwefelTask.fitness(np.array([x_test]))"
   ]
  },
  {
   "cell_type": "code",
   "execution_count": null,
   "id": "3aad6bff",
   "metadata": {},
   "outputs": [
    {
     "name": "stdout",
     "output_type": "stream",
     "text": [
      "[0.18541045 0.10918362 0.41620666 0.05202045 0.73581345 0.10242111\n",
      " 0.27975593 0.500361   0.28994784 0.69074022 0.43137988 0.69181414\n",
      " 0.18295413 0.60222251 0.94836878 0.83444372 0.74597701 0.29911743\n",
      " 0.86886052 0.66123358 0.01325606 0.14413201 0.93982458 0.31279125\n",
      " 0.83371066 0.9945565  0.37324847 0.94440294 0.76597573 0.93927236\n",
      " 0.73464583 0.73928831 0.24930223 0.86097878 0.48044106 0.70032713\n",
      " 0.18992072 0.18732098 0.34944063 0.67636843 0.45803565 0.81829454\n",
      " 0.77605716 0.66082975 0.67077776 0.39174871 0.01667886 0.62422151\n",
      " 0.90594216 0.4268725 ]\n"
     ]
    }
   ],
   "source": [
    "print(x_test)"
   ]
  },
  {
   "cell_type": "code",
   "execution_count": null,
   "id": "6aad89ee",
   "metadata": {},
   "outputs": [
    {
     "ename": "NameError",
     "evalue": "name 'get_2_tasks' is not defined",
     "output_type": "error",
     "traceback": [
      "\u001b[1;31m---------------------------------------------------------------------------\u001b[0m",
      "\u001b[1;31mNameError\u001b[0m                                 Traceback (most recent call last)",
      "Cell \u001b[1;32mIn[1], line 1\u001b[0m\n\u001b[1;32m----> 1\u001b[0m super_tasks \u001b[38;5;241m=\u001b[39m \u001b[43mget_2_tasks\u001b[49m(\u001b[38;5;241m1\u001b[39m)\n\u001b[0;32m      2\u001b[0m \u001b[38;5;28;01mfor\u001b[39;00m task \u001b[38;5;129;01min\u001b[39;00m super_tasks:\n\u001b[0;32m      3\u001b[0m     \u001b[38;5;28mprint\u001b[39m(task\u001b[38;5;241m.\u001b[39mfitness(np\u001b[38;5;241m.\u001b[39marray([x_test])))\n",
      "\u001b[1;31mNameError\u001b[0m: name 'get_2_tasks' is not defined"
     ]
    }
   ],
   "source": [
    "super_tasks = get_2_tasks(1)\n",
    "for task in super_tasks:\n",
    "    print(task.fitness(np.array([x_test])))"
   ]
  },
  {
   "cell_type": "code",
   "execution_count": null,
   "id": "b24c064a",
   "metadata": {},
   "outputs": [],
   "source": [
    "with open('x_test.pkl', 'wb') as f:\n",
    "    pickle.dump(x_test, f)\n",
    "f.close()"
   ]
  },
  {
   "cell_type": "code",
   "execution_count": null,
   "id": "2c88785f",
   "metadata": {},
   "outputs": [
    {
     "name": "stdout",
     "output_type": "stream",
     "text": [
      "[4 5 6]\n"
     ]
    }
   ],
   "source": [
    "#test \n",
    "p = np.array([1, 2, 3])\n",
    "def f(p):\n",
    "    p += 3\n",
    "f(p)\n",
    "print(p)"
   ]
  }
 ],
 "metadata": {
  "kernelspec": {
   "display_name": "Python 3",
   "language": "python",
   "name": "python3"
  },
  "language_info": {
   "codemirror_mode": {
    "name": "ipython",
    "version": 3
   },
   "file_extension": ".py",
   "mimetype": "text/x-python",
   "name": "python",
   "nbconvert_exporter": "python",
   "pygments_lexer": "ipython3",
   "version": "3.9.12"
  }
 },
 "nbformat": 4,
 "nbformat_minor": 5
}
