{
 "cells": [
  {
   "cell_type": "code",
   "execution_count": 36,
   "id": "62bd74ef",
   "metadata": {},
   "outputs": [
    {
     "name": "stdout",
     "output_type": "stream",
     "text": [
      "The autoreload extension is already loaded. To reload it, use:\n",
      "  %reload_ext autoreload\n"
     ]
    }
   ],
   "source": [
    "%load_ext autoreload\n",
    "%autoreload 2\n",
    "import numpy as np\n",
    "import pickle\n",
    "import os\n",
    "from mutation import *\n",
    "from crossover import *\n",
    "from rmp import *\n",
    "from mfea import *\n",
    "from task import *\n",
    "from llm import *\n",
    "import matplotlib.pyplot as plt"
   ]
  },
  {
   "cell_type": "code",
   "execution_count": 37,
   "id": "a9f72150",
   "metadata": {},
   "outputs": [],
   "source": [
    "cec2017_tasks = get_10_tasks()"
   ]
  },
  {
   "cell_type": "code",
   "execution_count": 42,
   "id": "24701637",
   "metadata": {},
   "outputs": [],
   "source": [
    "gnbg_tasks = []\n",
    "gnbg_tasks.append(GNBGTask(1, 100))\n",
    "gnbg_tasks.append(GNBGTask(2, 100))\n",
    "gnbg_tasks.append(GNBGTask(3, 100))\n",
    "gnbg_tasks.append(GNBGTask(4, 100))"
   ]
  },
  {
   "cell_type": "code",
   "execution_count": 26,
   "id": "1242be84",
   "metadata": {},
   "outputs": [
    {
     "name": "stdout",
     "output_type": "stream",
     "text": [
      "sk-505a4ff57cfb432d8888a3d8d66a3133\n"
     ]
    }
   ],
   "source": [
    "\n",
    "API_KEY = os.getenv(\"DEEPSEEK_API_KEY\")\n",
    "print(API_KEY)\n"
   ]
  },
  {
   "cell_type": "code",
   "execution_count": 38,
   "id": "ff17d230",
   "metadata": {},
   "outputs": [],
   "source": [
    "mutation = PolynomialMutation(15)\n",
    "crossover = SBXCrossover(mutation)"
   ]
  },
  {
   "cell_type": "code",
   "execution_count": 39,
   "id": "64e33e26",
   "metadata": {},
   "outputs": [
    {
     "name": "stdout",
     "output_type": "stream",
     "text": [
      "(array([[0.        , 0.51276432, 0.88197055, 0.24723801, 0.18028401],\n",
      "       [0.0737507 , 0.78589334, 0.44599093, 0.78751129, 0.26795082],\n",
      "       [0.04202596, 0.94727554, 0.93627634, 0.14395271, 0.29634934],\n",
      "       [0.62658671, 0.83730384, 0.20189697, 0.92909158, 0.43043313],\n",
      "       [0.87261904, 0.57262614, 0.03063418, 0.07006596, 0.65107592],\n",
      "       [0.78749846, 0.94316766, 0.22407618, 0.01718698, 0.85578098],\n",
      "       [0.20966941, 0.74705581, 0.72994186, 0.96051828, 0.83527911],\n",
      "       [0.68804182, 0.31789978, 0.43546863, 0.64913384, 0.86839733],\n",
      "       [0.98077614, 0.28965293, 0.41954523, 0.61896468, 0.07129857],\n",
      "       [0.08833873, 0.2692328 , 0.38850655, 0.61428178, 0.83954932],\n",
      "       [0.86743762, 0.10702949, 0.67131258, 0.96436617, 0.334611  ],\n",
      "       [0.56291856, 0.72653526, 0.50888124, 0.13144656, 0.53663237],\n",
      "       [0.65743806, 0.06999427, 0.16150156, 0.68895345, 0.90498998],\n",
      "       [0.4321365 , 0.09844241, 0.52283145, 0.56488945, 0.33877578],\n",
      "       [0.01392454, 0.82782053, 0.12172862, 0.78885358, 0.0796142 ],\n",
      "       [0.71361173, 0.62812919, 0.18664557, 0.96791784, 0.10259881],\n",
      "       [0.57136039, 0.88394232, 0.71200595, 0.17241995, 0.65538819],\n",
      "       [0.30181232, 0.84824548, 0.33377659, 0.16945462, 0.12529376],\n",
      "       [0.77497892, 0.34933324, 0.8757111 , 0.1028216 , 0.70078709],\n",
      "       [0.13187524, 0.87345987, 0.58680084, 0.20899914, 0.92099086]]), array([1, 7, 4, 0, 1, 7, 4, 0, 2, 8, 4, 0, 0, 9, 9, 2, 3, 4, 6, 3],\n",
      "      dtype=int32))\n"
     ]
    }
   ],
   "source": [
    "p1 = np.random.uniform(size=(10, 5))\n",
    "p2 = np.random.uniform(size=(10, 5))\n",
    "p1_skill_factor = np.random.randint(0, 10, size=10)\n",
    "p2_skill_factor = np.random.randint(0, 10, size=10)\n",
    "rmp = np.full(10, 0.3)\n",
    "print(crossover(rmp, p1, p2, p1_skill_factor, p2_skill_factor))"
   ]
  },
  {
   "cell_type": "code",
   "execution_count": 43,
   "id": "70978029",
   "metadata": {},
   "outputs": [
    {
     "name": "stdout",
     "output_type": "stream",
     "text": [
      "Initialization:\n",
      "Task 0:\n",
      "Best Fitness: 85462.0992279296\n",
      "Mean Fitness: 174328.60699334275\n",
      "\n",
      "Task 1:\n",
      "Best Fitness: -701.3636358014778\n",
      "Mean Fitness: -701.3095289555603\n",
      "\n",
      "Task 2:\n",
      "Best Fitness: 38458597907.03809\n",
      "Mean Fitness: 89658319678.8632\n",
      "\n",
      "Task 3:\n",
      "Best Fitness: 447895.51213533396\n",
      "Mean Fitness: 906256.4991710217\n",
      "\n"
     ]
    }
   ],
   "source": [
    "num_indis_per_task = 100\n",
    "indi_len = 30\n",
    "mutation = PolynomialMutation(15)\n",
    "crossover = SBXCrossover(mutation)\n",
    "# crossover = BLXCrossover()\n",
    "rmp = NormalRMP(0.3)\n",
    "\n",
    "amfea = AMFEA(num_indis_per_task, indi_len, gnbg_tasks, crossover, mutation, rmp)"
   ]
  },
  {
   "cell_type": "code",
   "execution_count": 44,
   "id": "6a667e50",
   "metadata": {
    "scrolled": true
   },
   "outputs": [
    {
     "name": "stdout",
     "output_type": "stream",
     "text": [
      "Gen 0\n",
      "Evaluation count: 748\n",
      "Task 0, Best: 82291.8046875, Avg: 136010.1082189341\n",
      "Task 1, Best: -701.378662109375, Avg: -701.3357015253988\n",
      "Task 2, Best: 35232444416.0, Avg: 66113888368.0771\n",
      "Task 3, Best: 355427.0625, Avg: 692357.7048256178\n",
      "Time taken each gen: 0.0832 seconds\n",
      "\n",
      "Gen 100\n",
      "Evaluation count: 76794\n",
      "Task 0, Best: -639.7749633789062, Avg: -588.2769848632812\n",
      "Task 1, Best: -701.7703857421875, Avg: -701.7629614257812\n",
      "Task 2, Best: 250042768.0, Avg: 335312572.32\n",
      "Task 3, Best: 6498.986328125, Avg: 7967.543608398438\n",
      "Time taken each gen: 0.0785 seconds\n",
      "\n",
      "Gen 200\n",
      "Evaluation count: 152206\n",
      "Task 0, Best: -890.2080688476562, Avg: -890.1141058349609\n",
      "Task 1, Best: -701.7785034179688, Avg: -701.778466796875\n",
      "Task 2, Best: 132803320.0, Avg: 132941529.92\n",
      "Task 3, Best: 2895.30322265625, Avg: 3186.8062255859377\n",
      "Time taken each gen: 0.0938 seconds\n",
      "\n",
      "Gen 300\n",
      "Evaluation count: 227754\n",
      "Task 0, Best: -890.7199096679688, Avg: -890.7167205810547\n",
      "Task 1, Best: -701.7951049804688, Avg: -701.7942333984375\n",
      "Task 2, Best: 132221856.0, Avg: 132223532.24\n",
      "Task 3, Best: 1607.705810546875, Avg: 1608.8065344238282\n",
      "Time taken each gen: 0.0866 seconds\n",
      "\n",
      "Gen 400\n",
      "Evaluation count: 303742\n",
      "Task 0, Best: -890.998046875, Avg: -890.998046875\n",
      "Task 1, Best: -701.8176879882812, Avg: -701.8175671386718\n",
      "Task 2, Best: 108669968.0, Avg: 108709728.96\n",
      "Task 3, Best: 1250.9342041015625, Avg: 1252.6062829589844\n",
      "Time taken each gen: 0.0887 seconds\n",
      "\n",
      "Gen 500\n",
      "Evaluation count: 379428\n",
      "Task 0, Best: -891.001220703125, Avg: -890.999146118164\n",
      "Task 1, Best: -701.8182373046875, Avg: -701.8181768798828\n",
      "Task 2, Best: 93215112.0, Avg: 93216944.24\n",
      "Task 3, Best: 614.6681518554688, Avg: 617.9839190673828\n",
      "Time taken each gen: 0.0937 seconds\n",
      "\n",
      "Gen 600\n",
      "Evaluation count: 455478\n",
      "Task 0, Best: -941.3792114257812, Avg: -941.3526568603515\n",
      "Task 1, Best: -701.8182373046875, Avg: -701.8182373046875\n",
      "Task 2, Best: 93211408.0, Avg: 93211413.76\n",
      "Task 3, Best: 610.0713500976562, Avg: 610.0792877197266\n",
      "Time taken each gen: 0.1080 seconds\n",
      "\n",
      "Gen 700\n",
      "Evaluation count: 531492\n",
      "Task 0, Best: -941.3826293945312, Avg: -941.3826293945312\n",
      "Task 1, Best: -701.8356323242188, Avg: -701.835571899414\n",
      "Task 2, Best: 93210360.0, Avg: 93210371.04\n",
      "Task 3, Best: 610.02685546875, Avg: 610.02685546875\n",
      "Time taken each gen: 0.3515 seconds\n",
      "\n",
      "Gen 800\n",
      "Evaluation count: 607366\n",
      "Task 0, Best: -941.4088134765625, Avg: -941.4087536621093\n",
      "Task 1, Best: -701.8366088867188, Avg: -701.8366088867188\n",
      "Task 2, Best: 93210304.0, Avg: 93210304.0\n",
      "Task 3, Best: 610.0265502929688, Avg: 610.0265502929688\n",
      "Time taken each gen: 0.4194 seconds\n",
      "\n",
      "Gen 900\n",
      "Evaluation count: 683100\n",
      "Task 0, Best: -941.4130859375, Avg: -941.4091046142578\n",
      "Task 1, Best: -701.836669921875, Avg: -701.836669921875\n",
      "Task 2, Best: 93210304.0, Avg: 93210304.0\n",
      "Task 3, Best: 610.0264892578125, Avg: 610.0264892578125\n",
      "Time taken each gen: 0.4257 seconds\n",
      "\n",
      "Gen 1000\n",
      "Evaluation count: 758844\n",
      "Task 0, Best: -941.4159545898438, Avg: -941.4159545898438\n",
      "Task 1, Best: -701.836669921875, Avg: -701.836669921875\n",
      "Task 2, Best: 93210128.0, Avg: 93210217.04\n",
      "Task 3, Best: 610.0264282226562, Avg: 610.0264282226562\n",
      "Time taken each gen: 0.4250 seconds\n",
      "\n"
     ]
    }
   ],
   "source": [
    "bfs, mfs = amfea.fit(num_gen=1000, monitor=True, monitor_rate=100)"
   ]
  },
  {
   "cell_type": "code",
   "execution_count": null,
   "id": "63681614",
   "metadata": {},
   "outputs": [
    {
     "name": "stdout",
     "output_type": "stream",
     "text": [
      "2182358\n"
     ]
    }
   ],
   "source": [
    "print(amfea.eval_cnt)"
   ]
  },
  {
   "cell_type": "code",
   "execution_count": null,
   "id": "136b9a28",
   "metadata": {},
   "outputs": [
    {
     "name": "stdout",
     "output_type": "stream",
     "text": [
      "[1.92707397e-01 9.28115568e-01 1.95030332e-01 9.19464883e-01\n",
      " 7.00052070e-01 1.94086735e-01 9.32649332e-01 2.01325155e-01\n",
      " 3.79375448e-01 6.99848299e-01 1.94312757e-01 1.91218354e-01\n",
      " 9.32632332e-01 7.04786795e-01 1.85863576e-01 2.03263489e-01\n",
      " 6.95277561e-01 9.17992806e-01 9.40317772e-01 9.22242633e-01\n",
      " 7.15224694e-01 2.01667188e-01 7.00697586e-01 1.83446501e-01\n",
      " 7.04126343e-01 1.93066440e-01 7.03597835e-01 9.20387664e-01\n",
      " 7.05086955e-01 7.20233286e-04 7.07544023e-01 9.28164487e-01\n",
      " 1.85552661e-01 1.80195522e-01 2.14168065e-01 1.89942223e-01\n",
      " 7.02260894e-01 7.04083201e-01 9.23887402e-01 3.15534153e-03\n",
      " 9.19865290e-01 7.02337478e-01 9.06982242e-01 9.22580845e-01\n",
      " 6.97567082e-01 7.06233374e-01 7.08674613e-01 1.98085688e-01\n",
      " 9.28875413e-01 1.99998422e-01]\n",
      "[6637.95167233]\n"
     ]
    }
   ],
   "source": [
    "for i in range(len(amfea.pop[:701])):\n",
    "    if amfea.skill_factor[i] == 7:\n",
    "        x = amfea.pop[i]\n",
    "        print(x)\n",
    "        print(SchwefelTask.fitness(np.array([x])))"
   ]
  },
  {
   "cell_type": "code",
   "execution_count": null,
   "id": "e3295c50",
   "metadata": {},
   "outputs": [
    {
     "name": "stdout",
     "output_type": "stream",
     "text": [
      "0.9795161081006124\n"
     ]
    }
   ],
   "source": [
    "print(np.max(amfea.pop))"
   ]
  },
  {
   "cell_type": "code",
   "execution_count": null,
   "id": "88fdd99b",
   "metadata": {},
   "outputs": [],
   "source": [
    "dim = 50\n",
    "schwefel_shift = np.full(dim, 0)\n",
    "schwefel = Schwefel(50, schwefel_shift)"
   ]
  },
  {
   "cell_type": "code",
   "execution_count": null,
   "id": "f0181778",
   "metadata": {},
   "outputs": [
    {
     "data": {
      "text/plain": [
       "array([22735.02372398])"
      ]
     },
     "execution_count": 9,
     "metadata": {},
     "output_type": "execute_result"
    }
   ],
   "source": [
    "x_test = np.random.uniform(0, 1, size=dim)\n",
    "SchwefelTask = CEC17Task(schwefel, 500)\n",
    "SchwefelTask.fitness(np.array([x_test]))"
   ]
  },
  {
   "cell_type": "code",
   "execution_count": null,
   "id": "3aad6bff",
   "metadata": {},
   "outputs": [
    {
     "name": "stdout",
     "output_type": "stream",
     "text": [
      "[0.37138179 0.73449412 0.36311813 0.78244749 0.99178212 0.47985734\n",
      " 0.36771698 0.51114184 0.04594897 0.84181967 0.61995408 0.63615412\n",
      " 0.46263011 0.8640062  0.14332885 0.62474759 0.54728951 0.59178973\n",
      " 0.36934856 0.98753811 0.03777077 0.29882631 0.96237095 0.15249977\n",
      " 0.7886243  0.27673331 0.88030284 0.30618377 0.50073916 0.18406873\n",
      " 0.35633323 0.47317796 0.91791397 0.80261628 0.74382469 0.86932051\n",
      " 0.35167865 0.03108078 0.88207472 0.64581258 0.17599662 0.44207642\n",
      " 0.74174619 0.14262801 0.26605845 0.89521602 0.44415947 0.62751617\n",
      " 0.62814485 0.30749574]\n"
     ]
    }
   ],
   "source": [
    "print(x_test)"
   ]
  },
  {
   "cell_type": "code",
   "execution_count": null,
   "id": "6aad89ee",
   "metadata": {},
   "outputs": [
    {
     "name": "stdout",
     "output_type": "stream",
     "text": [
      "[152104.57279382]\n",
      "[425081.00403927]\n",
      "[519128.14154837]\n",
      "[53.38544507]\n",
      "[5.70541367e+09]\n",
      "[21.72861174]\n",
      "[104.8360553]\n",
      "[21254.0220888]\n",
      "[124.49564953]\n",
      "[113062.82998873]\n"
     ]
    }
   ],
   "source": [
    "super_tasks = get_10_tasks()\n",
    "for task in super_tasks:\n",
    "    print(task.fitness(np.array([x_test])))"
   ]
  },
  {
   "cell_type": "code",
   "execution_count": null,
   "id": "b24c064a",
   "metadata": {},
   "outputs": [],
   "source": [
    "with open('x_test.pkl', 'wb') as f:\n",
    "    pickle.dump(x_test, f)\n",
    "f.close()"
   ]
  },
  {
   "cell_type": "code",
   "execution_count": null,
   "id": "8ba02b55",
   "metadata": {},
   "outputs": [],
   "source": [
    "t = np.arange(10)"
   ]
  },
  {
   "cell_type": "code",
   "execution_count": null,
   "id": "605fc20a",
   "metadata": {},
   "outputs": [
    {
     "data": {
      "text/plain": [
       "array([[0, 1, 2, 3, 4, 5, 6, 7, 8, 9],\n",
       "       [0, 1, 2, 3, 4, 5, 6, 7, 8, 9]])"
      ]
     },
     "execution_count": 110,
     "metadata": {},
     "output_type": "execute_result"
    }
   ],
   "source": [
    "t = np.array([t, t])\n",
    "t"
   ]
  },
  {
   "cell_type": "code",
   "execution_count": null,
   "id": "c58d777a",
   "metadata": {},
   "outputs": [
    {
     "data": {
      "text/plain": [
       "array([[0, 1, 2],\n",
       "       [0, 1, 2]])"
      ]
     },
     "execution_count": 111,
     "metadata": {},
     "output_type": "execute_result"
    }
   ],
   "source": [
    "t[:, :3]"
   ]
  }
 ],
 "metadata": {
  "kernelspec": {
   "display_name": "Python 3",
   "language": "python",
   "name": "python3"
  },
  "language_info": {
   "codemirror_mode": {
    "name": "ipython",
    "version": 3
   },
   "file_extension": ".py",
   "mimetype": "text/x-python",
   "name": "python",
   "nbconvert_exporter": "python",
   "pygments_lexer": "ipython3",
   "version": "3.9.12"
  }
 },
 "nbformat": 4,
 "nbformat_minor": 5
}
