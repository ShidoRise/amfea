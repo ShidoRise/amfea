{
 "cells": [
  {
   "cell_type": "code",
   "execution_count": 79,
   "id": "62bd74ef",
   "metadata": {},
   "outputs": [
    {
     "name": "stdout",
     "output_type": "stream",
     "text": [
      "The autoreload extension is already loaded. To reload it, use:\n",
      "  %reload_ext autoreload\n"
     ]
    }
   ],
   "source": [
    "%load_ext autoreload\n",
    "%autoreload 2\n",
    "import numpy as np\n",
    "import pickle\n",
    "import os\n",
    "from mutation import *\n",
    "from crossover import *\n",
    "from rmp import *\n",
    "from mfea import *\n",
    "from task import *\n",
    "from llm import *\n",
    "import matplotlib.pyplot as plt"
   ]
  },
  {
   "cell_type": "code",
   "execution_count": 59,
   "id": "d49f584e",
   "metadata": {},
   "outputs": [],
   "source": [
    "gnbg_tasks = []\n",
    "gnbg_tasks.append(GNBGTask(1, 100))\n",
    "gnbg_tasks.append(GNBGTask(2, 100))\n",
    "gnbg_tasks.append(GNBGTask(3, 100))\n",
    "gnbg_tasks.append(GNBGTask(4, 100))\n",
    "gnbg_tasks.append(GNBGTask(5, 100))\n",
    "gnbg_tasks.append(GNBGTask(6, 100))"
   ]
  },
  {
   "cell_type": "code",
   "execution_count": 60,
   "id": "1242be84",
   "metadata": {},
   "outputs": [
    {
     "name": "stdout",
     "output_type": "stream",
     "text": [
      "sk-505a4ff57cfb432d8888a3d8d66a3133\n"
     ]
    }
   ],
   "source": [
    "\n",
    "API_KEY = os.getenv(\"DEEPSEEK_API_KEY\")\n",
    "print(API_KEY)\n"
   ]
  },
  {
   "cell_type": "code",
   "execution_count": 61,
   "id": "70978029",
   "metadata": {},
   "outputs": [
    {
     "name": "stdout",
     "output_type": "stream",
     "text": [
      "bound decode\n",
      "bound decode\n",
      "bound decode\n",
      "bound decode\n",
      "bound decode\n",
      "bound decode\n",
      "Initialization:\n",
      "Task 0:\n",
      "Best Fitness: 88493.00585449072\n",
      "Mean Fitness: 174977.16220808227\n",
      "\n",
      "Task 1:\n",
      "Best Fitness: -701.3655706540103\n",
      "Mean Fitness: -701.3096319430498\n",
      "\n",
      "Task 2:\n",
      "Best Fitness: 48286584358.337006\n",
      "Mean Fitness: 90795706026.31805\n",
      "\n",
      "Task 3:\n",
      "Best Fitness: 350194.91288626625\n",
      "Mean Fitness: 872582.2457233216\n",
      "\n",
      "Task 4:\n",
      "Best Fitness: -334.1102222074043\n",
      "Mean Fitness: -334.0020092371859\n",
      "\n",
      "Task 5:\n",
      "Best Fitness: -183.45614275540558\n",
      "Mean Fitness: -183.3469141626973\n",
      "\n"
     ]
    }
   ],
   "source": [
    "num_indis_per_task = 100\n",
    "indi_len = 30\n",
    "bound = 100\n",
    "crossover = BLXCrossover()\n",
    "mutation = PolynomialMutation(20)\n",
    "rmp = NormalRMP(0.3)\n",
    "\n",
    "amfea = AMFEA(num_indis_per_task, indi_len, gnbg_tasks, crossover, mutation, rmp)"
   ]
  },
  {
   "cell_type": "code",
   "execution_count": 62,
   "id": "6a667e50",
   "metadata": {
    "scrolled": true
   },
   "outputs": [
    {
     "name": "stdout",
     "output_type": "stream",
     "text": [
      "bound decode\n",
      "bound decode\n",
      "bound decode\n",
      "bound decode\n",
      "bound decode\n",
      "bound decode\n",
      "bound decode\n",
      "bound decode\n",
      "bound decode\n",
      "bound decode\n",
      "bound decode\n",
      "bound decode\n",
      "Gen 0\n",
      "Task 0, Best: 88493.00585449072, Avg: 167077.12770866242\n",
      "Task 1, Best: -701.3655706540103, Avg: -701.311541288806\n",
      "Task 2, Best: 48286584358.337006, Avg: 84202532352.73575\n",
      "Task 3, Best: 350194.91288626625, Avg: 811131.3754706655\n",
      "Task 4, Best: -334.12939453125, Avg: -334.01151490934933\n",
      "Task 5, Best: -183.45614275540558, Avg: -183.35809742606085\n",
      "Time taken each gen: 0.0102 seconds\n",
      "\n",
      "bound decode\n",
      "bound decode\n",
      "bound decode\n",
      "bound decode\n",
      "bound decode\n",
      "bound decode\n",
      "bound decode\n",
      "bound decode\n",
      "bound decode\n",
      "bound decode\n",
      "bound decode\n",
      "bound decode\n"
     ]
    }
   ],
   "source": [
    "bfs, mfs = amfea.fit(1, monitor=True, monitor_rate=500)"
   ]
  },
  {
   "cell_type": "code",
   "execution_count": 34,
   "id": "7695a5be",
   "metadata": {},
   "outputs": [
    {
     "name": "stdout",
     "output_type": "stream",
     "text": [
      "-1081.9837994003399\n",
      "-703.1328146165181\n",
      "-357.5797495903721\n",
      "-382.6205211774271\n",
      "-337.50899809752036\n",
      "-186.86405320391498\n"
     ]
    }
   ],
   "source": [
    "for task in gnbg_tasks:\n",
    "    print(task.gnbg.OptimumValue)"
   ]
  },
  {
   "cell_type": "code",
   "execution_count": 115,
   "id": "0c002b34",
   "metadata": {},
   "outputs": [
    {
     "data": {
      "text/plain": [
       "[<matplotlib.lines.Line2D at 0x2094f2104c0>]"
      ]
     },
     "execution_count": 115,
     "metadata": {},
     "output_type": "execute_result"
    },
    {
     "data": {
      "image/png": "[encoded data removed]",
      "text/plain": [
       "<Figure size 640x480 with 4 Axes>"
      ]
     },
     "metadata": {},
     "output_type": "display_data"
    }
   ],
   "source": [
    "fig, axes = plt.subplots(2, 2)\n",
    "fig.tight_layout()\n",
    "axes[0, 0].plot(bfs[0])"
   ]
  },
  {
   "cell_type": "code",
   "execution_count": 140,
   "id": "88fdd99b",
   "metadata": {},
   "outputs": [],
   "source": [
    "dim = 50\n",
    "ackley_shift = np.full(dim, 40)\n",
    "ackley = Ackley(dim, ackley_shift)"
   ]
  },
  {
   "cell_type": "code",
   "execution_count": 139,
   "id": "f0181778",
   "metadata": {},
   "outputs": [
    {
     "data": {
      "text/plain": [
       "array([21.62846046])"
      ]
     },
     "execution_count": 139,
     "metadata": {},
     "output_type": "execute_result"
    }
   ],
   "source": [
    "x_test = np.random.uniform(0, 1, size=dim)\n",
    "AckleyTask = CEC17Task(ackley, 50)\n",
    "AckleyTask.fitness(np.array([x_test]))"
   ]
  },
  {
   "cell_type": "code",
   "execution_count": 146,
   "id": "3aad6bff",
   "metadata": {},
   "outputs": [
    {
     "name": "stdout",
     "output_type": "stream",
     "text": [
      "[1.54497289e-02 3.73075392e-01 6.80685665e-01 3.78825268e-02\n",
      " 3.52137090e-01 5.02627644e-01 6.18971883e-01 1.93910040e-01\n",
      " 8.19384054e-01 3.59008022e-01 8.07712359e-01 1.73845546e-01\n",
      " 7.73339514e-02 2.36174594e-01 6.14256290e-01 3.02375235e-01\n",
      " 3.78409693e-01 6.20038934e-01 7.38054693e-01 9.36308634e-01\n",
      " 6.32990723e-01 5.75990794e-01 9.91329985e-01 4.78529562e-01\n",
      " 4.18237589e-01 4.50769260e-01 5.42197142e-01 5.05828582e-01\n",
      " 4.68777743e-01 9.61737813e-01 3.82030774e-01 4.84184529e-01\n",
      " 3.19512602e-01 8.78023935e-01 2.90853054e-01 2.89497928e-01\n",
      " 2.92489602e-01 7.02920959e-01 9.90768475e-04 3.58608156e-01\n",
      " 4.74580837e-01 4.65569303e-01 8.84476476e-01 6.78671635e-01\n",
      " 2.36138344e-01 1.31261740e-02 6.79019295e-02 1.08758098e-01\n",
      " 4.67137280e-02 7.61178660e-01]\n"
     ]
    }
   ],
   "source": [
    "print(x_test)"
   ]
  },
  {
   "cell_type": "code",
   "execution_count": 147,
   "id": "6aad89ee",
   "metadata": {},
   "outputs": [
    {
     "name": "stdout",
     "output_type": "stream",
     "text": [
      "[149977.00668908]\n",
      "[546768.72964811]\n",
      "[393185.28373006]\n",
      "[54.60241853]\n",
      "[5.95251685e+09]\n",
      "[21.62846046]\n",
      "[103.05359919]\n",
      "[21420.83233739]\n",
      "[128.64771245]\n",
      "[107798.04777011]\n"
     ]
    }
   ],
   "source": [
    "super_tasks = get_10_tasks()\n",
    "for task in super_tasks:\n",
    "    print(task.fitness(np.array([x_test])))"
   ]
  },
  {
   "cell_type": "code",
   "execution_count": 145,
   "id": "b24c064a",
   "metadata": {},
   "outputs": [],
   "source": [
    "with open('x_test.pkl', 'wb') as f:\n",
    "    pickle.dump(x_test, f)\n",
    "f.close()"
   ]
  },
  {
   "cell_type": "code",
   "execution_count": 109,
   "id": "8ba02b55",
   "metadata": {},
   "outputs": [],
   "source": [
    "t = np.arange(10)"
   ]
  },
  {
   "cell_type": "code",
   "execution_count": 110,
   "id": "605fc20a",
   "metadata": {},
   "outputs": [
    {
     "data": {
      "text/plain": [
       "array([[0, 1, 2, 3, 4, 5, 6, 7, 8, 9],\n",
       "       [0, 1, 2, 3, 4, 5, 6, 7, 8, 9]])"
      ]
     },
     "execution_count": 110,
     "metadata": {},
     "output_type": "execute_result"
    }
   ],
   "source": [
    "t = np.array([t, t])\n",
    "t"
   ]
  },
  {
   "cell_type": "code",
   "execution_count": 111,
   "id": "c58d777a",
   "metadata": {},
   "outputs": [
    {
     "data": {
      "text/plain": [
       "array([[0, 1, 2],\n",
       "       [0, 1, 2]])"
      ]
     },
     "execution_count": 111,
     "metadata": {},
     "output_type": "execute_result"
    }
   ],
   "source": [
    "t[:, :3]"
   ]
  }
 ],
 "metadata": {
  "kernelspec": {
   "display_name": "Python 3",
   "language": "python",
   "name": "python3"
  },
  "language_info": {
   "codemirror_mode": {
    "name": "ipython",
    "version": 3
   },
   "file_extension": ".py",
   "mimetype": "text/x-python",
   "name": "python",
   "nbconvert_exporter": "python",
   "pygments_lexer": "ipython3",
   "version": "3.9.12"
  }
 },
 "nbformat": 4,
 "nbformat_minor": 5
}
