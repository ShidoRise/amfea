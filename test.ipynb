{
 "cells": [
  {
   "cell_type": "code",
   "execution_count": 2,
   "id": "62bd74ef",
   "metadata": {},
   "outputs": [],
   "source": [
    "%load_ext autoreload\n",
    "%autoreload 2\n",
    "import numpy as np\n",
    "import pickle\n",
    "import os\n",
    "from mutation import *\n",
    "from crossover import *\n",
    "from rmp import *\n",
    "from mfea import *\n",
    "from task import *\n",
    "from llm import *\n",
    "import matplotlib.pyplot as plt"
   ]
  },
  {
   "cell_type": "code",
   "execution_count": 3,
   "id": "a9f72150",
   "metadata": {},
   "outputs": [],
   "source": [
    "cec2017_tasks = get_2_tasks(1)"
   ]
  },
  {
   "cell_type": "code",
   "execution_count": 37,
   "id": "24701637",
   "metadata": {},
   "outputs": [],
   "source": [
    "gnbg_tasks = []\n",
    "gnbg_tasks.append(GNBGTask(1, 100))\n",
    "gnbg_tasks.append(GNBGTask(2, 100))\n",
    "gnbg_tasks.append(GNBGTask(3, 100))\n",
    "gnbg_tasks.append(GNBGTask(4, 100))\n",
    "gnbg_tasks.append(GNBGTask(5, 100))"
   ]
  },
  {
   "cell_type": "code",
   "execution_count": 26,
   "id": "1242be84",
   "metadata": {},
   "outputs": [
    {
     "name": "stdout",
     "output_type": "stream",
     "text": [
      "sk-505a4ff57cfb432d8888a3d8d66a3133\n"
     ]
    }
   ],
   "source": [
    "\n",
    "API_KEY = os.getenv(\"DEEPSEEK_API_KEY\")\n",
    "print(API_KEY)\n"
   ]
  },
  {
   "cell_type": "code",
   "execution_count": 11,
   "id": "996fca4f",
   "metadata": {},
   "outputs": [],
   "source": [
    "np.random.seed(0)"
   ]
  },
  {
   "cell_type": "code",
   "execution_count": 64,
   "id": "ff17d230",
   "metadata": {},
   "outputs": [],
   "source": [
    "mutation = PolynomialMutation(5, 0.02)\n",
    "crossover = SBXCrossover(mutation)"
   ]
  },
  {
   "cell_type": "code",
   "execution_count": 14,
   "id": "64e33e26",
   "metadata": {},
   "outputs": [
    {
     "name": "stdout",
     "output_type": "stream",
     "text": [
      "(array([[0.69541079, 0.95756825, 0.83488547, 0.69847786, 0.        ],\n",
      "       [0.53798364, 0.35148311, 0.96450357, 0.72967205, 0.44820518],\n",
      "       [0.13469588, 0.41308345, 0.48897307, 0.        , 0.22359936],\n",
      "       [0.64170121, 0.42294978, 1.        , 0.12127821, 0.00746291],\n",
      "       [0.85985949, 0.72126437, 0.76493689, 0.38792101, 0.74370146],\n",
      "       [0.03441911, 0.57420217, 0.85300536, 0.04696314, 0.3899212 ],\n",
      "       [0.89007254, 0.80445126, 0.19100558, 0.27273255, 0.66511406],\n",
      "       [0.90239944, 0.51089071, 0.02799495, 0.54215864, 0.04294205],\n",
      "       [0.39217296, 0.04115659, 0.92330057, 0.40623497, 0.94428218],\n",
      "       [0.83881577, 0.6928224 , 0.95799151, 0.14222247, 0.08777354],\n",
      "       [0.2453717 , 0.38102144, 0.42403833, 0.26753056, 0.11264625],\n",
      "       [0.13867957, 0.68820216, 0.95588973, 0.34485436, 0.14278639],\n",
      "       [0.2600578 , 0.15217505, 0.19473966, 0.66216051, 0.38492733],\n",
      "       [0.25045429, 0.58115791, 0.89782395, 0.02442901, 0.59671877],\n",
      "       [0.84029349, 0.39577765, 0.82989906, 0.99537035, 0.11508673],\n",
      "       [0.24764204, 0.03165023, 0.72777296, 0.13883304, 0.29963953],\n",
      "       [0.23913283, 0.34313621, 0.78098546, 0.61663904, 0.10672227],\n",
      "       [0.38509751, 0.19796269, 0.54547057, 0.94888298, 0.49906673],\n",
      "       [0.83481806, 0.67941229, 0.46088382, 0.91420397, 0.97279759],\n",
      "       [0.9469049 , 0.87851872, 0.74048023, 0.91709626, 0.19398535]]), array([9, 5, 4, 5, 9, 5, 4, 5, 2, 0, 7, 5, 3, 9, 1, 2, 4, 6, 7, 3],\n",
      "      dtype=int32))\n"
     ]
    }
   ],
   "source": [
    "p1 = np.random.uniform(size=(10, 5))\n",
    "p2 = np.random.uniform(size=(10, 5))\n",
    "p1_skill_factor = np.random.randint(0, 10, size=10)\n",
    "p2_skill_factor = np.random.randint(0, 10, size=10)\n",
    "rmp = np.full(10, 0.3)\n",
    "print(crossover(rmp, p1, p2, p1_skill_factor, p2_skill_factor))"
   ]
  },
  {
   "cell_type": "code",
   "execution_count": 4,
   "id": "70978029",
   "metadata": {},
   "outputs": [
    {
     "name": "stdout",
     "output_type": "stream",
     "text": [
      "Initialization:\n",
      "Task 0:\n",
      "Best Fitness: 21.431387153361108\n",
      "Mean Fitness: 21.657828835842928\n",
      "\n",
      "Task 1:\n",
      "Best Fitness: 29051.725205282262\n",
      "Mean Fitness: 42512.95777347072\n",
      "\n"
     ]
    }
   ],
   "source": [
    "num_indis_per_task = 100\n",
    "indi_len = 50\n",
    "mutation = PolynomialMutation(5, 0.02)\n",
    "crossover = SBXCrossover(mutation, eta=2)\n",
    "# crossover = BLXCrossover()\n",
    "rmp = NormalRMP(0.3)\n",
    "\n",
    "amfea = AMFEA(num_indis_per_task, indi_len, cec2017_tasks, crossover, mutation, rmp)"
   ]
  },
  {
   "cell_type": "code",
   "execution_count": 5,
   "id": "6a667e50",
   "metadata": {
    "scrolled": true
   },
   "outputs": [
    {
     "name": "stdout",
     "output_type": "stream",
     "text": [
      "Gen 0\n",
      "Evaluation count: 400\n",
      "Task 0, Best: 21.323781967163086, Avg: 21.521323176499685\n",
      "Task 1, Best: 12893.2705078125, Avg: 32925.03122088928\n",
      "Time taken each gen: 0.0140 seconds\n",
      "\n",
      "Gen 100\n",
      "Evaluation count: 40400\n",
      "Task 0, Best: 9.093740463256836, Avg: 9.29624225616455\n",
      "Task 1, Best: 670.8204345703125, Avg: 678.3135180664062\n",
      "Time taken each gen: 0.0069 seconds\n",
      "\n",
      "Gen 200\n",
      "Evaluation count: 80400\n",
      "Task 0, Best: 8.338187217712402, Avg: 8.357773132324219\n",
      "Task 1, Best: 549.0913696289062, Avg: 552.7192266845703\n",
      "Time taken each gen: 0.0094 seconds\n",
      "\n",
      "Gen 300\n",
      "Evaluation count: 120400\n",
      "Task 0, Best: 8.123635292053223, Avg: 8.126940174102783\n",
      "Task 1, Best: 474.1314392089844, Avg: 475.4794604492188\n",
      "Time taken each gen: 0.0098 seconds\n",
      "\n",
      "Gen 400\n",
      "Evaluation count: 160400\n",
      "Task 0, Best: 7.8322038650512695, Avg: 7.843800630569458\n",
      "Task 1, Best: 446.0855407714844, Avg: 446.5943664550781\n",
      "Time taken each gen: 0.0161 seconds\n",
      "\n",
      "Gen 500\n",
      "Evaluation count: 200400\n",
      "Task 0, Best: 7.7449164390563965, Avg: 7.747370052337646\n",
      "Task 1, Best: 435.279052734375, Avg: 435.35819061279295\n",
      "Time taken each gen: 0.0000 seconds\n",
      "\n",
      "Gen 600\n",
      "Evaluation count: 240400\n",
      "Task 0, Best: 7.6927947998046875, Avg: 7.698283324241638\n",
      "Task 1, Best: 411.98492431640625, Avg: 412.0420169067383\n",
      "Time taken each gen: 0.0245 seconds\n",
      "\n",
      "Gen 700\n",
      "Evaluation count: 280400\n",
      "Task 0, Best: 7.658030033111572, Avg: 7.658032050132752\n",
      "Task 1, Best: 407.6365966796875, Avg: 407.8890084838867\n",
      "Time taken each gen: 0.0154 seconds\n",
      "\n",
      "Gen 800\n",
      "Evaluation count: 320400\n",
      "Task 0, Best: 7.6436076164245605, Avg: 7.6436076164245605\n",
      "Task 1, Best: 394.9654541015625, Avg: 394.96551116943357\n",
      "Time taken each gen: 0.0242 seconds\n",
      "\n",
      "Gen 900\n",
      "Evaluation count: 360400\n",
      "Task 0, Best: 7.629058361053467, Avg: 7.629153604507446\n",
      "Task 1, Best: 389.68218994140625, Avg: 389.7769488525391\n",
      "Time taken each gen: 0.0163 seconds\n",
      "\n",
      "Gen 1000\n",
      "Evaluation count: 400400\n",
      "Task 0, Best: 7.5831756591796875, Avg: 7.585180311203003\n",
      "Task 1, Best: 389.2730712890625, Avg: 389.2731231689453\n",
      "Time taken each gen: 0.0167 seconds\n",
      "\n"
     ]
    }
   ],
   "source": [
    "bfs, mfs = amfea.fit(num_gen=1000, monitor=True, monitor_rate=100)"
   ]
  },
  {
   "cell_type": "code",
   "execution_count": null,
   "id": "63681614",
   "metadata": {},
   "outputs": [
    {
     "name": "stdout",
     "output_type": "stream",
     "text": [
      "2182358\n"
     ]
    }
   ],
   "source": [
    "print(amfea.eval_cnt)"
   ]
  },
  {
   "cell_type": "code",
   "execution_count": null,
   "id": "136b9a28",
   "metadata": {},
   "outputs": [
    {
     "name": "stdout",
     "output_type": "stream",
     "text": [
      "[1.92707397e-01 9.28115568e-01 1.95030332e-01 9.19464883e-01\n",
      " 7.00052070e-01 1.94086735e-01 9.32649332e-01 2.01325155e-01\n",
      " 3.79375448e-01 6.99848299e-01 1.94312757e-01 1.91218354e-01\n",
      " 9.32632332e-01 7.04786795e-01 1.85863576e-01 2.03263489e-01\n",
      " 6.95277561e-01 9.17992806e-01 9.40317772e-01 9.22242633e-01\n",
      " 7.15224694e-01 2.01667188e-01 7.00697586e-01 1.83446501e-01\n",
      " 7.04126343e-01 1.93066440e-01 7.03597835e-01 9.20387664e-01\n",
      " 7.05086955e-01 7.20233286e-04 7.07544023e-01 9.28164487e-01\n",
      " 1.85552661e-01 1.80195522e-01 2.14168065e-01 1.89942223e-01\n",
      " 7.02260894e-01 7.04083201e-01 9.23887402e-01 3.15534153e-03\n",
      " 9.19865290e-01 7.02337478e-01 9.06982242e-01 9.22580845e-01\n",
      " 6.97567082e-01 7.06233374e-01 7.08674613e-01 1.98085688e-01\n",
      " 9.28875413e-01 1.99998422e-01]\n",
      "[6637.95167233]\n"
     ]
    }
   ],
   "source": [
    "for i in range(len(amfea.pop[:701])):\n",
    "    if amfea.skill_factor[i] == 7:\n",
    "        x = amfea.pop[i]\n",
    "        print(x)\n",
    "        print(SchwefelTask.fitness(np.array([x])))"
   ]
  },
  {
   "cell_type": "code",
   "execution_count": null,
   "id": "e3295c50",
   "metadata": {},
   "outputs": [
    {
     "name": "stdout",
     "output_type": "stream",
     "text": [
      "0.9795161081006124\n"
     ]
    }
   ],
   "source": [
    "print(np.max(amfea.pop))"
   ]
  },
  {
   "cell_type": "code",
   "execution_count": 22,
   "id": "88fdd99b",
   "metadata": {},
   "outputs": [],
   "source": [
    "dim = 50\n",
    "schwefel_shift = np.full(dim, 0)\n",
    "schwefel = Schwefel(50, schwefel_shift)"
   ]
  },
  {
   "cell_type": "code",
   "execution_count": 23,
   "id": "f0181778",
   "metadata": {},
   "outputs": [
    {
     "data": {
      "text/plain": [
       "array([19624.00486413])"
      ]
     },
     "execution_count": 23,
     "metadata": {},
     "output_type": "execute_result"
    }
   ],
   "source": [
    "x_test = np.random.uniform(0, 1, size=dim)\n",
    "SchwefelTask = CEC17Task(schwefel, 500)\n",
    "SchwefelTask.fitness(np.array([x_test]))"
   ]
  },
  {
   "cell_type": "code",
   "execution_count": 24,
   "id": "3aad6bff",
   "metadata": {},
   "outputs": [
    {
     "name": "stdout",
     "output_type": "stream",
     "text": [
      "[0.18541045 0.10918362 0.41620666 0.05202045 0.73581345 0.10242111\n",
      " 0.27975593 0.500361   0.28994784 0.69074022 0.43137988 0.69181414\n",
      " 0.18295413 0.60222251 0.94836878 0.83444372 0.74597701 0.29911743\n",
      " 0.86886052 0.66123358 0.01325606 0.14413201 0.93982458 0.31279125\n",
      " 0.83371066 0.9945565  0.37324847 0.94440294 0.76597573 0.93927236\n",
      " 0.73464583 0.73928831 0.24930223 0.86097878 0.48044106 0.70032713\n",
      " 0.18992072 0.18732098 0.34944063 0.67636843 0.45803565 0.81829454\n",
      " 0.77605716 0.66082975 0.67077776 0.39174871 0.01667886 0.62422151\n",
      " 0.90594216 0.4268725 ]\n"
     ]
    }
   ],
   "source": [
    "print(x_test)"
   ]
  },
  {
   "cell_type": "code",
   "execution_count": 1,
   "id": "6aad89ee",
   "metadata": {},
   "outputs": [
    {
     "ename": "NameError",
     "evalue": "name 'get_2_tasks' is not defined",
     "output_type": "error",
     "traceback": [
      "\u001b[1;31m---------------------------------------------------------------------------\u001b[0m",
      "\u001b[1;31mNameError\u001b[0m                                 Traceback (most recent call last)",
      "Cell \u001b[1;32mIn[1], line 1\u001b[0m\n\u001b[1;32m----> 1\u001b[0m super_tasks \u001b[38;5;241m=\u001b[39m \u001b[43mget_2_tasks\u001b[49m(\u001b[38;5;241m1\u001b[39m)\n\u001b[0;32m      2\u001b[0m \u001b[38;5;28;01mfor\u001b[39;00m task \u001b[38;5;129;01min\u001b[39;00m super_tasks:\n\u001b[0;32m      3\u001b[0m     \u001b[38;5;28mprint\u001b[39m(task\u001b[38;5;241m.\u001b[39mfitness(np\u001b[38;5;241m.\u001b[39marray([x_test])))\n",
      "\u001b[1;31mNameError\u001b[0m: name 'get_2_tasks' is not defined"
     ]
    }
   ],
   "source": [
    "super_tasks = get_2_tasks(1)\n",
    "for task in super_tasks:\n",
    "    print(task.fitness(np.array([x_test])))"
   ]
  },
  {
   "cell_type": "code",
   "execution_count": 27,
   "id": "b24c064a",
   "metadata": {},
   "outputs": [],
   "source": [
    "with open('x_test.pkl', 'wb') as f:\n",
    "    pickle.dump(x_test, f)\n",
    "f.close()"
   ]
  }
 ],
 "metadata": {
  "kernelspec": {
   "display_name": "Python 3",
   "language": "python",
   "name": "python3"
  },
  "language_info": {
   "codemirror_mode": {
    "name": "ipython",
    "version": 3
   },
   "file_extension": ".py",
   "mimetype": "text/x-python",
   "name": "python",
   "nbconvert_exporter": "python",
   "pygments_lexer": "ipython3",
   "version": "3.9.12"
  }
 },
 "nbformat": 4,
 "nbformat_minor": 5
}
