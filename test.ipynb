{
 "cells": [
  {
   "cell_type": "code",
   "execution_count": null,
   "id": "8e5389ca",
   "metadata": {},
   "outputs": [
    {
     "name": "stdout",
     "output_type": "stream",
     "text": [
      "The autoreload extension is already loaded. To reload it, use:\n",
      "  %reload_ext autoreload\n"
     ]
    }
   ],
   "source": [
    "%load_ext autoreload\n",
    "%autoreload 2\n",
    "import numpy as np\n",
    "from crossover import crossover\n",
    "from numba import jit\n",
    "from mfea.amfea import AMFEA\n",
    "from task.task import DummyTask\n",
    "from mutation.mutation import AbstractMutation, RandomMutation, AdditiveMutation"
   ]
  },
  {
   "cell_type": "code",
   "execution_count": 43,
   "id": "3ed09e3d",
   "metadata": {},
   "outputs": [],
   "source": [
    "np.random.seed(0)"
   ]
  },
  {
   "cell_type": "code",
   "execution_count": 143,
   "id": "8a787b33",
   "metadata": {},
   "outputs": [],
   "source": [
    "l = 3\n",
    "n = 500\n",
    "i1 = np.random.randint(-10, 10, size=(n, l))\n",
    "i2 = np.random.randint(-10, 10, size=(n, l))\n",
    "rmp = np.random.uniform(size=n)\n",
    "x = crossover.ArithmeticCrossover()\n"
   ]
  },
  {
   "cell_type": "code",
   "execution_count": 153,
   "id": "00be7971",
   "metadata": {},
   "outputs": [
    {
     "name": "stdout",
     "output_type": "stream",
     "text": [
      "79.8 µs ± 17.2 µs per loop (mean ± std. dev. of 7 runs, 100 loops each)\n"
     ]
    }
   ],
   "source": [
    "%timeit -n 100 u = x(rmp, i1, i2)"
   ]
  },
  {
   "cell_type": "code",
   "execution_count": 4,
   "id": "684adb3f",
   "metadata": {},
   "outputs": [],
   "source": [
    "x = np.random.randint(-4, 4, size=(3, 3))"
   ]
  },
  {
   "cell_type": "code",
   "execution_count": 8,
   "id": "fdc59a37",
   "metadata": {},
   "outputs": [
    {
     "data": {
      "text/plain": [
       "array([[ 0,  3,  1],\n",
       "       [-4, -1, -1],\n",
       "       [-1,  3, -3]], dtype=int32)"
      ]
     },
     "execution_count": 8,
     "metadata": {},
     "output_type": "execute_result"
    }
   ],
   "source": [
    "x"
   ]
  },
  {
   "cell_type": "code",
   "execution_count": 9,
   "id": "762409b9",
   "metadata": {},
   "outputs": [
    {
     "data": {
      "text/plain": [
       "array([ 4, -6, -1])"
      ]
     },
     "execution_count": 9,
     "metadata": {},
     "output_type": "execute_result"
    }
   ],
   "source": [
    "np.sum(x, axis=1)"
   ]
  },
  {
   "cell_type": "code",
   "execution_count": 20,
   "id": "79e312e1",
   "metadata": {},
   "outputs": [
    {
     "data": {
      "text/plain": [
       "array([ 4, -6, -1])"
      ]
     },
     "execution_count": 20,
     "metadata": {},
     "output_type": "execute_result"
    }
   ],
   "source": [
    "test_task = DummyTask()\n",
    "test_task.fitness(x)"
   ]
  },
  {
   "cell_type": "code",
   "execution_count": 32,
   "id": "7207c739",
   "metadata": {},
   "outputs": [
    {
     "name": "stdout",
     "output_type": "stream",
     "text": [
      "1\n",
      "0\n"
     ]
    }
   ],
   "source": [
    "amfea = AMFEA(5, 5, 10, [test_task], crossover.ArithmeticCrossover)"
   ]
  },
  {
   "cell_type": "code",
   "execution_count": 33,
   "id": "358469c3",
   "metadata": {},
   "outputs": [
    {
     "data": {
      "text/plain": [
       "array([[-5.65099015,  4.98508834,  4.63387513, -9.08770726, -5.81685941],\n",
       "       [-4.26169913,  3.54526611, -8.73923421,  1.11298486, -9.81519853],\n",
       "       [ 6.66076195,  9.68658869,  4.06989568, -6.36737599,  0.24786927],\n",
       "       [ 1.60894274,  5.75084312,  2.1295092 , -5.6319429 , -0.8966237 ],\n",
       "       [ 7.57739484, -0.15463517,  4.31122315, -0.27680879,  4.170963  ]])"
      ]
     },
     "execution_count": 33,
     "metadata": {},
     "output_type": "execute_result"
    }
   ],
   "source": [
    "amfea.pop"
   ]
  },
  {
   "cell_type": "code",
   "execution_count": 44,
   "id": "7b08f8ec",
   "metadata": {},
   "outputs": [
    {
     "ename": "NameError",
     "evalue": "name 'AdditiveMutation' is not defined",
     "output_type": "error",
     "traceback": [
      "\u001b[1;31m---------------------------------------------------------------------------\u001b[0m",
      "\u001b[1;31mNameError\u001b[0m                                 Traceback (most recent call last)",
      "Cell \u001b[1;32mIn[44], line 1\u001b[0m\n\u001b[1;32m----> 1\u001b[0m rm \u001b[38;5;241m=\u001b[39m \u001b[43mAdditiveMutation\u001b[49m(\u001b[38;5;241m100\u001b[39m, \u001b[38;5;241m1\u001b[39m)\n\u001b[0;32m      2\u001b[0m t \u001b[38;5;241m=\u001b[39m np\u001b[38;5;241m.\u001b[39mrandom\u001b[38;5;241m.\u001b[39muniform(\u001b[38;5;241m-\u001b[39m\u001b[38;5;241m100\u001b[39m, \u001b[38;5;241m100\u001b[39m, size\u001b[38;5;241m=\u001b[39m(\u001b[38;5;241m5\u001b[39m, \u001b[38;5;241m5\u001b[39m))\n\u001b[0;32m      3\u001b[0m \u001b[38;5;28mprint\u001b[39m(t)\n",
      "\u001b[1;31mNameError\u001b[0m: name 'AdditiveMutation' is not defined"
     ]
    }
   ],
   "source": [
    "rm = AdditiveMutation(100, 1)\n",
    "t = np.random.uniform(-100, 100, size=(5, 5))\n",
    "print(t)\n",
    "print(rm(t))"
   ]
  }
 ],
 "metadata": {
  "kernelspec": {
   "display_name": "Python 3",
   "language": "python",
   "name": "python3"
  },
  "language_info": {
   "codemirror_mode": {
    "name": "ipython",
    "version": 3
   },
   "file_extension": ".py",
   "mimetype": "text/x-python",
   "name": "python",
   "nbconvert_exporter": "python",
   "pygments_lexer": "ipython3",
   "version": "3.9.12"
  }
 },
 "nbformat": 4,
 "nbformat_minor": 5
}
