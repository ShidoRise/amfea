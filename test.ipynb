{
 "cells": [
  {
   "cell_type": "code",
   "execution_count": 23,
   "id": "62bd74ef",
   "metadata": {},
   "outputs": [
    {
     "name": "stdout",
     "output_type": "stream",
     "text": [
      "The autoreload extension is already loaded. To reload it, use:\n",
      "  %reload_ext autoreload\n"
     ]
    }
   ],
   "source": [
    "%load_ext autoreload\n",
    "%autoreload 2\n",
    "import numpy as np\n",
    "import pickle\n",
    "import os\n",
    "from mutation import *\n",
    "from crossover import *\n",
    "from rmp import *\n",
    "from mfea import *\n",
    "from task import *\n",
    "from llm import *\n",
    "import matplotlib.pyplot as plt"
   ]
  },
  {
   "cell_type": "code",
   "execution_count": 24,
   "id": "d49f584e",
   "metadata": {},
   "outputs": [],
   "source": [
    "gnbg_tasks = []\n",
    "gnbg_tasks.append(GNBGTask(1, 100))\n",
    "gnbg_tasks.append(GNBGTask(2, 100))\n",
    "gnbg_tasks.append(GNBGTask(3, 100))\n",
    "gnbg_tasks.append(GNBGTask(4, 100))\n",
    "gnbg_tasks.append(GNBGTask(5, 100))\n",
    "gnbg_tasks.append(GNBGTask(6, 100))"
   ]
  },
  {
   "cell_type": "code",
   "execution_count": 25,
   "id": "a9f72150",
   "metadata": {},
   "outputs": [],
   "source": [
    "cec2017_tasks = get_10_tasks()"
   ]
  },
  {
   "cell_type": "code",
   "execution_count": 17,
   "id": "1242be84",
   "metadata": {},
   "outputs": [
    {
     "name": "stdout",
     "output_type": "stream",
     "text": [
      "sk-505a4ff57cfb432d8888a3d8d66a3133\n"
     ]
    }
   ],
   "source": [
    "\n",
    "API_KEY = os.getenv(\"DEEPSEEK_API_KEY\")\n",
    "print(API_KEY)\n"
   ]
  },
  {
   "cell_type": "code",
   "execution_count": 32,
   "id": "70978029",
   "metadata": {},
   "outputs": [
    {
     "name": "stdout",
     "output_type": "stream",
     "text": [
      "Initialization:\n",
      "Task 0:\n",
      "Best Fitness: 114482.51926269832\n",
      "Mean Fitness: 167784.05604831627\n",
      "\n",
      "Task 1:\n",
      "Best Fitness: 335574.8914666791\n",
      "Mean Fitness: 481372.02768145304\n",
      "\n",
      "Task 2:\n",
      "Best Fitness: 306897.28026785114\n",
      "Mean Fitness: 484925.16889512894\n",
      "\n",
      "Task 3:\n",
      "Best Fitness: 40.124796057525444\n",
      "Mean Fitness: 50.0338892123428\n",
      "\n",
      "Task 4:\n",
      "Best Fitness: 2817607877.410504\n",
      "Mean Fitness: 6208366861.687385\n",
      "\n",
      "Task 5:\n",
      "Best Fitness: 21.397894819186885\n",
      "Mean Fitness: 21.702409978298956\n",
      "\n",
      "Task 6:\n",
      "Best Fitness: 84.59562723251032\n",
      "Mean Fitness: 99.58811954883434\n",
      "\n",
      "Task 7:\n",
      "Best Fitness: 17333.362894304624\n",
      "Mean Fitness: 20872.45990985499\n",
      "\n",
      "Task 8:\n",
      "Best Fitness: 94.98253020181201\n",
      "Mean Fitness: 126.00668470912987\n",
      "\n",
      "Task 9:\n",
      "Best Fitness: 75033.3877564581\n",
      "Mean Fitness: 122934.65573407854\n",
      "\n"
     ]
    }
   ],
   "source": [
    "num_indis_per_task = 150\n",
    "indi_len = 50\n",
    "crossover = BLXCrossover()\n",
    "mutation = PolynomialMutation(20)\n",
    "rmp = NormalRMP(0.3)\n",
    "\n",
    "amfea = AMFEA(num_indis_per_task, indi_len, cec2017_tasks, crossover, mutation, rmp)"
   ]
  },
  {
   "cell_type": "code",
   "execution_count": 33,
   "id": "6a667e50",
   "metadata": {
    "scrolled": true
   },
   "outputs": [
    {
     "name": "stdout",
     "output_type": "stream",
     "text": [
      "Gen 0\n",
      "Task 0, Best: 106850.1328125, Avg: 159522.60973526852\n",
      "Task 1, Best: 335574.8914666791, Avg: 450348.8831368544\n",
      "Task 2, Best: 306897.28026785114, Avg: 453804.0854417755\n",
      "Task 3, Best: 40.124796057525444, Avg: 48.241178219970365\n",
      "Task 4, Best: 2817607877.410504, Avg: 5578446477.86148\n",
      "Task 5, Best: 21.397894819186885, Avg: 21.662159402649134\n",
      "Task 6, Best: 84.59562723251032, Avg: 97.67570680929033\n",
      "Task 7, Best: 17333.362894304624, Avg: 20221.36949494692\n",
      "Task 8, Best: 88.37026977539062, Avg: 118.70193262105357\n",
      "Task 9, Best: 74459.64455723815, Avg: 113637.92531715962\n",
      "Time taken each gen: 0.0483 seconds\n",
      "\n",
      "Gen 500\n",
      "Task 0, Best: 3451.15283203125, Avg: 5052.222409725525\n",
      "Task 1, Best: 2765.552440500662, Avg: 3631.201165668665\n",
      "Task 2, Best: 2834.22802734375, Avg: 3551.3720574937056\n",
      "Task 3, Best: 14.23593807220459, Avg: 15.321696662425524\n",
      "Task 4, Best: 5760300.5, Avg: 9242768.10175301\n",
      "Task 5, Best: 12.672261238098145, Avg: 13.593786987272706\n",
      "Task 6, Best: 35.50753912550228, Avg: 40.73380930877558\n",
      "Task 7, Best: 9165.5390625, Avg: 9797.21875431089\n",
      "Task 8, Best: 1.9871022054167358, Avg: 2.1813799596953176\n",
      "Task 9, Best: 1190.26298631705, Avg: 1439.070248373037\n",
      "Time taken each gen: 0.0201 seconds\n",
      "\n",
      "Gen 1000\n",
      "Task 0, Best: 1140.5191650390625, Avg: 1899.579975386187\n",
      "Task 1, Best: 128.79550170898438, Avg: 194.93739355147443\n",
      "Task 2, Best: 191.1632029460457, Avg: 260.8164092970799\n",
      "Task 3, Best: 4.312334060668945, Avg: 5.065293848523716\n",
      "Task 4, Best: 713742.3125, Avg: 1707544.9219602274\n",
      "Task 5, Best: 4.75706148147583, Avg: 5.2957229881142815\n",
      "Task 6, Best: 11.228388786315918, Avg: 13.263775930723192\n",
      "Task 7, Best: 8049.80322265625, Avg: 8616.701032091618\n",
      "Task 8, Best: 1.2378766536712646, Avg: 1.262973519565636\n",
      "Task 9, Best: 545.7733734790431, Avg: 614.0200642742954\n",
      "Time taken each gen: 0.0278 seconds\n",
      "\n",
      "Gen 1500\n",
      "Task 0, Best: 506.4911193847656, Avg: 799.6287534586588\n",
      "Task 1, Best: 36.60525131225586, Avg: 65.84439797487506\n",
      "Task 2, Best: 58.86878967285156, Avg: 90.61503621382813\n",
      "Task 3, Best: 2.2968523502349854, Avg: 2.906177899042765\n",
      "Task 4, Best: 105822.5625, Avg: 347803.46098958334\n",
      "Task 5, Best: 3.2298943996429443, Avg: 3.85769465070926\n",
      "Task 6, Best: 8.056862831115723, Avg: 9.41247010861717\n",
      "Task 7, Best: 7307.72021484375, Avg: 7738.64786063445\n",
      "Task 8, Best: 1.0499804019927979, Avg: 1.0715620528788956\n",
      "Task 9, Best: 415.6351318359375, Avg: 519.7387774186266\n",
      "Time taken each gen: 0.0556 seconds\n",
      "\n",
      "Gen 2000\n",
      "Task 0, Best: 170.24966430664062, Avg: 274.5286382039388\n",
      "Task 1, Best: 11.805569648742676, Avg: 21.48095900853475\n",
      "Task 2, Best: 15.947098731994629, Avg: 26.307335567474365\n",
      "Task 3, Best: 1.3234161138534546, Avg: 1.7078275616963705\n",
      "Task 4, Best: 18440.326171875, Avg: 56812.039453125\n",
      "Task 5, Best: 2.3378853797912598, Avg: 2.7724556016921995\n",
      "Task 6, Best: 5.077940464019775, Avg: 6.700042295455932\n",
      "Task 7, Best: 6786.48974609375, Avg: 7053.10470703125\n",
      "Task 8, Best: 0.9159890413284302, Avg: 0.992547047984032\n",
      "Task 9, Best: 415.6351318359375, Avg: 486.82439354614047\n",
      "Time taken each gen: 0.0765 seconds\n",
      "\n",
      "Gen 2500\n",
      "Task 0, Best: 76.36468505859375, Avg: 112.63080413818359\n",
      "Task 1, Best: 4.301515579223633, Avg: 6.9217542425791425\n",
      "Task 2, Best: 5.676116466522217, Avg: 8.948186944325766\n",
      "Task 3, Best: 0.8302988409996033, Avg: 1.0190529044469196\n",
      "Task 4, Best: 4354.708984375, Avg: 12275.165227864583\n",
      "Task 5, Best: 1.2349402904510498, Avg: 1.67565123240153\n",
      "Task 6, Best: 3.876617670059204, Avg: 4.5208111111323035\n",
      "Task 7, Best: 6602.845703125, Avg: 6753.33552734375\n",
      "Task 8, Best: 0.6639491319656372, Avg: 0.7883735462029775\n",
      "Task 9, Best: 413.68956084467266, Avg: 458.6613750477863\n",
      "Time taken each gen: 0.0396 seconds\n",
      "\n",
      "Gen 3000\n",
      "Task 0, Best: 30.125316619873047, Avg: 51.004025853474936\n",
      "Task 1, Best: 1.5475658178329468, Avg: 2.4243712401390076\n",
      "Task 2, Best: 1.6403237581253052, Avg: 2.921453420321147\n",
      "Task 3, Best: 0.49966323375701904, Avg: 0.6152101242542267\n",
      "Task 4, Best: 2371.80615234375, Avg: 4195.739269205729\n",
      "Task 5, Best: 0.7181575894355774, Avg: 0.9065266915162404\n",
      "Task 6, Best: 2.9837777614593506, Avg: 3.336167073249817\n",
      "Task 7, Best: 6394.08740234375, Avg: 6513.247763671875\n",
      "Task 8, Best: 0.34065383672714233, Avg: 0.5153454838196436\n",
      "Task 9, Best: 344.348876953125, Avg: 446.15073754129526\n",
      "Time taken each gen: 0.0599 seconds\n",
      "\n",
      "Gen 3500\n",
      "Task 0, Best: 15.218329429626465, Avg: 23.38767667134603\n",
      "Task 1, Best: 0.40726396441459656, Avg: 0.7165825392802556\n",
      "Task 2, Best: 0.4125211536884308, Avg: 0.8736222877105078\n",
      "Task 3, Best: 0.2720984220504761, Avg: 0.37158030112584434\n",
      "Task 4, Best: 1314.413818359375, Avg: 2201.5231013997395\n",
      "Task 5, Best: 0.28365612030029297, Avg: 0.4107649161418279\n",
      "Task 6, Best: 1.9067587852478027, Avg: 2.2584956955909727\n",
      "Task 7, Best: 6339.59521484375, Avg: 6372.3133333333335\n",
      "Task 8, Best: 0.16657650470733643, Avg: 0.2828446605801582\n",
      "Task 9, Best: 344.348876953125, Avg: 435.2466988748669\n",
      "Time taken each gen: 0.0547 seconds\n",
      "\n",
      "Gen 4000\n",
      "Task 0, Best: 7.08756160736084, Avg: 10.264985376993815\n",
      "Task 1, Best: 0.14556585252285004, Avg: 0.24631635983784994\n",
      "Task 2, Best: 0.1789054572582245, Avg: 0.2619443545738856\n",
      "Task 3, Best: 0.1795709878206253, Avg: 0.21578288475672405\n",
      "Task 4, Best: 777.0242309570312, Avg: 1242.3011678059895\n",
      "Task 5, Best: 0.1252264678478241, Avg: 0.189713574051857\n",
      "Task 6, Best: 1.3464832305908203, Avg: 1.5590985536575317\n",
      "Task 7, Best: 6317.37353515625, Avg: 6328.265387369792\n",
      "Task 8, Best: 0.08252580463886261, Avg: 0.12918035383025805\n",
      "Task 9, Best: 344.348876953125, Avg: 426.12100754204573\n",
      "Time taken each gen: 0.0181 seconds\n",
      "\n",
      "Gen 4500\n",
      "Task 0, Best: 3.268864393234253, Avg: 4.51835268497467\n",
      "Task 1, Best: 0.05609966069459915, Avg: 0.08119769940773645\n",
      "Task 2, Best: 0.06091151386499405, Avg: 0.09958141081035138\n",
      "Task 3, Best: 0.10808495432138443, Avg: 0.12983590270082157\n",
      "Task 4, Best: 582.357177734375, Avg: 803.9650345865886\n",
      "Task 5, Best: 0.07059088349342346, Avg: 0.09726792007684708\n",
      "Task 6, Best: 0.944770336151123, Avg: 1.1070651149749755\n",
      "Task 7, Best: 6305.94921875, Avg: 6311.011416015625\n",
      "Task 8, Best: 0.03590661287307739, Avg: 0.05795807714263598\n",
      "Task 9, Best: 344.348876953125, Avg: 418.3407125803618\n",
      "Time taken each gen: 0.0426 seconds\n",
      "\n",
      "Gen 5000\n",
      "Task 0, Best: 1.2120449542999268, Avg: 2.0075439182917276\n",
      "Task 1, Best: 0.0208149217069149, Avg: 0.029067262622217337\n",
      "Task 2, Best: 0.02189960516989231, Avg: 0.03483644261956215\n",
      "Task 3, Best: 0.0647333636879921, Avg: 0.07963790307442348\n",
      "Task 4, Best: 243.2622528076172, Avg: 525.8750254313151\n",
      "Task 5, Best: 0.04399174451828003, Avg: 0.05494364224374294\n",
      "Task 6, Best: 0.682029664516449, Avg: 0.8010964834690094\n",
      "Task 7, Best: 6301.13720703125, Avg: 6303.7415559895835\n",
      "Task 8, Best: 0.01871863752603531, Avg: 0.027181869372725487\n",
      "Task 9, Best: 344.348876953125, Avg: 410.0538382361316\n",
      "Time taken each gen: 0.0330 seconds\n",
      "\n"
     ]
    }
   ],
   "source": [
    "bfs, mfs = amfea.fit(num_gen=5000, monitor=True, monitor_rate=500)"
   ]
  },
  {
   "cell_type": "code",
   "execution_count": 28,
   "id": "136b9a28",
   "metadata": {},
   "outputs": [
    {
     "name": "stdout",
     "output_type": "stream",
     "text": [
      "[1.92707397e-01 9.28115568e-01 1.95030332e-01 9.19464883e-01\n",
      " 7.00052070e-01 1.94086735e-01 9.32649332e-01 2.01325155e-01\n",
      " 3.79375448e-01 6.99848299e-01 1.94312757e-01 1.91218354e-01\n",
      " 9.32632332e-01 7.04786795e-01 1.85863576e-01 2.03263489e-01\n",
      " 6.95277561e-01 9.17992806e-01 9.40317772e-01 9.22242633e-01\n",
      " 7.15224694e-01 2.01667188e-01 7.00697586e-01 1.83446501e-01\n",
      " 7.04126343e-01 1.93066440e-01 7.03597835e-01 9.20387664e-01\n",
      " 7.05086955e-01 7.20233286e-04 7.07544023e-01 9.28164487e-01\n",
      " 1.85552661e-01 1.80195522e-01 2.14168065e-01 1.89942223e-01\n",
      " 7.02260894e-01 7.04083201e-01 9.23887402e-01 3.15534153e-03\n",
      " 9.19865290e-01 7.02337478e-01 9.06982242e-01 9.22580845e-01\n",
      " 6.97567082e-01 7.06233374e-01 7.08674613e-01 1.98085688e-01\n",
      " 9.28875413e-01 1.99998422e-01]\n",
      "[6637.95167233]\n"
     ]
    }
   ],
   "source": [
    "for i in range(len(amfea.pop[:701])):\n",
    "    if amfea.skill_factor[i] == 7:\n",
    "        x = amfea.pop[i]\n",
    "        print(x)\n",
    "        print(SchwefelTask.fitness(np.array([x])))"
   ]
  },
  {
   "cell_type": "code",
   "execution_count": 31,
   "id": "e3295c50",
   "metadata": {},
   "outputs": [
    {
     "name": "stdout",
     "output_type": "stream",
     "text": [
      "0.9795161081006124\n"
     ]
    }
   ],
   "source": [
    "print(np.max(amfea.pop))"
   ]
  },
  {
   "cell_type": "code",
   "execution_count": 7,
   "id": "88fdd99b",
   "metadata": {},
   "outputs": [],
   "source": [
    "dim = 50\n",
    "schwefel_shift = np.full(dim, 0)\n",
    "schwefel = Schwefel(50, schwefel_shift)"
   ]
  },
  {
   "cell_type": "code",
   "execution_count": 9,
   "id": "f0181778",
   "metadata": {},
   "outputs": [
    {
     "data": {
      "text/plain": [
       "array([22735.02372398])"
      ]
     },
     "execution_count": 9,
     "metadata": {},
     "output_type": "execute_result"
    }
   ],
   "source": [
    "x_test = np.random.uniform(0, 1, size=dim)\n",
    "SchwefelTask = CEC17Task(schwefel, 500)\n",
    "SchwefelTask.fitness(np.array([x_test]))"
   ]
  },
  {
   "cell_type": "code",
   "execution_count": 199,
   "id": "3aad6bff",
   "metadata": {},
   "outputs": [
    {
     "name": "stdout",
     "output_type": "stream",
     "text": [
      "[0.37138179 0.73449412 0.36311813 0.78244749 0.99178212 0.47985734\n",
      " 0.36771698 0.51114184 0.04594897 0.84181967 0.61995408 0.63615412\n",
      " 0.46263011 0.8640062  0.14332885 0.62474759 0.54728951 0.59178973\n",
      " 0.36934856 0.98753811 0.03777077 0.29882631 0.96237095 0.15249977\n",
      " 0.7886243  0.27673331 0.88030284 0.30618377 0.50073916 0.18406873\n",
      " 0.35633323 0.47317796 0.91791397 0.80261628 0.74382469 0.86932051\n",
      " 0.35167865 0.03108078 0.88207472 0.64581258 0.17599662 0.44207642\n",
      " 0.74174619 0.14262801 0.26605845 0.89521602 0.44415947 0.62751617\n",
      " 0.62814485 0.30749574]\n"
     ]
    }
   ],
   "source": [
    "print(x_test)"
   ]
  },
  {
   "cell_type": "code",
   "execution_count": 200,
   "id": "6aad89ee",
   "metadata": {},
   "outputs": [
    {
     "name": "stdout",
     "output_type": "stream",
     "text": [
      "[152104.57279382]\n",
      "[425081.00403927]\n",
      "[519128.14154837]\n",
      "[53.38544507]\n",
      "[5.70541367e+09]\n",
      "[21.72861174]\n",
      "[104.8360553]\n",
      "[21254.0220888]\n",
      "[124.49564953]\n",
      "[113062.82998873]\n"
     ]
    }
   ],
   "source": [
    "super_tasks = get_10_tasks()\n",
    "for task in super_tasks:\n",
    "    print(task.fitness(np.array([x_test])))"
   ]
  },
  {
   "cell_type": "code",
   "execution_count": 201,
   "id": "b24c064a",
   "metadata": {},
   "outputs": [],
   "source": [
    "with open('x_test.pkl', 'wb') as f:\n",
    "    pickle.dump(x_test, f)\n",
    "f.close()"
   ]
  },
  {
   "cell_type": "code",
   "execution_count": 109,
   "id": "8ba02b55",
   "metadata": {},
   "outputs": [],
   "source": [
    "t = np.arange(10)"
   ]
  },
  {
   "cell_type": "code",
   "execution_count": 110,
   "id": "605fc20a",
   "metadata": {},
   "outputs": [
    {
     "data": {
      "text/plain": [
       "array([[0, 1, 2, 3, 4, 5, 6, 7, 8, 9],\n",
       "       [0, 1, 2, 3, 4, 5, 6, 7, 8, 9]])"
      ]
     },
     "execution_count": 110,
     "metadata": {},
     "output_type": "execute_result"
    }
   ],
   "source": [
    "t = np.array([t, t])\n",
    "t"
   ]
  },
  {
   "cell_type": "code",
   "execution_count": 111,
   "id": "c58d777a",
   "metadata": {},
   "outputs": [
    {
     "data": {
      "text/plain": [
       "array([[0, 1, 2],\n",
       "       [0, 1, 2]])"
      ]
     },
     "execution_count": 111,
     "metadata": {},
     "output_type": "execute_result"
    }
   ],
   "source": [
    "t[:, :3]"
   ]
  }
 ],
 "metadata": {
  "kernelspec": {
   "display_name": "Python 3",
   "language": "python",
   "name": "python3"
  },
  "language_info": {
   "codemirror_mode": {
    "name": "ipython",
    "version": 3
   },
   "file_extension": ".py",
   "mimetype": "text/x-python",
   "name": "python",
   "nbconvert_exporter": "python",
   "pygments_lexer": "ipython3",
   "version": "3.9.12"
  }
 },
 "nbformat": 4,
 "nbformat_minor": 5
}
