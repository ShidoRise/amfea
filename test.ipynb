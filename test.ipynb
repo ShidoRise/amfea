{
 "cells": [
  {
   "cell_type": "code",
   "execution_count": 10,
   "id": "76bca8f0",
   "metadata": {},
   "outputs": [
    {
     "name": "stdout",
     "output_type": "stream",
     "text": [
      "The autoreload extension is already loaded. To reload it, use:\n",
      "  %reload_ext autoreload\n"
     ]
    }
   ],
   "source": [
    "%load_ext autoreload\n",
    "%autoreload 2\n",
    "import numpy as np\n",
    "from mutation import *\n",
    "from crossover import *"
   ]
  },
  {
   "cell_type": "code",
   "execution_count": 8,
   "id": "f40d99a9",
   "metadata": {},
   "outputs": [
    {
     "data": {
      "text/plain": [
       "(array([[10.       ,  8.539509 ,  9.31688  , 10.       , 10.       ],\n",
       "        [10.       ,  8.016278 ,  8.337529 ,  8.827667 ,  9.661642 ],\n",
       "        [ 9.245015 ,  9.029444 ,  8.610632 , 10.       , 10.       ],\n",
       "        [ 9.20727  ,  9.151408 , 10.       , 10.       ,  9.7848835],\n",
       "        [ 8.517543 , 10.       , 10.       , 10.       ,  8.414768 ]],\n",
       "       dtype=float32),\n",
       " array([1, 1, 1, 0, 0], dtype=int32))"
      ]
     },
     "execution_count": 8,
     "metadata": {},
     "output_type": "execute_result"
    }
   ],
   "source": [
    "p = np.full((5, 5), 10.0, dtype=np.float32)\n",
    "skf = np.random.randint(0, 2, 5)\n",
    "am = AdditiveMutation(10.0, 2.0)\n",
    "am(p, skf)"
   ]
  },
  {
   "cell_type": "code",
   "execution_count": null,
   "id": "e62b8583",
   "metadata": {},
   "outputs": [
    {
     "ename": "TypeError",
     "evalue": "'ConnectionAbortedError' object is not callable",
     "output_type": "error",
     "traceback": [
      "\u001b[1;31m---------------------------------------------------------------------------\u001b[0m",
      "\u001b[1;31mTypeError\u001b[0m                                 Traceback (most recent call last)",
      "Cell \u001b[1;32mIn[11], line 2\u001b[0m\n\u001b[0;32m      1\u001b[0m crs \u001b[38;5;241m=\u001b[39m \u001b[38;5;167;01mConnectionAbortedError\u001b[39;00m()\n\u001b[1;32m----> 2\u001b[0m \u001b[43mcrs\u001b[49m\u001b[43m(\u001b[49m\u001b[43mp\u001b[49m\u001b[43m,\u001b[49m\u001b[43m \u001b[49m\u001b[43mp\u001b[49m\u001b[43m,\u001b[49m\u001b[43m \u001b[49m\u001b[43mskf\u001b[49m\u001b[43m,\u001b[49m\u001b[43m \u001b[49m\u001b[43mskf\u001b[49m\u001b[43m)\u001b[49m\n",
      "\u001b[1;31mTypeError\u001b[0m: 'ConnectionAbortedError' object is not callable"
     ]
    }
   ],
   "source": [
    "crs = ArithmeticCrossover()\n",
    "crs(p, p, skf, skf)"
   ]
  }
 ],
 "metadata": {
  "kernelspec": {
   "display_name": "Python 3",
   "language": "python",
   "name": "python3"
  },
  "language_info": {
   "codemirror_mode": {
    "name": "ipython",
    "version": 3
   },
   "file_extension": ".py",
   "mimetype": "text/x-python",
   "name": "python",
   "nbconvert_exporter": "python",
   "pygments_lexer": "ipython3",
   "version": "3.9.12"
  }
 },
 "nbformat": 4,
 "nbformat_minor": 5
}
