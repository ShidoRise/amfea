{
 "cells": [
  {
   "cell_type": "code",
   "execution_count": 1,
   "id": "62bd74ef",
   "metadata": {},
   "outputs": [],
   "source": [
    "%load_ext autoreload\n",
    "%autoreload 2\n",
    "import numpy as np\n",
    "import pickle\n",
    "import os\n",
    "from mutation import *\n",
    "from crossover import *\n",
    "from rmp import *\n",
    "from mfea import *\n",
    "from task import *\n",
    "from llm import *\n",
    "import matplotlib.pyplot as plt"
   ]
  },
  {
   "cell_type": "code",
   "execution_count": 141,
   "id": "24701637",
   "metadata": {},
   "outputs": [],
   "source": [
    "gnbg_tasks = []\n",
    "gnbg_tasks.append(GNBGTask(1, 100))\n",
    "gnbg_tasks.append(GNBGTask(2, 100))\n",
    "gnbg_tasks.append(GNBGTask(3, 100))\n",
    "gnbg_tasks.append(GNBGTask(4, 100))\n",
    "gnbg_tasks.append(GNBGTask(5, 100))"
   ]
  },
  {
   "cell_type": "code",
   "execution_count": 3,
   "id": "1242be84",
   "metadata": {},
   "outputs": [
    {
     "name": "stdout",
     "output_type": "stream",
     "text": [
      "sk-505a4ff57cfb432d8888a3d8d66a3133\n"
     ]
    }
   ],
   "source": [
    "\n",
    "API_KEY = os.getenv(\"DEEPSEEK_API_KEY\")\n",
    "print(API_KEY)\n"
   ]
  },
  {
   "cell_type": "code",
   "execution_count": 142,
   "id": "996fca4f",
   "metadata": {},
   "outputs": [],
   "source": [
    "np.random.seed(0)"
   ]
  },
  {
   "cell_type": "code",
   "execution_count": 4,
   "id": "ff17d230",
   "metadata": {},
   "outputs": [],
   "source": [
    "mutation = PolynomialMutation(5, 0.02)\n",
    "crossover = SBXCrossover(mutation)"
   ]
  },
  {
   "cell_type": "code",
   "execution_count": 5,
   "id": "f6679ed7",
   "metadata": {},
   "outputs": [],
   "source": [
    "def rmp_matrix_to_array(rmp_matrix, p1_skill_factor, p2_skill_factor):\n",
    "    return rmp_matrix[p1_skill_factor, p2_skill_factor]"
   ]
  },
  {
   "cell_type": "code",
   "execution_count": null,
   "id": "33f263ce",
   "metadata": {},
   "outputs": [],
   "source": []
  },
  {
   "cell_type": "code",
   "execution_count": null,
   "id": "a9f72150",
   "metadata": {},
   "outputs": [
    {
     "ename": "TypeError",
     "evalue": "get_10_tasks() takes 0 positional arguments but 1 was given",
     "output_type": "error",
     "traceback": [
      "\u001b[1;31m---------------------------------------------------------------------------\u001b[0m",
      "\u001b[1;31mTypeError\u001b[0m                                 Traceback (most recent call last)",
      "Cell \u001b[1;32mIn[18], line 1\u001b[0m\n\u001b[1;32m----> 1\u001b[0m cec2017_tasks \u001b[38;5;241m=\u001b[39m \u001b[43mget_10_tasks\u001b[49m\u001b[43m(\u001b[49m\u001b[38;5;241;43m0\u001b[39;49m\u001b[43m)\u001b[49m\n",
      "\u001b[1;31mTypeError\u001b[0m: get_10_tasks() takes 0 positional arguments but 1 was given"
     ]
    }
   ],
   "source": [
    "cec2017_tasks = get_10_tasks()"
   ]
  },
  {
   "cell_type": "code",
   "execution_count": 17,
   "id": "528aa919",
   "metadata": {},
   "outputs": [
    {
     "name": "stdout",
     "output_type": "stream",
     "text": [
      "2\n"
     ]
    }
   ],
   "source": [
    "print(len(cec2017_tasks))"
   ]
  },
  {
   "cell_type": "code",
   "execution_count": 108,
   "id": "64e33e26",
   "metadata": {},
   "outputs": [],
   "source": [
    "p1 = np.random.uniform(size=(10, 50))\n",
    "p2 = np.random.uniform(size=(10, 50))\n",
    "p1_skill_factor = np.random.randint(0, 2, size=10)\n",
    "p2_skill_factor = np.random.randint(0, 2, size=10)\n",
    "p1_fitness = np.random.uniform(size=10)\n",
    "p2_fitness = np.random.uniform(size=10)\n",
    "rmp = np.full(shape=(2, 2), fill_value=0.3)\n",
    "off, off_skill_factor, off_fitness = crossover(rmp, p1, p2, p1_skill_factor, p2_skill_factor, p1_fitness, p2_fitness, cec2017_tasks, eval=False)"
   ]
  },
  {
   "cell_type": "code",
   "execution_count": 109,
   "id": "90310df1",
   "metadata": {},
   "outputs": [
    {
     "name": "stdout",
     "output_type": "stream",
     "text": [
      "1.0\n"
     ]
    }
   ],
   "source": [
    "print(np.max(off))"
   ]
  },
  {
   "cell_type": "code",
   "execution_count": 110,
   "id": "5dfdebe5",
   "metadata": {},
   "outputs": [
    {
     "data": {
      "text/plain": [
       "array([0.3, 0.3, 0.3, 0.3, 0.3, 0.3, 0.3, 0.3, 0.3, 0.3])"
      ]
     },
     "execution_count": 110,
     "metadata": {},
     "output_type": "execute_result"
    }
   ],
   "source": [
    "rmp_matrix_to_array(rmp, p1_skill_factor, p2_skill_factor)"
   ]
  },
  {
   "cell_type": "code",
   "execution_count": 15,
   "id": "70978029",
   "metadata": {},
   "outputs": [
    {
     "name": "stdout",
     "output_type": "stream",
     "text": [
      "Initialization:\n",
      "Task 0:\n",
      "Best Fitness: 28.72726145482241\n",
      "Mean Fitness: 41.84939975643959\n",
      "\n",
      "Task 1:\n",
      "Best Fitness: 33474.47290658513\n",
      "Mean Fitness: 41953.28045960818\n",
      "\n"
     ]
    }
   ],
   "source": [
    "num_indis_per_task = 50\n",
    "indi_len = 50\n",
    "mutation = PolynomialMutation(5, 0.03)\n",
    "crossover = SBXCrossover(mutation, eta=2)\n",
    "# crossover = BLXCrossover()\n",
    "rmp = NormalRMP(0.3)\n",
    "\n",
    "amfea = AMFEA(num_indis_per_task,\n",
    "              indi_len,\n",
    "              cec2017_tasks,\n",
    "              crossover,\n",
    "              mutation,\n",
    "              rmp)"
   ]
  },
  {
   "cell_type": "code",
   "execution_count": 14,
   "id": "6a667e50",
   "metadata": {
    "scrolled": true
   },
   "outputs": [
    {
     "name": "stdout",
     "output_type": "stream",
     "text": [
      "Gen 0\n",
      "Evaluation count: 0\n",
      "Task 0, Best: 3.0426889698384585, Avg: 3.792686812789029\n",
      "Task 1, Best: 2081.8313027712043, Avg: 3194.4937880756256\n",
      "Time taken each gen: 0.0104 seconds\n",
      "\n",
      "Gen 100\n",
      "Evaluation count: 0\n",
      "Task 0, Best: 1.3104384584285267, Avg: 1.3232567407264044\n",
      "Task 1, Best: 711.9221583590268, Avg: 754.0493985303023\n",
      "Time taken each gen: 0.0341 seconds\n",
      "\n",
      "Gen 200\n",
      "Evaluation count: 0\n",
      "Task 0, Best: 1.0913039441166947, Avg: 1.0932151632889884\n",
      "Task 1, Best: 418.34600867689744, Avg: 434.31947853300824\n",
      "Time taken each gen: 0.0405 seconds\n",
      "\n",
      "Gen 300\n",
      "Evaluation count: 0\n",
      "Task 0, Best: 1.0408672474663918, Avg: 1.0415968596924778\n",
      "Task 1, Best: 365.01151813670646, Avg: 371.27155603802777\n",
      "Time taken each gen: 0.0320 seconds\n",
      "\n",
      "Gen 400\n",
      "Evaluation count: 0\n",
      "Task 0, Best: 0.8938637730908915, Avg: 0.8941040870024838\n",
      "Task 1, Best: 316.4824470797523, Avg: 320.2136991805955\n",
      "Time taken each gen: 0.0364 seconds\n",
      "\n",
      "Gen 500\n",
      "Evaluation count: 0\n",
      "Task 0, Best: 0.7168322670514996, Avg: 0.7277668380400972\n",
      "Task 1, Best: 275.9798352642449, Avg: 276.1894764049972\n",
      "Time taken each gen: 0.0388 seconds\n",
      "\n",
      "Gen 600\n",
      "Evaluation count: 0\n",
      "Task 0, Best: 0.6160143050654108, Avg: 0.6201149300035178\n",
      "Task 1, Best: 230.98102741077395, Avg: 237.80349015432463\n",
      "Time taken each gen: 0.0275 seconds\n",
      "\n",
      "Gen 700\n",
      "Evaluation count: 0\n",
      "Task 0, Best: 0.48346432035768117, Avg: 0.4846845282788419\n",
      "Task 1, Best: 208.9422626703962, Avg: 209.00804716493886\n",
      "Time taken each gen: 0.0355 seconds\n",
      "\n",
      "Gen 800\n",
      "Evaluation count: 0\n",
      "Task 0, Best: 0.4379492222367486, Avg: 0.4419105805172975\n",
      "Task 1, Best: 201.37559219551707, Avg: 201.3755993723736\n",
      "Time taken each gen: 0.0288 seconds\n",
      "\n",
      "Gen 900\n",
      "Evaluation count: 0\n",
      "Task 0, Best: 0.35536941081796614, Avg: 0.3723379227394654\n",
      "Task 1, Best: 182.4338575826676, Avg: 183.01902488765475\n",
      "Time taken each gen: 0.0322 seconds\n",
      "\n",
      "Gen 1000\n",
      "Evaluation count: 0\n",
      "Task 0, Best: 0.29481500934214666, Avg: 0.29495133709167604\n",
      "Task 1, Best: 178.00690345795505, Avg: 178.00690481276015\n",
      "Time taken each gen: 0.0332 seconds\n",
      "\n"
     ]
    }
   ],
   "source": [
    "bfs, mfs = amfea.fit(num_gen=1000, monitor=True, monitor_rate=100)"
   ]
  },
  {
   "cell_type": "code",
   "execution_count": 149,
   "id": "901bc2d4",
   "metadata": {},
   "outputs": [
    {
     "name": "stdout",
     "output_type": "stream",
     "text": [
      "-1081.9837994003399\n",
      "-703.1328146165181\n",
      "-357.5797495903721\n",
      "-382.6205211774271\n",
      "-337.50899809752036\n"
     ]
    }
   ],
   "source": [
    "for task in gnbg_tasks:\n",
    "    print(task.gnbg.OptimumValue)"
   ]
  },
  {
   "cell_type": "code",
   "execution_count": 90,
   "id": "24a6afef",
   "metadata": {},
   "outputs": [
    {
     "name": "stdout",
     "output_type": "stream",
     "text": [
      "0.9999784003327589\n"
     ]
    }
   ],
   "source": [
    "print(np.max(amfea.pop))"
   ]
  },
  {
   "cell_type": "code",
   "execution_count": 120,
   "id": "88fdd99b",
   "metadata": {},
   "outputs": [],
   "source": [
    "dim = 50"
   ]
  },
  {
   "cell_type": "code",
   "execution_count": 121,
   "id": "f0181778",
   "metadata": {},
   "outputs": [],
   "source": [
    "x_test = np.random.uniform(0, 1, size=dim)"
   ]
  },
  {
   "cell_type": "code",
   "execution_count": 122,
   "id": "3aad6bff",
   "metadata": {},
   "outputs": [
    {
     "name": "stdout",
     "output_type": "stream",
     "text": [
      "[0.85907482 0.94008339 0.50785754 0.72509466 0.06625432 0.66633294\n",
      " 0.74234832 0.90374985 0.23927356 0.32128177 0.31552997 0.67909715\n",
      " 0.43332934 0.98120044 0.2745511  0.60376838 0.85184482 0.19065958\n",
      " 0.6426098  0.40787485 0.20654012 0.13219135 0.41308363 0.54744061\n",
      " 0.57048436 0.42555876 0.19406744 0.27179178 0.297762   0.11140318\n",
      " 0.45006828 0.16531338 0.92069788 0.88879073 0.44608596 0.23528611\n",
      " 0.58133187 0.71235906 0.17826929 0.45866792 0.01148249 0.91859941\n",
      " 0.35862434 0.36346905 0.90740653 0.8934829  0.99067995 0.27788791\n",
      " 0.08522302 0.15000237]\n"
     ]
    }
   ],
   "source": [
    "print(x_test)"
   ]
  },
  {
   "cell_type": "code",
   "execution_count": 124,
   "id": "6aad89ee",
   "metadata": {},
   "outputs": [
    {
     "name": "stdout",
     "output_type": "stream",
     "text": [
      "[165305.05004158]\n",
      "[500797.26552413]\n",
      "[469812.83455903]\n",
      "[52.41419773]\n",
      "[5.98007733e+09]\n",
      "[21.6372491]\n",
      "[96.7504262]\n",
      "[18339.88464123]\n",
      "[137.7442226]\n",
      "[106369.7608199]\n"
     ]
    }
   ],
   "source": [
    "super_tasks = get_10_tasks()\n",
    "for task in super_tasks:\n",
    "    print(task.fitness(np.array([x_test])))"
   ]
  },
  {
   "cell_type": "code",
   "execution_count": null,
   "id": "34306292",
   "metadata": {},
   "outputs": [],
   "source": [
    "165305.0500415824\n",
    "500797.2655241336\n",
    "469812.83455903106\n",
    "52.41419772668738\n",
    "5980077333.781868\n",
    "21.637249102506384\n",
    "96.75042619986894\n",
    "18339.884641225744\n",
    "137.74422260305982\n",
    "106369.76081990033"
   ]
  },
  {
   "cell_type": "code",
   "execution_count": 125,
   "id": "b24c064a",
   "metadata": {},
   "outputs": [],
   "source": [
    "with open('x_test.pkl', 'wb') as f:\n",
    "    pickle.dump(x_test, f)\n",
    "f.close()"
   ]
  },
  {
   "cell_type": "code",
   "execution_count": null,
   "id": "2c88785f",
   "metadata": {},
   "outputs": [
    {
     "name": "stdout",
     "output_type": "stream",
     "text": [
      "[4 5 6]\n"
     ]
    }
   ],
   "source": [
    "#test \n",
    "p = np.array([1, 2, 3])\n",
    "def f(p):\n",
    "    p += 3\n",
    "f(p)\n",
    "print(p)"
   ]
  }
 ],
 "metadata": {
  "kernelspec": {
   "display_name": "Python 3",
   "language": "python",
   "name": "python3"
  },
  "language_info": {
   "codemirror_mode": {
    "name": "ipython",
    "version": 3
   },
   "file_extension": ".py",
   "mimetype": "text/x-python",
   "name": "python",
   "nbconvert_exporter": "python",
   "pygments_lexer": "ipython3",
   "version": "3.9.12"
  }
 },
 "nbformat": 4,
 "nbformat_minor": 5
}
