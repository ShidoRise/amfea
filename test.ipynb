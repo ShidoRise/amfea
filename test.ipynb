{
 "cells": [
  {
   "cell_type": "code",
   "execution_count": 64,
   "id": "62bd74ef",
   "metadata": {},
   "outputs": [
    {
     "name": "stdout",
     "output_type": "stream",
     "text": [
      "The autoreload extension is already loaded. To reload it, use:\n",
      "  %reload_ext autoreload\n"
     ]
    }
   ],
   "source": [
    "%load_ext autoreload\n",
    "%autoreload 2\n",
    "import numpy as np\n",
    "import pickle\n",
    "import os\n",
    "from mutation import *\n",
    "from crossover import *\n",
    "from rmp import *\n",
    "from mfea import *\n",
    "from task import *\n",
    "from llm import *\n",
    "import matplotlib.pyplot as plt"
   ]
  },
  {
   "cell_type": "code",
   "execution_count": 126,
   "id": "a9f72150",
   "metadata": {},
   "outputs": [],
   "source": [
    "cec2017_tasks = get_2_tasks(0)"
   ]
  },
  {
   "cell_type": "code",
   "execution_count": 141,
   "id": "24701637",
   "metadata": {},
   "outputs": [],
   "source": [
    "gnbg_tasks = []\n",
    "gnbg_tasks.append(GNBGTask(1, 100))\n",
    "gnbg_tasks.append(GNBGTask(2, 100))\n",
    "gnbg_tasks.append(GNBGTask(3, 100))\n",
    "gnbg_tasks.append(GNBGTask(4, 100))\n",
    "gnbg_tasks.append(GNBGTask(5, 100))"
   ]
  },
  {
   "cell_type": "code",
   "execution_count": 67,
   "id": "1242be84",
   "metadata": {},
   "outputs": [
    {
     "name": "stdout",
     "output_type": "stream",
     "text": [
      "sk-505a4ff57cfb432d8888a3d8d66a3133\n"
     ]
    }
   ],
   "source": [
    "\n",
    "API_KEY = os.getenv(\"DEEPSEEK_API_KEY\")\n",
    "print(API_KEY)\n"
   ]
  },
  {
   "cell_type": "code",
   "execution_count": 142,
   "id": "996fca4f",
   "metadata": {},
   "outputs": [],
   "source": [
    "np.random.seed(0)"
   ]
  },
  {
   "cell_type": "code",
   "execution_count": 98,
   "id": "ff17d230",
   "metadata": {},
   "outputs": [],
   "source": [
    "mutation = PolynomialMutation(5, 0.02)\n",
    "crossover = SBXCrossover(mutation)"
   ]
  },
  {
   "cell_type": "code",
   "execution_count": 70,
   "id": "f6679ed7",
   "metadata": {},
   "outputs": [],
   "source": [
    "def rmp_matrix_to_array(rmp_matrix, p1_skill_factor, p2_skill_factor):\n",
    "    return rmp_matrix[p1_skill_factor, p2_skill_factor]"
   ]
  },
  {
   "cell_type": "code",
   "execution_count": null,
   "id": "33f263ce",
   "metadata": {},
   "outputs": [],
   "source": []
  },
  {
   "cell_type": "code",
   "execution_count": 82,
   "id": "528aa919",
   "metadata": {},
   "outputs": [
    {
     "name": "stdout",
     "output_type": "stream",
     "text": [
      "10\n"
     ]
    }
   ],
   "source": [
    "print(len(cec2017_tasks))"
   ]
  },
  {
   "cell_type": "code",
   "execution_count": 108,
   "id": "64e33e26",
   "metadata": {},
   "outputs": [],
   "source": [
    "p1 = np.random.uniform(size=(10, 50))\n",
    "p2 = np.random.uniform(size=(10, 50))\n",
    "p1_skill_factor = np.random.randint(0, 2, size=10)\n",
    "p2_skill_factor = np.random.randint(0, 2, size=10)\n",
    "p1_fitness = np.random.uniform(size=10)\n",
    "p2_fitness = np.random.uniform(size=10)\n",
    "rmp = np.full(shape=(2, 2), fill_value=0.3)\n",
    "off, off_skill_factor, off_fitness = crossover(rmp, p1, p2, p1_skill_factor, p2_skill_factor, p1_fitness, p2_fitness, cec2017_tasks, eval=False)"
   ]
  },
  {
   "cell_type": "code",
   "execution_count": 109,
   "id": "90310df1",
   "metadata": {},
   "outputs": [
    {
     "name": "stdout",
     "output_type": "stream",
     "text": [
      "1.0\n"
     ]
    }
   ],
   "source": [
    "print(np.max(off))"
   ]
  },
  {
   "cell_type": "code",
   "execution_count": 110,
   "id": "5dfdebe5",
   "metadata": {},
   "outputs": [
    {
     "data": {
      "text/plain": [
       "array([0.3, 0.3, 0.3, 0.3, 0.3, 0.3, 0.3, 0.3, 0.3, 0.3])"
      ]
     },
     "execution_count": 110,
     "metadata": {},
     "output_type": "execute_result"
    }
   ],
   "source": [
    "rmp_matrix_to_array(rmp, p1_skill_factor, p2_skill_factor)"
   ]
  },
  {
   "cell_type": "code",
   "execution_count": 144,
   "id": "70978029",
   "metadata": {},
   "outputs": [
    {
     "name": "stdout",
     "output_type": "stream",
     "text": [
      "Initialization:\n",
      "Task 0:\n",
      "Best Fitness: 74787.24436666205\n",
      "Mean Fitness: 175172.92298259248\n",
      "\n",
      "Task 1:\n",
      "Best Fitness: -701.3546010083435\n",
      "Mean Fitness: -701.3086898536557\n",
      "\n",
      "Task 2:\n",
      "Best Fitness: 56454941874.38804\n",
      "Mean Fitness: 90356265720.93964\n",
      "\n",
      "Task 3:\n",
      "Best Fitness: 525569.883834236\n",
      "Mean Fitness: 903311.5953462477\n",
      "\n",
      "Task 4:\n",
      "Best Fitness: -334.08928126745025\n",
      "Mean Fitness: -333.9915417137997\n",
      "\n"
     ]
    }
   ],
   "source": [
    "num_indis_per_task = 50\n",
    "indi_len = 30\n",
    "mutation = PolynomialMutation(5, 0.03)\n",
    "crossover = SBXCrossover(mutation, eta=2)\n",
    "# crossover = BLXCrossover()\n",
    "rmp = NormalRMP(0.3)\n",
    "\n",
    "amfea = AMFEA(num_indis_per_task, indi_len, gnbg_tasks, crossover, mutation, rmp)"
   ]
  },
  {
   "cell_type": "code",
   "execution_count": 146,
   "id": "6a667e50",
   "metadata": {
    "scrolled": true
   },
   "outputs": [
    {
     "name": "stdout",
     "output_type": "stream",
     "text": [
      "Gen 0\n",
      "Evaluation count: 0\n",
      "Task 0, Best: -1081.8081506166427, Avg: -1081.807512732132\n",
      "Task 1, Best: -702.1803185557993, Avg: -702.1803166219624\n",
      "Task 2, Best: 190812.14332164073, Avg: 195089.91590326297\n",
      "Task 3, Best: -368.7610341746665, Avg: -368.1934030163167\n",
      "Task 4, Best: -335.4479620806293, Avg: -335.4465414067906\n",
      "Time taken each gen: 0.0641 seconds\n",
      "\n",
      "Gen 100\n",
      "Evaluation count: 0\n",
      "Task 0, Best: -1081.8345236847708, Avg: -1081.8345122805495\n",
      "Task 1, Best: -702.223933592356, Avg: -702.2239335479572\n",
      "Task 2, Best: 141665.34003227708, Avg: 143248.96470542497\n",
      "Task 3, Best: -371.58587066393955, Avg: -371.3884605436188\n",
      "Task 4, Best: -335.4721340887671, Avg: -335.4718484511631\n",
      "Time taken each gen: 0.2119 seconds\n",
      "\n",
      "Gen 200\n",
      "Evaluation count: 0\n",
      "Task 0, Best: -1081.8684661913978, Avg: -1081.8684638341347\n",
      "Task 1, Best: -702.2277561887913, Avg: -702.2277529603277\n",
      "Task 2, Best: 80399.8814278148, Avg: 80400.00505491403\n",
      "Task 3, Best: -375.8280094764302, Avg: -374.93881468961246\n",
      "Task 4, Best: -335.49790224776484, Avg: -335.4970474456565\n",
      "Time taken each gen: 0.2119 seconds\n",
      "\n",
      "Gen 300\n",
      "Evaluation count: 0\n",
      "Task 0, Best: -1081.893002483088, Avg: -1081.893002467733\n",
      "Task 1, Best: -702.2309904304716, Avg: -702.2309902245704\n",
      "Task 2, Best: 70252.83679567883, Avg: 70252.83679690065\n",
      "Task 3, Best: -377.6499303142715, Avg: -377.56654957282876\n",
      "Task 4, Best: -335.5307738666499, Avg: -335.52362688939604\n",
      "Time taken each gen: 0.5577 seconds\n",
      "\n",
      "Gen 400\n",
      "Evaluation count: 0\n",
      "Task 0, Best: -1081.9119716855425, Avg: -1081.9119716801135\n",
      "Task 1, Best: -702.2359175427159, Avg: -702.2339175108615\n",
      "Task 2, Best: 51461.592081212344, Avg: 51477.50911133343\n",
      "Task 3, Best: -378.3988043945587, Avg: -378.39101099704766\n",
      "Task 4, Best: -335.53942968905875, Avg: -335.5394208382584\n",
      "Time taken each gen: 0.5468 seconds\n",
      "\n",
      "Gen 500\n",
      "Evaluation count: 0\n",
      "Task 0, Best: -1081.9162608364868, Avg: -1081.9162606755608\n",
      "Task 1, Best: -702.2439741564355, Avg: -702.2439463272551\n",
      "Task 2, Best: 36766.223105042, Avg: 36770.493464752515\n",
      "Task 3, Best: -379.41971133569706, Avg: -379.2185839172314\n",
      "Task 4, Best: -335.5876562431852, Avg: -335.5853709548969\n",
      "Time taken each gen: 0.7098 seconds\n",
      "\n"
     ]
    },
    {
     "name": "stderr",
     "output_type": "stream",
     "text": [
      "c:\\Users\\madmo\\Workspace\\amfea\\mfea\\amfea.py:134: NearConstantInputWarning: An input array is nearly constant; the computed correlation coefficient may be inaccurate.\n",
      "  corr_j, _ = pearsonr(fitness_j, fitness_j_on_i) if len(fitness_j) > 1 else (0.0, 0.0)\n",
      "c:\\Users\\madmo\\Workspace\\amfea\\mfea\\amfea.py:133: NearConstantInputWarning: An input array is nearly constant; the computed correlation coefficient may be inaccurate.\n",
      "  corr_i, _ = pearsonr(fitness_i, fitness_i_on_j) if len(fitness_i) > 1 else (0.0, 0.0)\n"
     ]
    },
    {
     "name": "stdout",
     "output_type": "stream",
     "text": [
      "Gen 600\n",
      "Evaluation count: 0\n",
      "Task 0, Best: -1081.9557233464343, Avg: -1081.9551262973569\n",
      "Task 1, Best: -702.2439762204856, Avg: -702.2439762204856\n",
      "Task 2, Best: 36174.97996187466, Avg: 36175.22507172225\n",
      "Task 3, Best: -379.9452921077142, Avg: -379.8801716019097\n",
      "Task 4, Best: -335.62027701149697, Avg: -335.6202599631022\n",
      "Time taken each gen: 0.7373 seconds\n",
      "\n"
     ]
    },
    {
     "name": "stderr",
     "output_type": "stream",
     "text": [
      "c:\\Users\\madmo\\Workspace\\amfea\\mfea\\amfea.py:134: ConstantInputWarning: An input array is constant; the correlation coefficient is not defined.\n",
      "  corr_j, _ = pearsonr(fitness_j, fitness_j_on_i) if len(fitness_j) > 1 else (0.0, 0.0)\n",
      "c:\\Users\\madmo\\Workspace\\amfea\\mfea\\amfea.py:133: ConstantInputWarning: An input array is constant; the correlation coefficient is not defined.\n",
      "  corr_i, _ = pearsonr(fitness_i, fitness_i_on_j) if len(fitness_i) > 1 else (0.0, 0.0)\n"
     ]
    },
    {
     "name": "stdout",
     "output_type": "stream",
     "text": [
      "Gen 700\n",
      "Evaluation count: 0\n",
      "Task 0, Best: -1081.9560995584206, Avg: -1081.9559154560275\n",
      "Task 1, Best: -702.2484108232109, Avg: -702.2484108232109\n",
      "Task 2, Best: 32659.428669881734, Avg: 32659.46611570322\n",
      "Task 3, Best: -380.4246102547229, Avg: -380.2348970989822\n",
      "Task 4, Best: -335.62965063666013, Avg: -335.62466678281635\n",
      "Time taken each gen: 0.6934 seconds\n",
      "\n",
      "Gen 800\n",
      "Evaluation count: 0\n",
      "Task 0, Best: -1081.9565049516616, Avg: -1081.9565049516586\n",
      "Task 1, Best: -702.2700693109168, Avg: -702.2700105068938\n",
      "Task 2, Best: 29661.79859640382, Avg: 29926.668086419533\n",
      "Task 3, Best: -380.74077080477633, Avg: -380.713977685136\n",
      "Task 4, Best: -335.67696224068965, Avg: -335.6769614800243\n",
      "Time taken each gen: 0.7546 seconds\n",
      "\n",
      "Gen 900\n",
      "Evaluation count: 0\n",
      "Task 0, Best: -1081.9566212520344, Avg: -1081.956621252034\n",
      "Task 1, Best: -702.2952571298724, Avg: -702.2950273530388\n",
      "Task 2, Best: 23596.758408360347, Avg: 23769.708745856813\n",
      "Task 3, Best: -381.0103143706596, Avg: -380.92674217062347\n",
      "Task 4, Best: -335.70288576257104, Avg: -335.70024020842334\n",
      "Time taken each gen: 0.8765 seconds\n",
      "\n",
      "Gen 1000\n",
      "Evaluation count: 0\n",
      "Task 0, Best: -1081.9570949841132, Avg: -1081.9570949840643\n",
      "Task 1, Best: -702.2958611791312, Avg: -702.2958611791311\n",
      "Task 2, Best: 23596.452004324117, Avg: 23596.45200975577\n",
      "Task 3, Best: -381.08409798388317, Avg: -381.08392345566836\n",
      "Task 4, Best: -335.70988670060655, Avg: -335.709886521352\n",
      "Time taken each gen: 0.6892 seconds\n",
      "\n"
     ]
    }
   ],
   "source": [
    "bfs, mfs = amfea.fit(num_gen=1000, monitor=True, monitor_rate=100)"
   ]
  },
  {
   "cell_type": "code",
   "execution_count": 149,
   "id": "901bc2d4",
   "metadata": {},
   "outputs": [
    {
     "name": "stdout",
     "output_type": "stream",
     "text": [
      "-1081.9837994003399\n",
      "-703.1328146165181\n",
      "-357.5797495903721\n",
      "-382.6205211774271\n",
      "-337.50899809752036\n"
     ]
    }
   ],
   "source": [
    "for task in gnbg_tasks:\n",
    "    print(task.gnbg.OptimumValue)"
   ]
  },
  {
   "cell_type": "code",
   "execution_count": 90,
   "id": "24a6afef",
   "metadata": {},
   "outputs": [
    {
     "name": "stdout",
     "output_type": "stream",
     "text": [
      "0.9999784003327589\n"
     ]
    }
   ],
   "source": [
    "print(np.max(amfea.pop))"
   ]
  },
  {
   "cell_type": "code",
   "execution_count": 120,
   "id": "88fdd99b",
   "metadata": {},
   "outputs": [],
   "source": [
    "dim = 50"
   ]
  },
  {
   "cell_type": "code",
   "execution_count": 121,
   "id": "f0181778",
   "metadata": {},
   "outputs": [],
   "source": [
    "x_test = np.random.uniform(0, 1, size=dim)"
   ]
  },
  {
   "cell_type": "code",
   "execution_count": 122,
   "id": "3aad6bff",
   "metadata": {},
   "outputs": [
    {
     "name": "stdout",
     "output_type": "stream",
     "text": [
      "[0.85907482 0.94008339 0.50785754 0.72509466 0.06625432 0.66633294\n",
      " 0.74234832 0.90374985 0.23927356 0.32128177 0.31552997 0.67909715\n",
      " 0.43332934 0.98120044 0.2745511  0.60376838 0.85184482 0.19065958\n",
      " 0.6426098  0.40787485 0.20654012 0.13219135 0.41308363 0.54744061\n",
      " 0.57048436 0.42555876 0.19406744 0.27179178 0.297762   0.11140318\n",
      " 0.45006828 0.16531338 0.92069788 0.88879073 0.44608596 0.23528611\n",
      " 0.58133187 0.71235906 0.17826929 0.45866792 0.01148249 0.91859941\n",
      " 0.35862434 0.36346905 0.90740653 0.8934829  0.99067995 0.27788791\n",
      " 0.08522302 0.15000237]\n"
     ]
    }
   ],
   "source": [
    "print(x_test)"
   ]
  },
  {
   "cell_type": "code",
   "execution_count": 124,
   "id": "6aad89ee",
   "metadata": {},
   "outputs": [
    {
     "name": "stdout",
     "output_type": "stream",
     "text": [
      "[165305.05004158]\n",
      "[500797.26552413]\n",
      "[469812.83455903]\n",
      "[52.41419773]\n",
      "[5.98007733e+09]\n",
      "[21.6372491]\n",
      "[96.7504262]\n",
      "[18339.88464123]\n",
      "[137.7442226]\n",
      "[106369.7608199]\n"
     ]
    }
   ],
   "source": [
    "super_tasks = get_10_tasks()\n",
    "for task in super_tasks:\n",
    "    print(task.fitness(np.array([x_test])))"
   ]
  },
  {
   "cell_type": "code",
   "execution_count": null,
   "id": "34306292",
   "metadata": {},
   "outputs": [],
   "source": [
    "165305.0500415824\n",
    "500797.2655241336\n",
    "469812.83455903106\n",
    "52.41419772668738\n",
    "5980077333.781868\n",
    "21.637249102506384\n",
    "96.75042619986894\n",
    "18339.884641225744\n",
    "137.74422260305982\n",
    "106369.76081990033"
   ]
  },
  {
   "cell_type": "code",
   "execution_count": 125,
   "id": "b24c064a",
   "metadata": {},
   "outputs": [],
   "source": [
    "with open('x_test.pkl', 'wb') as f:\n",
    "    pickle.dump(x_test, f)\n",
    "f.close()"
   ]
  },
  {
   "cell_type": "code",
   "execution_count": null,
   "id": "2c88785f",
   "metadata": {},
   "outputs": [
    {
     "name": "stdout",
     "output_type": "stream",
     "text": [
      "[4 5 6]\n"
     ]
    }
   ],
   "source": [
    "#test \n",
    "p = np.array([1, 2, 3])\n",
    "def f(p):\n",
    "    p += 3\n",
    "f(p)\n",
    "print(p)"
   ]
  }
 ],
 "metadata": {
  "kernelspec": {
   "display_name": "Python 3",
   "language": "python",
   "name": "python3"
  },
  "language_info": {
   "codemirror_mode": {
    "name": "ipython",
    "version": 3
   },
   "file_extension": ".py",
   "mimetype": "text/x-python",
   "name": "python",
   "nbconvert_exporter": "python",
   "pygments_lexer": "ipython3",
   "version": "3.9.12"
  }
 },
 "nbformat": 4,
 "nbformat_minor": 5
}
