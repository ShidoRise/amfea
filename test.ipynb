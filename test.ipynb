{
 "cells": [
  {
   "cell_type": "code",
   "execution_count": 1,
   "id": "62bd74ef",
   "metadata": {},
   "outputs": [],
   "source": [
    "%load_ext autoreload\n",
    "%autoreload 2\n",
    "import numpy as np\n",
    "import pickle\n",
    "import os\n",
    "from mutation import *\n",
    "from crossover import *\n",
    "from rmp import *\n",
    "from mfea import *\n",
    "from task import *\n",
    "from llm import *\n",
    "import matplotlib.pyplot as plt"
   ]
  },
  {
   "cell_type": "code",
   "execution_count": 141,
   "id": "24701637",
   "metadata": {},
   "outputs": [],
   "source": [
    "gnbg_tasks = []\n",
    "gnbg_tasks.append(GNBGTask(1, 100))\n",
    "gnbg_tasks.append(GNBGTask(2, 100))\n",
    "gnbg_tasks.append(GNBGTask(3, 100))\n",
    "gnbg_tasks.append(GNBGTask(4, 100))\n",
    "gnbg_tasks.append(GNBGTask(5, 100))"
   ]
  },
  {
   "cell_type": "code",
   "execution_count": 3,
   "id": "1242be84",
   "metadata": {},
   "outputs": [
    {
     "name": "stdout",
     "output_type": "stream",
     "text": [
      "sk-505a4ff57cfb432d8888a3d8d66a3133\n"
     ]
    }
   ],
   "source": [
    "\n",
    "API_KEY = os.getenv(\"DEEPSEEK_API_KEY\")\n",
    "print(API_KEY)\n"
   ]
  },
  {
   "cell_type": "code",
   "execution_count": 142,
   "id": "996fca4f",
   "metadata": {},
   "outputs": [],
   "source": [
    "np.random.seed(0)"
   ]
  },
  {
   "cell_type": "code",
   "execution_count": 4,
   "id": "ff17d230",
   "metadata": {},
   "outputs": [],
   "source": [
    "mutation = PolynomialMutation(5, 0.02)\n",
    "crossover = SBXCrossover(mutation)"
   ]
  },
  {
   "cell_type": "code",
   "execution_count": 5,
   "id": "f6679ed7",
   "metadata": {},
   "outputs": [],
   "source": [
    "def rmp_matrix_to_array(rmp_matrix, p1_skill_factor, p2_skill_factor):\n",
    "    return rmp_matrix[p1_skill_factor, p2_skill_factor]"
   ]
  },
  {
   "cell_type": "code",
   "execution_count": null,
   "id": "33f263ce",
   "metadata": {},
   "outputs": [],
   "source": []
  },
  {
   "cell_type": "code",
   "execution_count": 19,
   "id": "a9f72150",
   "metadata": {},
   "outputs": [],
   "source": [
    "cec2017_tasks = get_10_tasks()"
   ]
  },
  {
   "cell_type": "code",
   "execution_count": 20,
   "id": "528aa919",
   "metadata": {},
   "outputs": [
    {
     "name": "stdout",
     "output_type": "stream",
     "text": [
      "10\n"
     ]
    }
   ],
   "source": [
    "print(len(cec2017_tasks))"
   ]
  },
  {
   "cell_type": "code",
   "execution_count": 108,
   "id": "64e33e26",
   "metadata": {},
   "outputs": [],
   "source": [
    "p1 = np.random.uniform(size=(10, 50))\n",
    "p2 = np.random.uniform(size=(10, 50))\n",
    "p1_skill_factor = np.random.randint(0, 2, size=10)\n",
    "p2_skill_factor = np.random.randint(0, 2, size=10)\n",
    "p1_fitness = np.random.uniform(size=10)\n",
    "p2_fitness = np.random.uniform(size=10)\n",
    "rmp = np.full(shape=(2, 2), fill_value=0.3)\n",
    "off, off_skill_factor, off_fitness = crossover(rmp, p1, p2, p1_skill_factor, p2_skill_factor, p1_fitness, p2_fitness, cec2017_tasks, eval=False)"
   ]
  },
  {
   "cell_type": "code",
   "execution_count": 109,
   "id": "90310df1",
   "metadata": {},
   "outputs": [
    {
     "name": "stdout",
     "output_type": "stream",
     "text": [
      "1.0\n"
     ]
    }
   ],
   "source": [
    "print(np.max(off))"
   ]
  },
  {
   "cell_type": "code",
   "execution_count": 110,
   "id": "5dfdebe5",
   "metadata": {},
   "outputs": [
    {
     "data": {
      "text/plain": [
       "array([0.3, 0.3, 0.3, 0.3, 0.3, 0.3, 0.3, 0.3, 0.3, 0.3])"
      ]
     },
     "execution_count": 110,
     "metadata": {},
     "output_type": "execute_result"
    }
   ],
   "source": [
    "rmp_matrix_to_array(rmp, p1_skill_factor, p2_skill_factor)"
   ]
  },
  {
   "cell_type": "code",
   "execution_count": 24,
   "id": "70978029",
   "metadata": {},
   "outputs": [
    {
     "name": "stdout",
     "output_type": "stream",
     "text": [
      "Initialization:\n",
      "Task 0:\n",
      "Best Fitness: 116533.7500530386\n",
      "Mean Fitness: 166590.87951905225\n",
      "\n",
      "Task 1:\n",
      "Best Fitness: 342959.97421995923\n",
      "Mean Fitness: 493653.99534357793\n",
      "\n",
      "Task 2:\n",
      "Best Fitness: 328820.9350231599\n",
      "Mean Fitness: 466722.87832899496\n",
      "\n",
      "Task 3:\n",
      "Best Fitness: 40.54769958056594\n",
      "Mean Fitness: 50.77097974775339\n",
      "\n",
      "Task 4:\n",
      "Best Fitness: 3555148153.5200686\n",
      "Mean Fitness: 6031511383.925945\n",
      "\n",
      "Task 5:\n",
      "Best Fitness: 21.49197084478543\n",
      "Mean Fitness: 21.706044773922773\n",
      "\n",
      "Task 6:\n",
      "Best Fitness: 86.41105899404099\n",
      "Mean Fitness: 100.02002223631162\n",
      "\n",
      "Task 7:\n",
      "Best Fitness: 16165.133915521594\n",
      "Mean Fitness: 20894.533070632155\n",
      "\n",
      "Task 8:\n",
      "Best Fitness: 63.50376797958478\n",
      "Mean Fitness: 123.22319757575069\n",
      "\n",
      "Task 9:\n",
      "Best Fitness: 81800.2195453972\n",
      "Mean Fitness: 120894.25830629807\n",
      "\n"
     ]
    }
   ],
   "source": [
    "num_indis_per_task = 100\n",
    "indi_len = 50\n",
    "mutation = PolynomialMutation(5, 0.02)\n",
    "crossover = SBXCrossover(mutation, eta=2)\n",
    "# crossover = BLXCrossover()\n",
    "rmp = NormalRMP(0.3)\n",
    "\n",
    "amfea = AMFEA(num_indis_per_task,\n",
    "              indi_len,\n",
    "              cec2017_tasks,\n",
    "              crossover,\n",
    "              mutation,\n",
    "              rmp)"
   ]
  },
  {
   "cell_type": "code",
   "execution_count": 25,
   "id": "6a667e50",
   "metadata": {
    "scrolled": true
   },
   "outputs": [
    {
     "name": "stdout",
     "output_type": "stream",
     "text": [
      "Gen 0\n",
      "Evaluation count: 0\n",
      "Task 0, Best: 93103.72018016744, Avg: 137741.35133326208\n",
      "Task 1, Best: 334070.53535517375, Avg: 420579.22426011553\n",
      "Task 2, Best: 273392.27562721196, Avg: 388624.7822951854\n",
      "Task 3, Best: 35.19294564412567, Avg: 45.24447763060018\n",
      "Task 4, Best: 2047999957.816533, Avg: 4682009187.653742\n",
      "Task 5, Best: 21.197226144726013, Avg: 21.565739568806777\n",
      "Task 6, Best: 66.2811683053676, Avg: 92.46328342991055\n",
      "Task 7, Best: 16165.133915521594, Avg: 19474.929655970926\n",
      "Task 8, Best: 63.50376797958478, Avg: 102.60056978520535\n",
      "Task 9, Best: 79569.70552223349, Avg: 101997.29340805761\n",
      "Time taken each gen: 0.5302 seconds\n",
      "\n",
      "Gen 100\n",
      "Evaluation count: 0\n",
      "Task 0, Best: 1194.6977942430262, Avg: 1301.2861392796215\n",
      "Task 1, Best: 1282.6232923177015, Avg: 2935.6217912481134\n",
      "Task 2, Best: 18849.86210782777, Avg: 21642.85708673439\n",
      "Task 3, Best: 12.149928561914372, Avg: 12.587473546120059\n",
      "Task 4, Best: 312934.3330396973, Avg: 356568.13870777114\n",
      "Task 5, Best: 9.221052915744169, Avg: 14.936161837444104\n",
      "Task 6, Best: 23.978633781610384, Avg: 35.04149124040324\n",
      "Task 7, Best: 2687.9727330980713, Avg: 4363.384759910823\n",
      "Task 8, Best: 4.648159710125209, Avg: 8.005480558132868\n",
      "Task 9, Best: 4827.625412590232, Avg: 5627.330668567559\n",
      "Time taken each gen: 3.4304 seconds\n",
      "\n",
      "Gen 200\n",
      "Evaluation count: 0\n",
      "Task 0, Best: 365.7752262652089, Avg: 395.9244154323086\n",
      "Task 1, Best: 125.90765096256722, Avg: 138.78863017440347\n",
      "Task 2, Best: 73.52695048419704, Avg: 90.12483619451646\n",
      "Task 3, Best: 2.533511562755713, Avg: 2.679740697400586\n",
      "Task 4, Best: 41140.69473169961, Avg: 47883.14379363557\n",
      "Task 5, Best: 4.515847772315496, Avg: 4.57928338462704\n",
      "Task 6, Best: 8.561468136123935, Avg: 8.984533009656554\n",
      "Task 7, Best: 918.674476155782, Avg: 950.8502888846145\n",
      "Task 8, Best: 1.2133777344688728, Avg: 1.2493498056915948\n",
      "Task 9, Best: 1009.9724030989901, Avg: 1051.2298442744327\n",
      "Time taken each gen: 3.6199 seconds\n",
      "\n",
      "Gen 300\n",
      "Evaluation count: 0\n",
      "Task 0, Best: 163.66182758992335, Avg: 167.8348954728084\n",
      "Task 1, Best: 47.88715554830063, Avg: 50.40190465698713\n",
      "Task 2, Best: 22.456045400452805, Avg: 23.4690559741731\n",
      "Task 3, Best: 1.3545691441374217, Avg: 1.4560382945112864\n",
      "Task 4, Best: 8864.211849770734, Avg: 10108.963154237386\n",
      "Task 5, Best: 3.4192332404581838, Avg: 3.4676921337809237\n",
      "Task 6, Best: 6.069332525810822, Avg: 6.266189047292445\n",
      "Task 7, Best: 538.7894118347613, Avg: 544.6068362531438\n",
      "Task 8, Best: 1.021385512514057, Avg: 1.0352958081959627\n",
      "Task 9, Best: 470.14179268072235, Avg: 511.5479771628953\n",
      "Time taken each gen: 3.2012 seconds\n",
      "\n",
      "Gen 400\n",
      "Evaluation count: 0\n",
      "Task 0, Best: 83.22428828935055, Avg: 88.07419015115006\n",
      "Task 1, Best: 21.041061546383027, Avg: 21.991130275175557\n",
      "Task 2, Best: 11.251584828773959, Avg: 11.84775920126101\n",
      "Task 3, Best: 0.8887673644358145, Avg: 0.8953263504136083\n",
      "Task 4, Best: 3070.5780677062658, Avg: 3188.8390451344035\n",
      "Task 5, Best: 2.6065208651647045, Avg: 2.6635981686967916\n",
      "Task 6, Best: 4.7154700581941995, Avg: 4.8504123918096145\n",
      "Task 7, Best: 483.1714313257762, Avg: 486.59001202289755\n",
      "Task 8, Best: 0.7644359669557093, Avg: 0.7858132226309609\n",
      "Task 9, Best: 270.4389314002939, Avg: 284.2556539957116\n",
      "Time taken each gen: 3.5185 seconds\n",
      "\n",
      "Gen 500\n",
      "Evaluation count: 0\n",
      "Task 0, Best: 36.28038104122898, Avg: 39.24383298307611\n",
      "Task 1, Best: 10.512293744152746, Avg: 11.307681323831172\n",
      "Task 2, Best: 5.674895368231614, Avg: 6.275192751438271\n",
      "Task 3, Best: 0.49496294367005333, Avg: 0.4961320056658275\n",
      "Task 4, Best: 1496.9896339643597, Avg: 1535.9824599457872\n",
      "Task 5, Best: 1.9661625492528363, Avg: 2.0366045084361057\n",
      "Task 6, Best: 3.657361537601801, Avg: 3.73046089765291\n",
      "Task 7, Best: 453.59737923256034, Avg: 458.14511423874814\n",
      "Task 8, Best: 0.4884845333880814, Avg: 0.5259201516843456\n",
      "Task 9, Best: 175.61479225326053, Avg: 184.8904852254994\n",
      "Time taken each gen: 3.1894 seconds\n",
      "\n",
      "Gen 600\n",
      "Evaluation count: 0\n",
      "Task 0, Best: 16.3990883332133, Avg: 17.084646778629295\n",
      "Task 1, Best: 5.992004498197942, Avg: 6.263165047847292\n",
      "Task 2, Best: 2.542756074641478, Avg: 2.6805669165864696\n",
      "Task 3, Best: 0.35401301400271734, Avg: 0.3544034022156751\n",
      "Task 4, Best: 743.3063731065292, Avg: 781.2965306843979\n",
      "Task 5, Best: 1.516855534716886, Avg: 1.593690309096099\n",
      "Task 6, Best: 2.895024400958647, Avg: 2.9260050642732347\n",
      "Task 7, Best: 229.6869732779487, Avg: 230.5179383450743\n",
      "Task 8, Best: 0.32123761598758893, Avg: 0.3276074683866209\n",
      "Task 9, Best: 117.28259482669222, Avg: 120.99812380844418\n",
      "Time taken each gen: 1.5647 seconds\n",
      "\n",
      "Gen 700\n",
      "Evaluation count: 0\n",
      "Task 0, Best: 9.001009083215463, Avg: 9.519092478369533\n",
      "Task 1, Best: 2.410813659370139, Avg: 2.5106335511200872\n",
      "Task 2, Best: 1.782826505509024, Avg: 1.7976424752173275\n",
      "Task 3, Best: 0.28081947872163227, Avg: 0.28986519675927186\n",
      "Task 4, Best: 472.1596781334489, Avg: 477.8608441224149\n",
      "Task 5, Best: 0.9748066582624841, Avg: 0.9949465982334595\n",
      "Task 6, Best: 2.3588047628062156, Avg: 2.407471868944533\n",
      "Task 7, Best: 225.3295802498651, Avg: 225.58099944921818\n",
      "Task 8, Best: 0.21238984630019064, Avg: 0.22202170009000874\n",
      "Task 9, Best: 82.28504267540313, Avg: 87.6697545649598\n",
      "Time taken each gen: 1.3908 seconds\n",
      "\n",
      "Gen 800\n",
      "Evaluation count: 0\n",
      "Task 0, Best: 5.0817092198294365, Avg: 5.371821679014033\n",
      "Task 1, Best: 1.6023999003048641, Avg: 1.6527483925916078\n",
      "Task 2, Best: 0.7292961859804881, Avg: 0.7681171253119083\n",
      "Task 3, Best: 0.2534872713414842, Avg: 0.25354144287574465\n",
      "Task 4, Best: 324.2349232253072, Avg: 333.7448313553975\n",
      "Task 5, Best: 0.7245540919308735, Avg: 0.736045994588097\n",
      "Task 6, Best: 1.9628639246636084, Avg: 1.9795381941390797\n",
      "Task 7, Best: 222.69108020608473, Avg: 222.83283370583803\n",
      "Task 8, Best: 0.13720161906344353, Avg: 0.14175262596900423\n",
      "Task 9, Best: 64.54860874404221, Avg: 65.80749560463016\n",
      "Time taken each gen: 1.2155 seconds\n",
      "\n",
      "Gen 900\n",
      "Evaluation count: 0\n",
      "Task 0, Best: 3.570224361595532, Avg: 3.712626237398068\n",
      "Task 1, Best: 0.7704646338819183, Avg: 0.795980858633195\n",
      "Task 2, Best: 0.5022508086396119, Avg: 0.5169944878149217\n",
      "Task 3, Best: 0.21874427901716587, Avg: 0.22412672412510687\n",
      "Task 4, Best: 253.02886808714402, Avg: 256.7024096923049\n",
      "Task 5, Best: 0.4465378439573233, Avg: 0.4522649384437042\n",
      "Task 6, Best: 1.6143893685956385, Avg: 1.6657616217880247\n",
      "Task 7, Best: 221.13575038930503, Avg: 221.21212111966088\n",
      "Task 8, Best: 0.08921981163525028, Avg: 0.0924185043427531\n",
      "Task 9, Best: 51.23850328407292, Avg: 53.680202025264514\n",
      "Time taken each gen: 1.3664 seconds\n",
      "\n",
      "Gen 1000\n",
      "Evaluation count: 0\n",
      "Task 0, Best: 2.1256590687620736, Avg: 2.287544220839864\n",
      "Task 1, Best: 0.494682634841148, Avg: 0.5137690915498621\n",
      "Task 2, Best: 0.40390787584384863, Avg: 0.41503859928894343\n",
      "Task 3, Best: 0.1660021202305728, Avg: 0.1661035921370882\n",
      "Task 4, Best: 214.30317889886066, Avg: 218.05880430495736\n",
      "Task 5, Best: 0.32552029863349974, Avg: 0.33601576114552356\n",
      "Task 6, Best: 1.35339761760045, Avg: 1.4111920236817839\n",
      "Task 7, Best: 3.3353282907191897, Avg: 28.406673209079454\n",
      "Task 8, Best: 0.06394258426026012, Avg: 0.06555134364853571\n",
      "Task 9, Best: 40.6194628259459, Avg: 42.38705867600347\n",
      "Time taken each gen: 1.1493 seconds\n",
      "\n"
     ]
    }
   ],
   "source": [
    "bfs, mfs = amfea.fit(num_gen=1000, monitor=True, monitor_rate=100)"
   ]
  },
  {
   "cell_type": "code",
   "execution_count": 149,
   "id": "901bc2d4",
   "metadata": {},
   "outputs": [
    {
     "name": "stdout",
     "output_type": "stream",
     "text": [
      "-1081.9837994003399\n",
      "-703.1328146165181\n",
      "-357.5797495903721\n",
      "-382.6205211774271\n",
      "-337.50899809752036\n"
     ]
    }
   ],
   "source": [
    "for task in gnbg_tasks:\n",
    "    print(task.gnbg.OptimumValue)"
   ]
  },
  {
   "cell_type": "code",
   "execution_count": 90,
   "id": "24a6afef",
   "metadata": {},
   "outputs": [
    {
     "name": "stdout",
     "output_type": "stream",
     "text": [
      "0.9999784003327589\n"
     ]
    }
   ],
   "source": [
    "print(np.max(amfea.pop))"
   ]
  },
  {
   "cell_type": "code",
   "execution_count": 120,
   "id": "88fdd99b",
   "metadata": {},
   "outputs": [],
   "source": [
    "dim = 50"
   ]
  },
  {
   "cell_type": "code",
   "execution_count": 121,
   "id": "f0181778",
   "metadata": {},
   "outputs": [],
   "source": [
    "x_test = np.random.uniform(0, 1, size=dim)"
   ]
  },
  {
   "cell_type": "code",
   "execution_count": 122,
   "id": "3aad6bff",
   "metadata": {},
   "outputs": [
    {
     "name": "stdout",
     "output_type": "stream",
     "text": [
      "[0.85907482 0.94008339 0.50785754 0.72509466 0.06625432 0.66633294\n",
      " 0.74234832 0.90374985 0.23927356 0.32128177 0.31552997 0.67909715\n",
      " 0.43332934 0.98120044 0.2745511  0.60376838 0.85184482 0.19065958\n",
      " 0.6426098  0.40787485 0.20654012 0.13219135 0.41308363 0.54744061\n",
      " 0.57048436 0.42555876 0.19406744 0.27179178 0.297762   0.11140318\n",
      " 0.45006828 0.16531338 0.92069788 0.88879073 0.44608596 0.23528611\n",
      " 0.58133187 0.71235906 0.17826929 0.45866792 0.01148249 0.91859941\n",
      " 0.35862434 0.36346905 0.90740653 0.8934829  0.99067995 0.27788791\n",
      " 0.08522302 0.15000237]\n"
     ]
    }
   ],
   "source": [
    "print(x_test)"
   ]
  },
  {
   "cell_type": "code",
   "execution_count": 124,
   "id": "6aad89ee",
   "metadata": {},
   "outputs": [
    {
     "name": "stdout",
     "output_type": "stream",
     "text": [
      "[165305.05004158]\n",
      "[500797.26552413]\n",
      "[469812.83455903]\n",
      "[52.41419773]\n",
      "[5.98007733e+09]\n",
      "[21.6372491]\n",
      "[96.7504262]\n",
      "[18339.88464123]\n",
      "[137.7442226]\n",
      "[106369.7608199]\n"
     ]
    }
   ],
   "source": [
    "super_tasks = get_10_tasks()\n",
    "for task in super_tasks:\n",
    "    print(task.fitness(np.array([x_test])))"
   ]
  },
  {
   "cell_type": "code",
   "execution_count": null,
   "id": "34306292",
   "metadata": {},
   "outputs": [],
   "source": [
    "165305.0500415824\n",
    "500797.2655241336\n",
    "469812.83455903106\n",
    "52.41419772668738\n",
    "5980077333.781868\n",
    "21.637249102506384\n",
    "96.75042619986894\n",
    "18339.884641225744\n",
    "137.74422260305982\n",
    "106369.76081990033"
   ]
  },
  {
   "cell_type": "code",
   "execution_count": 125,
   "id": "b24c064a",
   "metadata": {},
   "outputs": [],
   "source": [
    "with open('x_test.pkl', 'wb') as f:\n",
    "    pickle.dump(x_test, f)\n",
    "f.close()"
   ]
  },
  {
   "cell_type": "code",
   "execution_count": null,
   "id": "2c88785f",
   "metadata": {},
   "outputs": [
    {
     "name": "stdout",
     "output_type": "stream",
     "text": [
      "[4 5 6]\n"
     ]
    }
   ],
   "source": [
    "#test \n",
    "p = np.array([1, 2, 3])\n",
    "def f(p):\n",
    "    p += 3\n",
    "f(p)\n",
    "print(p)"
   ]
  }
 ],
 "metadata": {
  "kernelspec": {
   "display_name": "Python 3",
   "language": "python",
   "name": "python3"
  },
  "language_info": {
   "codemirror_mode": {
    "name": "ipython",
    "version": 3
   },
   "file_extension": ".py",
   "mimetype": "text/x-python",
   "name": "python",
   "nbconvert_exporter": "python",
   "pygments_lexer": "ipython3",
   "version": "3.9.12"
  }
 },
 "nbformat": 4,
 "nbformat_minor": 5
}
