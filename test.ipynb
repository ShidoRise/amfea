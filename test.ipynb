{
 "cells": [
  {
   "cell_type": "code",
   "execution_count": 46,
   "id": "62bd74ef",
   "metadata": {},
   "outputs": [
    {
     "name": "stdout",
     "output_type": "stream",
     "text": [
      "The autoreload extension is already loaded. To reload it, use:\n",
      "  %reload_ext autoreload\n"
     ]
    }
   ],
   "source": [
    "%load_ext autoreload\n",
    "%autoreload 2\n",
    "import numpy as np\n",
    "import pickle\n",
    "import os\n",
    "from mutation import *\n",
    "from crossover import *\n",
    "from rmp import *\n",
    "from mfea import *\n",
    "from task import *\n",
    "from llm import *\n",
    "import matplotlib.pyplot as plt"
   ]
  },
  {
   "cell_type": "code",
   "execution_count": 24,
   "id": "d49f584e",
   "metadata": {},
   "outputs": [],
   "source": [
    "gnbg_tasks = []\n",
    "gnbg_tasks.append(GNBGTask(1, 100))\n",
    "gnbg_tasks.append(GNBGTask(2, 100))\n",
    "gnbg_tasks.append(GNBGTask(3, 100))\n",
    "gnbg_tasks.append(GNBGTask(4, 100))\n",
    "gnbg_tasks.append(GNBGTask(5, 100))\n",
    "gnbg_tasks.append(GNBGTask(6, 100))"
   ]
  },
  {
   "cell_type": "code",
   "execution_count": 47,
   "id": "a9f72150",
   "metadata": {},
   "outputs": [],
   "source": [
    "cec2017_tasks = get_10_tasks()"
   ]
  },
  {
   "cell_type": "code",
   "execution_count": 42,
   "id": "1242be84",
   "metadata": {},
   "outputs": [
    {
     "name": "stdout",
     "output_type": "stream",
     "text": [
      "sk-505a4ff57cfb432d8888a3d8d66a3133\n"
     ]
    }
   ],
   "source": [
    "\n",
    "API_KEY = os.getenv(\"DEEPSEEK_API_KEY\")\n",
    "print(API_KEY)\n"
   ]
  },
  {
   "cell_type": "code",
   "execution_count": 51,
   "id": "70978029",
   "metadata": {},
   "outputs": [
    {
     "name": "stdout",
     "output_type": "stream",
     "text": [
      "Initialization:\n",
      "Task 0:\n",
      "Best Fitness: 113291.44275684243\n",
      "Mean Fitness: 166005.8696397565\n",
      "\n",
      "Task 1:\n",
      "Best Fitness: 337202.6133461816\n",
      "Mean Fitness: 492136.161562573\n",
      "\n",
      "Task 2:\n",
      "Best Fitness: 303978.0288174722\n",
      "Mean Fitness: 487835.1155910769\n",
      "\n",
      "Task 3:\n",
      "Best Fitness: 37.097844388084994\n",
      "Mean Fitness: 49.630184032860456\n",
      "\n",
      "Task 4:\n",
      "Best Fitness: 3557321321.044695\n",
      "Mean Fitness: 6107443983.606149\n",
      "\n",
      "Task 5:\n",
      "Best Fitness: 21.464106194453787\n",
      "Mean Fitness: 21.7239995113881\n",
      "\n",
      "Task 6:\n",
      "Best Fitness: 86.80630487035613\n",
      "Mean Fitness: 100.52547258987475\n",
      "\n",
      "Task 7:\n",
      "Best Fitness: 17386.816064023587\n",
      "Mean Fitness: 20821.023205730682\n",
      "\n",
      "Task 8:\n",
      "Best Fitness: 87.93812085817802\n",
      "Mean Fitness: 122.06000734263316\n",
      "\n",
      "Task 9:\n",
      "Best Fitness: 86766.3814281801\n",
      "Mean Fitness: 121411.39842615809\n",
      "\n"
     ]
    }
   ],
   "source": [
    "num_indis_per_task = 100\n",
    "indi_len = 50\n",
    "crossover = BLXCrossover()\n",
    "mutation = PolynomialMutation(15)\n",
    "rmp = NormalRMP(0.4)\n",
    "\n",
    "amfea = AMFEA(num_indis_per_task, indi_len, cec2017_tasks, crossover, mutation, rmp)"
   ]
  },
  {
   "cell_type": "code",
   "execution_count": null,
   "id": "6a667e50",
   "metadata": {
    "scrolled": true
   },
   "outputs": [
    {
     "name": "stdout",
     "output_type": "stream",
     "text": [
      "Gen 0\n",
      "Evaluation count: 368\n",
      "Task 0, Best: 105858.8515625, Avg: 151073.03095688557\n",
      "Task 1, Best: 337202.6133461816, Avg: 454994.1753051512\n",
      "Task 2, Best: 303978.0288174722, Avg: 453633.1909742496\n",
      "Task 3, Best: 37.097844388084994, Avg: 48.101607907401124\n",
      "Task 4, Best: 2562591488.0, Avg: 5161820984.590952\n",
      "Task 5, Best: 21.464106194453787, Avg: 21.68744516937303\n",
      "Task 6, Best: 86.80630487035613, Avg: 98.92804222121815\n",
      "Task 7, Best: 17386.816064023587, Avg: 20289.479052308187\n",
      "Task 8, Best: 79.92616271972656, Avg: 113.73743999801485\n",
      "Task 9, Best: 86766.3814281801, Avg: 112533.07499518314\n",
      "Time taken each gen: 0.0322 seconds\n",
      "\n",
      "Gen 500\n",
      "Evaluation count: 220503\n",
      "Task 0, Best: 843.1220703125, Avg: 1439.6223345947265\n",
      "Task 1, Best: 258.85906982421875, Avg: 364.9025203909264\n",
      "Task 2, Best: 496.1340026855469, Avg: 662.9388384420522\n",
      "Task 3, Best: 5.321499697907235, Avg: 6.055285425928883\n",
      "Task 4, Best: 429094.3125, Avg: 896011.5775\n",
      "Task 5, Best: 5.547190189361572, Avg: 6.289280296620929\n",
      "Task 6, Best: 16.841583251953125, Avg: 18.87599061490832\n",
      "Task 7, Best: 6629.28173828125, Avg: 7218.633875408849\n",
      "Task 8, Best: 1.1128194332122803, Avg: 1.1624660447658208\n",
      "Task 9, Best: 646.208740234375, Avg: 734.5643044218444\n",
      "Time taken each gen: 0.0355 seconds\n",
      "\n",
      "Gen 1000\n",
      "Evaluation count: 442346\n",
      "Task 0, Best: 44.3231201171875, Avg: 57.50880165100098\n",
      "Task 1, Best: 3.9863338470458984, Avg: 6.74766284942627\n",
      "Task 2, Best: 7.614619731903076, Avg: 11.78880156993866\n",
      "Task 3, Best: 0.9406605958938599, Avg: 1.1418046534061432\n",
      "Task 4, Best: 3277.471923828125, Avg: 5132.205305175781\n",
      "Task 5, Best: 1.5204375982284546, Avg: 1.7566316676139833\n",
      "Task 6, Best: 4.381816864013672, Avg: 5.177340941429138\n",
      "Task 7, Best: 5086.30615234375, Avg: 5294.81359375\n",
      "Task 8, Best: 0.5487776398658752, Avg: 0.7232188141345978\n",
      "Task 9, Best: 468.6246643066406, Avg: 525.61142618375\n",
      "Time taken each gen: 0.0521 seconds\n",
      "\n",
      "Gen 1500\n",
      "Evaluation count: 661749\n",
      "Task 0, Best: 3.733814001083374, Avg: 4.959808020591736\n",
      "Task 1, Best: 0.06753409653902054, Avg: 0.10684921532869339\n",
      "Task 2, Best: 0.13238216936588287, Avg: 0.20477342888712882\n",
      "Task 3, Best: 0.1574762463569641, Avg: 0.22129188254475593\n",
      "Task 4, Best: 437.4446105957031, Avg: 606.122889099121\n",
      "Task 5, Best: 0.09993688762187958, Avg: 0.1256316688656807\n",
      "Task 6, Best: 1.127648115158081, Avg: 1.3765099489688872\n",
      "Task 7, Best: 4564.9453125, Avg: 4586.119614257813\n",
      "Task 8, Best: 0.04193948954343796, Avg: 0.07316905077546836\n",
      "Task 9, Best: 399.6875915527344, Avg: 441.3717473410447\n",
      "Time taken each gen: 0.0514 seconds\n",
      "\n",
      "Gen 2000\n",
      "Evaluation count: 880230\n",
      "Task 0, Best: 0.13126429915428162, Avg: 0.1923176622390747\n",
      "Task 1, Best: 0.0013587471330538392, Avg: 0.0020725464075803755\n",
      "Task 2, Best: 0.0023369824048131704, Avg: 0.003292714888229966\n",
      "Task 3, Best: 0.031202934682369232, Avg: 0.04026465058326721\n",
      "Task 4, Best: 14.630342483520508, Avg: 23.594747800827026\n",
      "Task 5, Best: 0.010872939601540565, Avg: 0.013875502189621329\n",
      "Task 6, Best: 0.3183380961418152, Avg: 0.38883182644844055\n",
      "Task 7, Best: 4524.15234375, Avg: 4525.457202148437\n",
      "Task 8, Best: 0.0035993019118905067, Avg: 0.005181475286372006\n",
      "Task 9, Best: 327.5383605957031, Avg: 367.62208465576174\n",
      "Time taken each gen: 0.0630 seconds\n",
      "\n",
      "Gen 2500\n",
      "Evaluation count: 1098172\n",
      "Task 0, Best: 0.004877649247646332, Avg: 0.006961533217690885\n",
      "Task 1, Best: 2.955202216980979e-05, Avg: 4.251564907463035e-05\n",
      "Task 2, Best: 3.3067972253775224e-05, Avg: 5.0483583436289337e-05\n",
      "Task 3, Best: 0.005752864759415388, Avg: 0.007011167043820024\n",
      "Task 4, Best: 0.44650450348854065, Avg: 0.6855307078361511\n",
      "Task 5, Best: 0.0016726143658161163, Avg: 0.0019886159873567523\n",
      "Task 6, Best: 0.0927664190530777, Avg: 0.10345379605889321\n",
      "Task 7, Best: 4520.64990234375, Avg: 4520.737788085938\n",
      "Task 8, Best: 0.00018749265291262418, Avg: 0.0002990488677460235\n",
      "Task 9, Best: 180.7598114013672, Avg: 199.59562271118165\n",
      "Time taken each gen: 0.0582 seconds\n",
      "\n",
      "Gen 3000\n",
      "Evaluation count: 1313999\n",
      "Task 0, Best: 0.00023365452943835407, Avg: 0.00030607951121055523\n",
      "Task 1, Best: 5.578569926001364e-07, Avg: 9.033846856709716e-07\n",
      "Task 2, Best: 5.042398356636113e-07, Avg: 7.892428135392038e-07\n",
      "Task 3, Best: 0.0009118778980337083, Avg: 0.001141579535906203\n",
      "Task 4, Best: 0.019016137346625328, Avg: 0.027958389017730952\n",
      "Task 5, Best: 0.00024346016289200634, Avg: 0.00027759081523981877\n",
      "Task 6, Best: 0.020820993930101395, Avg: 0.027505714427679778\n",
      "Task 7, Best: 4520.44384765625, Avg: 4520.450961914063\n",
      "Task 8, Best: 1.1332405847497284e-05, Avg: 1.5443381380464415e-05\n",
      "Task 9, Best: 130.5359649658203, Avg: 138.74193328857422\n",
      "Time taken each gen: 0.0414 seconds\n",
      "\n",
      "Gen 3500\n",
      "Evaluation count: 1531502\n",
      "Task 0, Best: 9.472192687098868e-06, Avg: 1.4802401046836167e-05\n",
      "Task 1, Best: 1.3177564817112852e-08, Avg: 1.9333932108622775e-08\n",
      "Task 2, Best: 8.879146307094743e-09, Avg: 1.1581904901802887e-08\n",
      "Task 3, Best: 0.00015853199874982238, Avg: 0.00020971837497199886\n",
      "Task 4, Best: 0.0010690459748730063, Avg: 0.0016480027954094113\n",
      "Task 5, Best: 3.07433438138105e-05, Avg: 3.9082058938220145e-05\n",
      "Task 6, Best: 0.0065595488995313644, Avg: 0.007265429110266269\n",
      "Task 7, Best: 4520.4306640625, Avg: 4520.431391601563\n",
      "Task 8, Best: 1.060406020769733e-06, Avg: 1.310427666112446e-06\n",
      "Task 9, Best: 92.24993896484375, Avg: 93.76096832275391\n",
      "Time taken each gen: 0.0519 seconds\n",
      "\n",
      "Gen 4000\n",
      "Evaluation count: 1750271\n",
      "Task 0, Best: 4.617352544755704e-07, Avg: 5.918808386695673e-07\n",
      "Task 1, Best: 3.437250761795241e-10, Avg: 5.121196322566135e-10\n",
      "Task 2, Best: 1.5298839972643918e-10, Avg: 2.198573316458674e-10\n",
      "Task 3, Best: 6.684887011942919e-06, Avg: 1.419473818714323e-05\n",
      "Task 4, Best: 3.4732569474726915e-05, Avg: 5.628645645629149e-05\n",
      "Task 5, Best: 5.312612756824819e-06, Avg: 6.157695202091417e-06\n",
      "Task 6, Best: 0.0018172323470935225, Avg: 0.0020362778392154723\n",
      "Task 7, Best: 4520.43017578125, Avg: 4520.43017578125\n",
      "Task 8, Best: 1.0393586080681416e-07, Avg: 1.3776314666813505e-07\n",
      "Task 9, Best: 85.22865295410156, Avg: 85.46288093566895\n",
      "Time taken each gen: 0.0485 seconds\n",
      "\n",
      "Gen 4500\n",
      "Evaluation count: 1966230\n",
      "Task 0, Best: 1.1094321905602555e-08, Avg: 1.6902784025774054e-08\n",
      "Task 1, Best: 5.709976762247049e-12, Avg: 8.176031301640463e-12\n",
      "Task 2, Best: 2.9907161816500327e-12, Avg: 4.0732688706343615e-12\n",
      "Task 3, Best: 4.49530119794872e-08, Avg: 7.753036719293505e-08\n",
      "Task 4, Best: 1.1500658274599118e-06, Avg: 1.7013090848649882e-06\n",
      "Task 5, Best: 6.350010721689614e-07, Avg: 8.037918541958788e-07\n",
      "Task 6, Best: 0.00045449414756149054, Avg: 0.0005316180022782646\n",
      "Task 7, Best: 4520.43017578125, Avg: 4520.43017578125\n",
      "Task 8, Best: 5.826529481112175e-09, Avg: 7.282764551419518e-09\n",
      "Task 9, Best: 84.61370849609375, Avg: 84.62785827636719\n",
      "Time taken each gen: 0.0455 seconds\n",
      "\n",
      "Gen 5000\n",
      "Evaluation count: 2182358\n",
      "Task 0, Best: 6.010962838587375e-10, Avg: 8.133005374721947e-10\n",
      "Task 1, Best: 1.364563572813643e-13, Avg: 1.8319849408093488e-13\n",
      "Task 2, Best: 4.231301927218843e-14, Avg: 6.529832460877051e-14\n",
      "Task 3, Best: 3.198863396391971e-10, Avg: 6.366268223700899e-10\n",
      "Task 4, Best: 5.071782993582019e-08, Avg: 7.452724869239091e-08\n",
      "Task 5, Best: 1.0756275514722802e-07, Avg: 1.266331720017888e-07\n",
      "Task 6, Best: 9.092479012906551e-05, Avg: 0.00011563135878532193\n",
      "Task 7, Best: 4520.43017578125, Avg: 4520.43017578125\n",
      "Task 8, Best: 4.671654174615014e-10, Avg: 6.325143908636477e-10\n",
      "Task 9, Best: 84.57402801513672, Avg: 84.57482788085937\n",
      "Time taken each gen: 0.0764 seconds\n",
      "\n"
     ]
    }
   ],
   "source": [
    "bfs, mfs = amfea.fit(num_gen=1000, monitor=True, monitor_rate=500)"
   ]
  },
  {
   "cell_type": "code",
   "execution_count": 53,
   "id": "63681614",
   "metadata": {},
   "outputs": [
    {
     "name": "stdout",
     "output_type": "stream",
     "text": [
      "2182358\n"
     ]
    }
   ],
   "source": [
    "print(amfea.eval_cnt)"
   ]
  },
  {
   "cell_type": "code",
   "execution_count": 28,
   "id": "136b9a28",
   "metadata": {},
   "outputs": [
    {
     "name": "stdout",
     "output_type": "stream",
     "text": [
      "[1.92707397e-01 9.28115568e-01 1.95030332e-01 9.19464883e-01\n",
      " 7.00052070e-01 1.94086735e-01 9.32649332e-01 2.01325155e-01\n",
      " 3.79375448e-01 6.99848299e-01 1.94312757e-01 1.91218354e-01\n",
      " 9.32632332e-01 7.04786795e-01 1.85863576e-01 2.03263489e-01\n",
      " 6.95277561e-01 9.17992806e-01 9.40317772e-01 9.22242633e-01\n",
      " 7.15224694e-01 2.01667188e-01 7.00697586e-01 1.83446501e-01\n",
      " 7.04126343e-01 1.93066440e-01 7.03597835e-01 9.20387664e-01\n",
      " 7.05086955e-01 7.20233286e-04 7.07544023e-01 9.28164487e-01\n",
      " 1.85552661e-01 1.80195522e-01 2.14168065e-01 1.89942223e-01\n",
      " 7.02260894e-01 7.04083201e-01 9.23887402e-01 3.15534153e-03\n",
      " 9.19865290e-01 7.02337478e-01 9.06982242e-01 9.22580845e-01\n",
      " 6.97567082e-01 7.06233374e-01 7.08674613e-01 1.98085688e-01\n",
      " 9.28875413e-01 1.99998422e-01]\n",
      "[6637.95167233]\n"
     ]
    }
   ],
   "source": [
    "for i in range(len(amfea.pop[:701])):\n",
    "    if amfea.skill_factor[i] == 7:\n",
    "        x = amfea.pop[i]\n",
    "        print(x)\n",
    "        print(SchwefelTask.fitness(np.array([x])))"
   ]
  },
  {
   "cell_type": "code",
   "execution_count": 31,
   "id": "e3295c50",
   "metadata": {},
   "outputs": [
    {
     "name": "stdout",
     "output_type": "stream",
     "text": [
      "0.9795161081006124\n"
     ]
    }
   ],
   "source": [
    "print(np.max(amfea.pop))"
   ]
  },
  {
   "cell_type": "code",
   "execution_count": 7,
   "id": "88fdd99b",
   "metadata": {},
   "outputs": [],
   "source": [
    "dim = 50\n",
    "schwefel_shift = np.full(dim, 0)\n",
    "schwefel = Schwefel(50, schwefel_shift)"
   ]
  },
  {
   "cell_type": "code",
   "execution_count": 9,
   "id": "f0181778",
   "metadata": {},
   "outputs": [
    {
     "data": {
      "text/plain": [
       "array([22735.02372398])"
      ]
     },
     "execution_count": 9,
     "metadata": {},
     "output_type": "execute_result"
    }
   ],
   "source": [
    "x_test = np.random.uniform(0, 1, size=dim)\n",
    "SchwefelTask = CEC17Task(schwefel, 500)\n",
    "SchwefelTask.fitness(np.array([x_test]))"
   ]
  },
  {
   "cell_type": "code",
   "execution_count": 199,
   "id": "3aad6bff",
   "metadata": {},
   "outputs": [
    {
     "name": "stdout",
     "output_type": "stream",
     "text": [
      "[0.37138179 0.73449412 0.36311813 0.78244749 0.99178212 0.47985734\n",
      " 0.36771698 0.51114184 0.04594897 0.84181967 0.61995408 0.63615412\n",
      " 0.46263011 0.8640062  0.14332885 0.62474759 0.54728951 0.59178973\n",
      " 0.36934856 0.98753811 0.03777077 0.29882631 0.96237095 0.15249977\n",
      " 0.7886243  0.27673331 0.88030284 0.30618377 0.50073916 0.18406873\n",
      " 0.35633323 0.47317796 0.91791397 0.80261628 0.74382469 0.86932051\n",
      " 0.35167865 0.03108078 0.88207472 0.64581258 0.17599662 0.44207642\n",
      " 0.74174619 0.14262801 0.26605845 0.89521602 0.44415947 0.62751617\n",
      " 0.62814485 0.30749574]\n"
     ]
    }
   ],
   "source": [
    "print(x_test)"
   ]
  },
  {
   "cell_type": "code",
   "execution_count": 200,
   "id": "6aad89ee",
   "metadata": {},
   "outputs": [
    {
     "name": "stdout",
     "output_type": "stream",
     "text": [
      "[152104.57279382]\n",
      "[425081.00403927]\n",
      "[519128.14154837]\n",
      "[53.38544507]\n",
      "[5.70541367e+09]\n",
      "[21.72861174]\n",
      "[104.8360553]\n",
      "[21254.0220888]\n",
      "[124.49564953]\n",
      "[113062.82998873]\n"
     ]
    }
   ],
   "source": [
    "super_tasks = get_10_tasks()\n",
    "for task in super_tasks:\n",
    "    print(task.fitness(np.array([x_test])))"
   ]
  },
  {
   "cell_type": "code",
   "execution_count": 201,
   "id": "b24c064a",
   "metadata": {},
   "outputs": [],
   "source": [
    "with open('x_test.pkl', 'wb') as f:\n",
    "    pickle.dump(x_test, f)\n",
    "f.close()"
   ]
  },
  {
   "cell_type": "code",
   "execution_count": 109,
   "id": "8ba02b55",
   "metadata": {},
   "outputs": [],
   "source": [
    "t = np.arange(10)"
   ]
  },
  {
   "cell_type": "code",
   "execution_count": 110,
   "id": "605fc20a",
   "metadata": {},
   "outputs": [
    {
     "data": {
      "text/plain": [
       "array([[0, 1, 2, 3, 4, 5, 6, 7, 8, 9],\n",
       "       [0, 1, 2, 3, 4, 5, 6, 7, 8, 9]])"
      ]
     },
     "execution_count": 110,
     "metadata": {},
     "output_type": "execute_result"
    }
   ],
   "source": [
    "t = np.array([t, t])\n",
    "t"
   ]
  },
  {
   "cell_type": "code",
   "execution_count": 111,
   "id": "c58d777a",
   "metadata": {},
   "outputs": [
    {
     "data": {
      "text/plain": [
       "array([[0, 1, 2],\n",
       "       [0, 1, 2]])"
      ]
     },
     "execution_count": 111,
     "metadata": {},
     "output_type": "execute_result"
    }
   ],
   "source": [
    "t[:, :3]"
   ]
  }
 ],
 "metadata": {
  "kernelspec": {
   "display_name": "Python 3",
   "language": "python",
   "name": "python3"
  },
  "language_info": {
   "codemirror_mode": {
    "name": "ipython",
    "version": 3
   },
   "file_extension": ".py",
   "mimetype": "text/x-python",
   "name": "python",
   "nbconvert_exporter": "python",
   "pygments_lexer": "ipython3",
   "version": "3.9.12"
  }
 },
 "nbformat": 4,
 "nbformat_minor": 5
}
