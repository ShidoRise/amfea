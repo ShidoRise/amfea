{
 "cells": [
  {
   "cell_type": "code",
   "execution_count": 11,
   "id": "8e5389ca",
   "metadata": {},
   "outputs": [
    {
     "name": "stdout",
     "output_type": "stream",
     "text": [
      "The autoreload extension is already loaded. To reload it, use:\n",
      "  %reload_ext autoreload\n"
     ]
    }
   ],
   "source": [
    "%load_ext autoreload\n",
    "%autoreload 2\n",
    "import numpy as np\n",
    "from crossover import crossover\n",
    "from numba import jit\n",
    "from mfea.amfea import AMFEA\n",
    "from task.task import DummyTask"
   ]
  },
  {
   "cell_type": "code",
   "execution_count": 3,
   "id": "3ed09e3d",
   "metadata": {},
   "outputs": [],
   "source": [
    "np.random.seed(0)"
   ]
  },
  {
   "cell_type": "code",
   "execution_count": 143,
   "id": "8a787b33",
   "metadata": {},
   "outputs": [],
   "source": [
    "l = 3\n",
    "n = 500\n",
    "i1 = np.random.randint(-10, 10, size=(n, l))\n",
    "i2 = np.random.randint(-10, 10, size=(n, l))\n",
    "rmp = np.random.uniform(size=n)\n",
    "x = crossover.ArithmeticCrossover()\n"
   ]
  },
  {
   "cell_type": "code",
   "execution_count": 153,
   "id": "00be7971",
   "metadata": {},
   "outputs": [
    {
     "name": "stdout",
     "output_type": "stream",
     "text": [
      "79.8 µs ± 17.2 µs per loop (mean ± std. dev. of 7 runs, 100 loops each)\n"
     ]
    }
   ],
   "source": [
    "%timeit -n 100 u = x(rmp, i1, i2)"
   ]
  },
  {
   "cell_type": "code",
   "execution_count": 4,
   "id": "684adb3f",
   "metadata": {},
   "outputs": [],
   "source": [
    "x = np.random.randint(-4, 4, size=(3, 3))"
   ]
  },
  {
   "cell_type": "code",
   "execution_count": 8,
   "id": "fdc59a37",
   "metadata": {},
   "outputs": [
    {
     "data": {
      "text/plain": [
       "array([[ 0,  3,  1],\n",
       "       [-4, -1, -1],\n",
       "       [-1,  3, -3]], dtype=int32)"
      ]
     },
     "execution_count": 8,
     "metadata": {},
     "output_type": "execute_result"
    }
   ],
   "source": [
    "x"
   ]
  },
  {
   "cell_type": "code",
   "execution_count": 9,
   "id": "762409b9",
   "metadata": {},
   "outputs": [
    {
     "data": {
      "text/plain": [
       "array([ 4, -6, -1])"
      ]
     },
     "execution_count": 9,
     "metadata": {},
     "output_type": "execute_result"
    }
   ],
   "source": [
    "np.sum(x, axis=1)"
   ]
  },
  {
   "cell_type": "code",
   "execution_count": 20,
   "id": "79e312e1",
   "metadata": {},
   "outputs": [
    {
     "data": {
      "text/plain": [
       "array([ 4, -6, -1])"
      ]
     },
     "execution_count": 20,
     "metadata": {},
     "output_type": "execute_result"
    }
   ],
   "source": [
    "test_task = DummyTask()\n",
    "test_task.fitness(x)"
   ]
  },
  {
   "cell_type": "code",
   "execution_count": null,
   "id": "7207c739",
   "metadata": {},
   "outputs": [
    {
     "name": "stdout",
     "output_type": "stream",
     "text": [
      "1\n",
      "0\n",
      "[[ 7.60595206 -3.72615215  9.14901711 -0.56496858  4.23167634]\n",
      " [-6.9261139   4.60884353  2.92528875 -5.70238526 -6.27083561]\n",
      " [ 6.15160538  4.9415894   3.49694692 -4.46212498 -6.50182251]\n",
      " [ 4.08948517 -0.736996    6.80857065 -5.90268476 -6.70082264]\n",
      " [-7.50333885  4.44161325 -9.3909407   4.9398848  -8.1480767 ]]\n",
      "[ 16.69552478 -11.3652025    3.6261942   -2.44244758 -15.6608582 ]\n"
     ]
    }
   ],
   "source": [
    "amfea = AMFEA(5, 5, 10, [test_task], crossover.ArithmeticCrossover)"
   ]
  }
 ],
 "metadata": {
  "kernelspec": {
   "display_name": "Python 3",
   "language": "python",
   "name": "python3"
  },
  "language_info": {
   "codemirror_mode": {
    "name": "ipython",
    "version": 3
   },
   "file_extension": ".py",
   "mimetype": "text/x-python",
   "name": "python",
   "nbconvert_exporter": "python",
   "pygments_lexer": "ipython3",
   "version": "3.9.12"
  }
 },
 "nbformat": 4,
 "nbformat_minor": 5
}
