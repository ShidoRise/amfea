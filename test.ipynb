{
 "cells": [
  {
   "cell_type": "code",
   "execution_count": 15,
   "id": "62bd74ef",
   "metadata": {},
   "outputs": [
    {
     "name": "stdout",
     "output_type": "stream",
     "text": [
      "The autoreload extension is already loaded. To reload it, use:\n",
      "  %reload_ext autoreload\n"
     ]
    }
   ],
   "source": [
    "%load_ext autoreload\n",
    "%autoreload 2\n",
    "import numpy as np\n",
    "import pickle\n",
    "import os\n",
    "from mutation import *\n",
    "from crossover import *\n",
    "from rmp import *\n",
    "from mfea import *\n",
    "from task import *\n",
    "from llm import *\n",
    "import matplotlib.pyplot as plt"
   ]
  },
  {
   "cell_type": "code",
   "execution_count": 59,
   "id": "d49f584e",
   "metadata": {},
   "outputs": [],
   "source": [
    "gnbg_tasks = []\n",
    "gnbg_tasks.append(GNBGTask(1, 100))\n",
    "gnbg_tasks.append(GNBGTask(2, 100))\n",
    "gnbg_tasks.append(GNBGTask(3, 100))\n",
    "gnbg_tasks.append(GNBGTask(4, 100))\n",
    "gnbg_tasks.append(GNBGTask(5, 100))\n",
    "gnbg_tasks.append(GNBGTask(6, 100))"
   ]
  },
  {
   "cell_type": "code",
   "execution_count": 16,
   "id": "a9f72150",
   "metadata": {},
   "outputs": [],
   "source": [
    "cec2017_tasks = get_10_tasks()"
   ]
  },
  {
   "cell_type": "code",
   "execution_count": 17,
   "id": "1242be84",
   "metadata": {},
   "outputs": [
    {
     "name": "stdout",
     "output_type": "stream",
     "text": [
      "sk-505a4ff57cfb432d8888a3d8d66a3133\n"
     ]
    }
   ],
   "source": [
    "\n",
    "API_KEY = os.getenv(\"DEEPSEEK_API_KEY\")\n",
    "print(API_KEY)\n"
   ]
  },
  {
   "cell_type": "code",
   "execution_count": 18,
   "id": "70978029",
   "metadata": {},
   "outputs": [
    {
     "name": "stdout",
     "output_type": "stream",
     "text": [
      "Initialization:\n",
      "Task 0:\n",
      "Best Fitness: 105140.88584214126\n",
      "Mean Fitness: 163065.50441816394\n",
      "\n",
      "Task 1:\n",
      "Best Fitness: 345572.8969148513\n",
      "Mean Fitness: 489789.8467053779\n",
      "\n",
      "Task 2:\n",
      "Best Fitness: 310822.29785084375\n",
      "Mean Fitness: 483559.6303278146\n",
      "\n",
      "Task 3:\n",
      "Best Fitness: 38.04149393998023\n",
      "Mean Fitness: 50.126422476820906\n",
      "\n",
      "Task 4:\n",
      "Best Fitness: 3427897225.032406\n",
      "Mean Fitness: 6107616252.852589\n",
      "\n",
      "Task 5:\n",
      "Best Fitness: 21.493663088101606\n",
      "Mean Fitness: 21.69586188843458\n",
      "\n",
      "Task 6:\n",
      "Best Fitness: 86.9487274521891\n",
      "Mean Fitness: 99.70689012195444\n",
      "\n",
      "Task 7:\n",
      "Best Fitness: 18322.498992970857\n",
      "Mean Fitness: 21266.1423148897\n",
      "\n",
      "Task 8:\n",
      "Best Fitness: 86.85194464607254\n",
      "Mean Fitness: 123.70212973633848\n",
      "\n",
      "Task 9:\n",
      "Best Fitness: 85106.08666504062\n",
      "Mean Fitness: 122873.56374540854\n",
      "\n"
     ]
    }
   ],
   "source": [
    "num_indis_per_task = 100\n",
    "indi_len = 50\n",
    "crossover = BLXCrossover()\n",
    "mutation = PolynomialMutation(20)\n",
    "rmp = NormalRMP(0.3)\n",
    "\n",
    "amfea = AMFEA(num_indis_per_task, indi_len, cec2017_tasks, crossover, mutation, rmp)"
   ]
  },
  {
   "cell_type": "code",
   "execution_count": 19,
   "id": "6a667e50",
   "metadata": {
    "scrolled": true
   },
   "outputs": [
    {
     "name": "stdout",
     "output_type": "stream",
     "text": [
      "Gen 0\n",
      "Task 0, Best: 105140.88584214126, Avg: 155708.54853176896\n",
      "Task 1, Best: 345572.8969148513, Avg: 470593.1788952332\n",
      "Task 2, Best: 308950.05414336594, Avg: 461360.94439130224\n",
      "Task 3, Best: 38.04149393998023, Avg: 48.81505995255585\n",
      "Task 4, Best: 3427897225.032406, Avg: 5754318025.63321\n",
      "Task 5, Best: 21.452653884887695, Avg: 21.659340736703587\n",
      "Task 6, Best: 86.63593365327733, Avg: 97.61910450420254\n",
      "Task 7, Best: 17940.827857664008, Avg: 20858.290656308018\n",
      "Task 8, Best: 86.85194464607254, Avg: 118.2762573087054\n",
      "Task 9, Best: 85106.08666504062, Avg: 118552.29564196365\n",
      "Time taken each gen: 0.0232 seconds\n",
      "\n",
      "Gen 500\n",
      "Task 0, Best: 5469.33642578125, Avg: 6952.350365056931\n",
      "Task 1, Best: 7753.964532503914, Avg: 8864.18007201471\n",
      "Task 2, Best: 6513.545433654372, Avg: 7233.16741150847\n",
      "Task 3, Best: 11.479818344116211, Avg: 12.764178734358563\n",
      "Task 4, Best: 11392994.003763817, Avg: 19362772.5443883\n",
      "Task 5, Best: 20.609115600585938, Avg: 20.91581432278169\n",
      "Task 6, Best: 37.33964920043945, Avg: 39.34529790123142\n",
      "Task 7, Best: 9655.2314453125, Avg: 10384.044151394439\n",
      "Task 8, Best: 2.2375265903130703, Avg: 2.522512363460498\n",
      "Task 9, Best: 2121.785841195978, Avg: 2368.574566529449\n",
      "Time taken each gen: 0.0287 seconds\n",
      "\n",
      "Gen 1000\n",
      "Task 0, Best: 1487.4669189453125, Avg: 2225.4562581265786\n",
      "Task 1, Best: 1828.7943231022132, Avg: 1915.206784970423\n",
      "Task 2, Best: 2198.662109375, Avg: 2297.453211989432\n",
      "Task 3, Best: 5.880568103875376, Avg: 6.99011040817864\n",
      "Task 4, Best: 1062626.75, Avg: 2900727.119305451\n",
      "Task 5, Best: 20.609115600585938, Avg: 20.844580280272403\n",
      "Task 6, Best: 27.40011215209961, Avg: 28.203842385529207\n",
      "Task 7, Best: 8641.3740234375, Avg: 9106.451704490773\n",
      "Task 8, Best: 1.2982832269518765, Avg: 1.331333225333085\n",
      "Task 9, Best: 998.3673095703125, Avg: 1080.9465494758877\n",
      "Time taken each gen: 0.0231 seconds\n",
      "\n",
      "Gen 1500\n",
      "Task 0, Best: 782.6481323242188, Avg: 1079.9590129088867\n",
      "Task 1, Best: 1315.1590576171875, Avg: 1353.006063352132\n",
      "Task 2, Best: 518.6694946289062, Avg: 584.4291738170654\n",
      "Task 3, Best: 3.427884578704834, Avg: 4.324083548798524\n",
      "Task 4, Best: 325188.53125, Avg: 609681.373301875\n",
      "Task 5, Best: 20.609115600585938, Avg: 20.814924815145304\n",
      "Task 6, Best: 12.903888352748481, Avg: 14.369404089533774\n",
      "Task 7, Best: 7984.7373046875, Avg: 8276.008193644751\n",
      "Task 8, Best: 1.1588752269744873, Avg: 1.1811766819299863\n",
      "Task 9, Best: 915.8576148949318, Avg: 988.2617441075402\n",
      "Time taken each gen: 0.0319 seconds\n",
      "\n",
      "Gen 2000\n",
      "Task 0, Best: 273.10101318359375, Avg: 451.3166702270508\n",
      "Task 1, Best: 1245.89111328125, Avg: 1272.1777619495717\n",
      "Task 2, Best: 341.3095703125, Avg: 382.79660408594884\n",
      "Task 3, Best: 2.603053569793701, Avg: 3.08761479139328\n",
      "Task 4, Best: 50599.703125, Avg: 122293.456640625\n",
      "Task 5, Best: 20.609115600585938, Avg: 20.78295901597396\n",
      "Task 6, Best: 8.73901653289795, Avg: 10.32900343154633\n",
      "Task 7, Best: 7426.587890625, Avg: 7667.6087659312525\n",
      "Task 8, Best: 1.0420821905136108, Avg: 1.111238523474669\n",
      "Task 9, Best: 915.8576049804688, Avg: 968.737890114417\n",
      "Time taken each gen: 0.0139 seconds\n",
      "\n",
      "Gen 2500\n",
      "Task 0, Best: 122.53102111816406, Avg: 171.06300735473633\n",
      "Task 1, Best: 1219.246337890625, Avg: 1229.3414575195313\n",
      "Task 2, Best: 33.26887893676758, Avg: 73.65284607946649\n",
      "Task 3, Best: 2.042215585708618, Avg: 2.2126421236991884\n",
      "Task 4, Best: 15816.5546875, Avg: 28798.7969921875\n",
      "Task 5, Best: 20.609115600585938, Avg: 20.76706875079684\n",
      "Task 6, Best: 6.7238569259643555, Avg: 7.709889221191406\n",
      "Task 7, Best: 7111.8095703125, Avg: 7240.864790039062\n",
      "Task 8, Best: 0.7605265378952026, Avg: 0.9201643940832618\n",
      "Task 9, Best: 886.0269775390625, Avg: 955.9101455427289\n",
      "Time taken each gen: 0.0073 seconds\n",
      "\n",
      "Gen 3000\n",
      "Task 0, Best: 46.04513168334961, Avg: 71.84416042327881\n",
      "Task 1, Best: 1208.251953125, Avg: 1212.7669873046875\n",
      "Task 2, Best: 12.110944747924805, Avg: 20.95992441177368\n",
      "Task 3, Best: 1.0325253009796143, Avg: 1.6733600330352782\n",
      "Task 4, Best: 5065.8671875, Avg: 7912.153256835937\n",
      "Task 5, Best: 20.609115600585938, Avg: 20.7557430359873\n",
      "Task 6, Best: 5.0255842208862305, Avg: 5.884130320549011\n",
      "Task 7, Best: 6922.64306640625, Avg: 6995.171723632812\n",
      "Task 8, Best: 0.5244914293289185, Avg: 0.6348728948831558\n",
      "Task 9, Best: 886.0269775390625, Avg: 941.6550449504809\n",
      "Time taken each gen: 0.0095 seconds\n",
      "\n"
     ]
    }
   ],
   "source": [
    "bfs, mfs = amfea.fit(num_gen=3000, monitor=True, monitor_rate=500)"
   ]
  },
  {
   "cell_type": "code",
   "execution_count": 20,
   "id": "136b9a28",
   "metadata": {},
   "outputs": [
    {
     "name": "stdout",
     "output_type": "stream",
     "text": [
      "[1.93226010e-01 7.05807714e-01 1.97883578e-01 7.03117826e-01\n",
      " 2.01943363e-01 7.08599583e-01 1.95950180e-01 1.97053421e-01\n",
      " 1.96125771e-01 2.08825152e-01 7.02835703e-01 7.06219148e-01\n",
      " 7.06340576e-01 9.25316851e-01 7.10067368e-01 3.71740729e-01\n",
      " 2.01996833e-01 9.25353214e-01 1.98465528e-01 7.04884229e-01\n",
      " 9.18473708e-01 2.07689387e-01 1.93640701e-01 1.96970362e-01\n",
      " 9.23907897e-01 9.16209203e-01 6.98650607e-01 6.15603846e-04\n",
      " 2.01893547e-01 1.93868424e-01 9.28189062e-01 9.17710729e-01\n",
      " 9.18144031e-01 5.61083988e-01 7.10153267e-01 7.04537242e-01\n",
      " 1.91502793e-01 7.04257774e-01 1.97831264e-01 6.60488721e-04\n",
      " 1.95483098e-01 9.23591563e-01 9.09038354e-01 7.09959836e-01\n",
      " 2.05119545e-01 6.96381445e-01 1.97751252e-01 2.04578163e-01\n",
      " 1.96389047e-01 2.00386440e-01]\n",
      "[6922.64299878]\n"
     ]
    }
   ],
   "source": [
    "for i in range(len(amfea.pop[:701])):\n",
    "    if amfea.skill_factor[i] == 7:\n",
    "        x = amfea.pop[i]\n",
    "        print(x)\n",
    "        print(SchwefelTask.fitness(np.array([x])))"
   ]
  },
  {
   "cell_type": "code",
   "execution_count": 22,
   "id": "e3295c50",
   "metadata": {},
   "outputs": [
    {
     "name": "stdout",
     "output_type": "stream",
     "text": [
      "1.0\n"
     ]
    }
   ],
   "source": [
    "print(np.max(amfea.pop))"
   ]
  },
  {
   "cell_type": "code",
   "execution_count": 7,
   "id": "88fdd99b",
   "metadata": {},
   "outputs": [],
   "source": [
    "dim = 50\n",
    "schwefel_shift = np.full(dim, 0)\n",
    "schwefel = Schwefel(50, schwefel_shift)"
   ]
  },
  {
   "cell_type": "code",
   "execution_count": 9,
   "id": "f0181778",
   "metadata": {},
   "outputs": [
    {
     "data": {
      "text/plain": [
       "array([22735.02372398])"
      ]
     },
     "execution_count": 9,
     "metadata": {},
     "output_type": "execute_result"
    }
   ],
   "source": [
    "x_test = np.random.uniform(0, 1, size=dim)\n",
    "SchwefelTask = CEC17Task(schwefel, 500)\n",
    "SchwefelTask.fitness(np.array([x_test]))"
   ]
  },
  {
   "cell_type": "code",
   "execution_count": 199,
   "id": "3aad6bff",
   "metadata": {},
   "outputs": [
    {
     "name": "stdout",
     "output_type": "stream",
     "text": [
      "[0.37138179 0.73449412 0.36311813 0.78244749 0.99178212 0.47985734\n",
      " 0.36771698 0.51114184 0.04594897 0.84181967 0.61995408 0.63615412\n",
      " 0.46263011 0.8640062  0.14332885 0.62474759 0.54728951 0.59178973\n",
      " 0.36934856 0.98753811 0.03777077 0.29882631 0.96237095 0.15249977\n",
      " 0.7886243  0.27673331 0.88030284 0.30618377 0.50073916 0.18406873\n",
      " 0.35633323 0.47317796 0.91791397 0.80261628 0.74382469 0.86932051\n",
      " 0.35167865 0.03108078 0.88207472 0.64581258 0.17599662 0.44207642\n",
      " 0.74174619 0.14262801 0.26605845 0.89521602 0.44415947 0.62751617\n",
      " 0.62814485 0.30749574]\n"
     ]
    }
   ],
   "source": [
    "print(x_test)"
   ]
  },
  {
   "cell_type": "code",
   "execution_count": 200,
   "id": "6aad89ee",
   "metadata": {},
   "outputs": [
    {
     "name": "stdout",
     "output_type": "stream",
     "text": [
      "[152104.57279382]\n",
      "[425081.00403927]\n",
      "[519128.14154837]\n",
      "[53.38544507]\n",
      "[5.70541367e+09]\n",
      "[21.72861174]\n",
      "[104.8360553]\n",
      "[21254.0220888]\n",
      "[124.49564953]\n",
      "[113062.82998873]\n"
     ]
    }
   ],
   "source": [
    "super_tasks = get_10_tasks()\n",
    "for task in super_tasks:\n",
    "    print(task.fitness(np.array([x_test])))"
   ]
  },
  {
   "cell_type": "code",
   "execution_count": 201,
   "id": "b24c064a",
   "metadata": {},
   "outputs": [],
   "source": [
    "with open('x_test.pkl', 'wb') as f:\n",
    "    pickle.dump(x_test, f)\n",
    "f.close()"
   ]
  },
  {
   "cell_type": "code",
   "execution_count": 109,
   "id": "8ba02b55",
   "metadata": {},
   "outputs": [],
   "source": [
    "t = np.arange(10)"
   ]
  },
  {
   "cell_type": "code",
   "execution_count": 110,
   "id": "605fc20a",
   "metadata": {},
   "outputs": [
    {
     "data": {
      "text/plain": [
       "array([[0, 1, 2, 3, 4, 5, 6, 7, 8, 9],\n",
       "       [0, 1, 2, 3, 4, 5, 6, 7, 8, 9]])"
      ]
     },
     "execution_count": 110,
     "metadata": {},
     "output_type": "execute_result"
    }
   ],
   "source": [
    "t = np.array([t, t])\n",
    "t"
   ]
  },
  {
   "cell_type": "code",
   "execution_count": 111,
   "id": "c58d777a",
   "metadata": {},
   "outputs": [
    {
     "data": {
      "text/plain": [
       "array([[0, 1, 2],\n",
       "       [0, 1, 2]])"
      ]
     },
     "execution_count": 111,
     "metadata": {},
     "output_type": "execute_result"
    }
   ],
   "source": [
    "t[:, :3]"
   ]
  }
 ],
 "metadata": {
  "kernelspec": {
   "display_name": "Python 3",
   "language": "python",
   "name": "python3"
  },
  "language_info": {
   "codemirror_mode": {
    "name": "ipython",
    "version": 3
   },
   "file_extension": ".py",
   "mimetype": "text/x-python",
   "name": "python",
   "nbconvert_exporter": "python",
   "pygments_lexer": "ipython3",
   "version": "3.9.12"
  }
 },
 "nbformat": 4,
 "nbformat_minor": 5
}
