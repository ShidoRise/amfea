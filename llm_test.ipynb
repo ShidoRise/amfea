{
 "cells": [
  {
   "cell_type": "code",
   "execution_count": 1,
   "id": "62bd74ef",
   "metadata": {},
   "outputs": [],
   "source": [
    "%load_ext autoreload\n",
    "%autoreload 2\n",
    "import numpy as np\n",
    "import pickle\n",
    "from mutation import *\n",
    "from crossover import *\n",
    "from rmp import *\n",
    "from mfea import *\n",
    "from task import *\n",
    "from llm import *\n",
    "import matplotlib.pyplot as plt\n",
    "from dotenv import load_dotenv\n",
    "import os"
   ]
  },
  {
   "cell_type": "code",
   "execution_count": 2,
   "id": "3383bdd8",
   "metadata": {},
   "outputs": [],
   "source": [
    "load_dotenv()\n",
    "\n",
    "DEEPSEEK_API_KEY = os.getenv(\"DEEPSEEK_API_KEY\")\n",
    "\n",
    "deepseek = DeepseekModel(DEEPSEEK_API_KEY, \"deepseek-chat\", 1.0)"
   ]
  },
  {
   "cell_type": "code",
   "execution_count": 3,
   "id": "d49f584e",
   "metadata": {},
   "outputs": [],
   "source": [
    "gnbg_tasks = []\n",
    "gnbg_tasks.append(GNBGTask(1))\n",
    "gnbg_tasks.append(GNBGTask(2))"
   ]
  },
  {
   "cell_type": "code",
   "execution_count": 4,
   "id": "ebab5e67",
   "metadata": {},
   "outputs": [],
   "source": [
    "num_p = 10\n",
    "dim = 30\n",
    "p1 = np.random.uniform(-100, 100, size=(num_p, dim))\n",
    "p2 = np.random.uniform(-100, 100, size=(num_p, dim))\n",
    "p1_skill_factor = np.random.randint(0, 2, size=num_p)\n",
    "p2_skill_factor = np.random.randint(0, 2, size=num_p)"
   ]
  },
  {
   "cell_type": "code",
   "execution_count": 5,
   "id": "eaa6bb33",
   "metadata": {},
   "outputs": [],
   "source": [
    "tasks = []\n",
    "tasks.append(CEC17Task(1))\n",
    "tasks.append(CEC17Task(3))"
   ]
  },
  {
   "cell_type": "code",
   "execution_count": 6,
   "id": "35c50fa2",
   "metadata": {},
   "outputs": [
    {
     "data": {
      "text/plain": [
       "(5,)"
      ]
     },
     "execution_count": 6,
     "metadata": {},
     "output_type": "execute_result"
    }
   ],
   "source": [
    "x = np.random.uniform(-1, 1, size=5)\n",
    "x.shape"
   ]
  },
  {
   "cell_type": "code",
   "execution_count": 7,
   "id": "70978029",
   "metadata": {},
   "outputs": [
    {
     "name": "stdout",
     "output_type": "stream",
     "text": [
      "Initialization:\n",
      "Task 0:\n",
      "Best Fitness: 2483615339534.5303\n",
      "Mean Fitness: 4052911705175.011\n",
      "\n",
      "Task 1:\n",
      "Best Fitness: 25434566.49507395\n",
      "Mean Fitness: 1.4905663067131422e+16\n",
      "\n"
     ]
    }
   ],
   "source": [
    "num_indis_per_task = 200\n",
    "indi_len = 50\n",
    "bound = 100\n",
    "crossover = BLXCrossover()\n",
    "mutation = PolynomialMutation(20, bound)\n",
    "rmp = AdaptiveRMP(rmp_pop_size=3, num_gen=1, pc=0.8, pm=0.1)\n",
    "amfea = AMFEA(num_indis_per_task, indi_len, bound, tasks, crossover, mutation, rmp)"
   ]
  },
  {
   "cell_type": "code",
   "execution_count": null,
   "id": "6a667e50",
   "metadata": {},
   "outputs": [
    {
     "name": "stdout",
     "output_type": "stream",
     "text": [
      "Creating 3 ideas\n",
      "RMP function:\n",
      " import numpy as np\n",
      "import numpy as np\n",
      "\n",
      "def get_rmp(p1, p2, p1_skill_factor, p2_skill_factor, p1_fitness, p2_fitness):\n",
      "    skill_similarity = np.exp(-np.abs(p1_skill_factor - p2_skill_factor))\n",
      "    fitness_ratio = np.maximum(p1_fitness, p2_fitness) / (p1_fitness + p2_fitness + 1e-10)\n",
      "    normalized_fitness = 0.5 + (fitness_ratio - 0.5) * 0.2\n",
      "    rmp = skill_similarity * normalized_fitness\n",
      "    return np.clip(rmp, 0.0, 1.0)\n",
      "RMP shape: (82,)\n",
      "RMP array:\n",
      " [0.50283808 0.21227024 0.22070944 0.51971511 0.22034004 0.59902871\n",
      " 0.50898907 0.59986056 0.58669047 0.22067422 0.22063477 0.22067346\n",
      " 0.50976977 0.22072705 0.5608763  0.21824736 0.21901176 0.56519691\n",
      " 0.21832908 0.59983462 0.22065525 0.22056015 0.21966034 0.22071472\n",
      " 0.5899159  0.50539502 0.20755312 0.2206972  0.22065582 0.21068853\n",
      " 0.22062102 0.22071969 0.50454224 0.21476408 0.22070715 0.22070101\n",
      " 0.5047946  0.51819213 0.50687792 0.22071982 0.59817881 0.21867457\n",
      " 0.59142625 0.22066271 0.52777091 0.59188921 0.51635712 0.50198348\n",
      " 0.2206337  0.52191263 0.51167478 0.2206836  0.22059157 0.22068816\n",
      " 0.22072597 0.21266466 0.2207017  0.50806777 0.59999081 0.21650408\n",
      " 0.22070625 0.5444586  0.22071424 0.55012767 0.22072345 0.22072443\n",
      " 0.59830649 0.59994746 0.22056611 0.50070148 0.22035727 0.21067762\n",
      " 0.52086262 0.52153276 0.51244522 0.59882959 0.21421254 0.59951114\n",
      " 0.22072327 0.22071004 0.50468495 0.20585344]\n",
      "here\n",
      "[2.86107149e+12 4.30449361e+12 4.07084434e+12 3.47756378e+12\n",
      " 6.26812674e+12 4.91081643e+12 4.15705543e+12 4.45958015e+12\n",
      " 5.01689843e+12 3.36926372e+12 4.63623598e+12 5.92338597e+12\n",
      " 5.19594234e+12 6.92666240e+12 3.50581111e+12 5.19126907e+12\n",
      " 3.56984261e+12 4.22777460e+12 6.11008346e+12 5.71747099e+12\n",
      " 3.42992529e+12 5.49439073e+12 3.63728369e+12]\n",
      "[3.40967191e+12 5.02483036e+12 3.86670396e+12 2.71343145e+12\n",
      " 3.40370943e+12 3.86718843e+12 3.50042804e+12 4.68494921e+12\n",
      " 4.48409987e+12 2.94874315e+12 3.56818247e+12 6.00871211e+12\n",
      " 3.14057148e+12 4.74375194e+12 3.16143818e+12 4.09698442e+12\n",
      " 4.16199153e+12 3.30300645e+12 4.48409987e+12 3.76329643e+12\n",
      " 4.23531733e+12 5.93929390e+12 3.91060505e+12]\n",
      "[7.13479272e+15 1.83954995e+16 1.77424266e+12 3.00424769e+14\n",
      " 4.35378990e+15 8.61513162e+15 3.05117635e+14 4.34407357e+14\n",
      " 7.15565464e+14 8.97732706e+13 2.04599639e+17 4.77869113e+16\n",
      " 4.22135185e+12 3.11871438e+12 9.17223954e+14 1.99753719e+15\n",
      " 1.10769385e+16 1.43027109e+16 5.38999976e+13 1.13688434e+16\n",
      " 1.18642169e+15 7.96278787e+16 1.74065711e+13 1.63130443e+16\n",
      " 2.96118491e+14 3.73042942e+16]\n",
      "[1.25142011e+16 9.29928228e+14 2.83585384e+12 1.50668854e+17\n",
      " 2.62440845e+16 1.60484143e+13 1.82280570e+16 8.53769252e+16\n",
      " 1.00943901e+14 6.05493968e+15 4.56351739e+15 2.89143902e+13\n",
      " 3.66890541e+13 2.04633014e+14 4.33011082e+14 2.12287080e+13\n",
      " 2.43916096e+10 1.84231167e+15 1.25522871e+15 4.96250065e+12\n",
      " 6.61622895e+15 7.27975439e+14 7.85130220e+13 1.15762977e+14\n",
      " 1.15101564e+13 1.79869046e+16]\n",
      "RMP function:\n",
      " import numpy as np\n",
      "def get_rmp(p1, p2, p1_skill_factor, p2_skill_factor, p1_fitness, p2_fitness):  \n",
      "    fitness_diff = np.abs(p1_fitness - p2_fitness)  \n",
      "    fitness_norm = fitness_diff / (np.maximum(p1_fitness, p2_fitness) + 1e-10  \n",
      "    skill_mismatch = np.where(p1_skill_factor != p2_skill_factor, 1.0, 0.0)  \n",
      "    fitness_weight = 1.0 - np.tanh(fitness_norm)  \n",
      "    skill_weight = 0.5 + 0.5 * np.where(skill_mismatch == 0.0, 1.0, -1.0)  \n",
      "    rmp = 0.5 * fitness_weight + 0.5 * skill_weight  \n",
      "    rmp = np.clip(rmp, 0.0, 1.0)  \n",
      "    return rmp\n",
      "Error in create rmp array: invalid syntax (<string>, line 5)\n",
      "RMP function:\n",
      " import numpy as np\n",
      "def get_rmp(p1, p2, p1_skill_factor, p2_skill_factor, p1_fitness, p2_fitness):\n",
      "    skill_diff = np.abs(p1_skill_factor - p2_skill_factor)\n",
      "    skill_sim = 1.0 / (1.0 + skill_diff)\n",
      "    fitness_diff = np.abs(p1_fitness - p2_fitness)\n",
      "    norm_fitness_diff = fitness_diff / (np.maximum(p1_fitness, p2_fitness) + 1e-10)\n",
      "    fitness_weight = 1.0 - np.tanh(norm_fitness_diff * 2.0)\n",
      "    rmp = 0.5 * (skill_sim + fitness_weight)\n",
      "    return np.clip(rmp, 0.0, 1.0)\n",
      "RMP shape: (82,)\n",
      "RMP array:\n",
      " [0.94502801 0.27987248 0.26800373 0.71123981 0.26836424 0.51833426\n",
      " 0.84078132 0.51803557 0.52378025 0.26803764 0.26807575 0.26803838\n",
      " 0.82915294 0.2679868  0.54621054 0.27062416 0.26975325 0.54080482\n",
      " 0.27052838 0.51804477 0.26805595 0.26814814 0.26905625 0.26799865\n",
      " 0.52214804 0.89902991 0.29198573 0.2680155  0.2680554  0.28331131\n",
      " 0.26808905 0.26799387 0.9139668  0.27540219 0.26800593 0.26801183\n",
      " 0.90950344 0.72594352 0.87406323 0.26799374 0.5186471  0.2701306\n",
      " 0.52143956 0.26804875 0.64946621 0.52122904 0.74515629 0.96118014\n",
      " 0.26807678 0.69186715 0.80230594 0.2680286  0.2681176  0.2680242\n",
      " 0.26798784 0.27909395 0.26801117 0.85497588 0.51798946 0.27283417\n",
      " 0.26800679 0.57855956 0.26799911 0.56469419 0.26799026 0.26798932\n",
      " 0.5185996  0.51800479 0.26814235 0.98607175 0.26834719 0.28333693\n",
      " 0.70086218 0.6950675  0.79205499 0.51840685 0.2763037  0.51816015\n",
      " 0.26799044 0.26800314 0.91143833 0.29804165]\n",
      "here\n",
      "[3.61045392e+12 4.34657457e+12 5.95362022e+12 5.63710734e+12\n",
      " 4.60194185e+12 3.67644868e+12 4.43299063e+12 4.84262061e+12\n",
      " 3.42075982e+12 5.58759376e+12 4.58309795e+12 5.13670336e+12\n",
      " 4.68950477e+12 4.75784529e+12 4.23678307e+12 2.89103990e+12\n",
      " 5.77784775e+12 5.26227373e+12 4.36211405e+12 4.12470742e+12\n",
      " 4.63305223e+12]\n",
      "[3.40967191e+12 5.02483036e+12 3.86670396e+12 3.86718843e+12\n",
      " 3.50042804e+12 4.93990717e+12 4.68494921e+12 4.48409987e+12\n",
      " 2.94874315e+12 3.56818247e+12 6.00871211e+12 3.14057148e+12\n",
      " 4.74375194e+12 3.16143818e+12 4.09698442e+12 4.16199153e+12\n",
      " 4.48409987e+12 5.72950975e+12 3.76329643e+12 4.23531733e+12\n",
      " 3.91060505e+12]\n",
      "[2.89105542e+16 2.52565991e+13 1.50580067e+17 1.46531601e+17\n",
      " 8.95041218e+14 2.14100116e+17 3.72667157e+14 2.25770725e+14\n",
      " 2.40065006e+17 5.22344428e+10 9.07785832e+16 1.23082883e+16\n",
      " 3.65237271e+09 7.21312415e+15 4.84124713e+10 2.39072793e+15\n",
      " 1.09863460e+15 1.26607139e+16 3.08592695e+16 9.26010050e+16\n",
      " 6.15825679e+16 4.29272559e+16 8.94940353e+16]\n",
      "[9.29928228e+14 2.83585384e+12 1.50668854e+17 2.62440845e+16\n",
      " 1.60484143e+13 1.82280570e+16 8.53769252e+16 6.05493968e+15\n",
      " 3.57568039e+16 2.89143902e+13 2.04633014e+14 4.33011082e+14\n",
      " 2.12287080e+13 2.08683658e+15 2.43916096e+10 1.84231167e+15\n",
      " 1.25522871e+15 8.53769252e+16 4.96250065e+12 6.61622895e+15\n",
      " 7.85130220e+13 1.15762977e+14 1.15101564e+13]\n",
      "RMP function:\n",
      " import numpy as np\n",
      "def get_rmp(p1, p2, p1_skill_factor, p2_skill_factor, p1_fitness, p2_fitness):\n",
      "    skill_similarity = 1.0 - np.abs(p1_skill_factor - p2_skill_factor)\n",
      "    fitness_diff = np.abs(p1_fitness - p2_fitness)\n",
      "    normalized_fitness = fitness_diff / (np.maximum(p1_fitness, p2_fitness) + 1e-10)\n",
      "    rmp = 0.5 * (skill_similarity + (1.0 - normalized_fitness))\n",
      "    rmp = np.clip(rmp, 0.0, 1.0)\n",
      "    return rmp\n",
      ">\n",
      "\n",
      "<def get_rmp(p1, p2, p1_skill_factor, p2_skill_factor, p1_fitness, p2_fitness):\n",
      "    skill_match = np.equal(p1_skill_factor, p2_skill_factor).astype(float)\n",
      "    fitness_ratio = np.minimum(p1_fitness, p2_fitness) / (np.maximum(p1_fitness, p2_fitness) + 1e-10)\n",
      "    rmp = 0.7 * skill_match + 0.3 * (1.0 - np.exp(-5.0 * fitness_ratio))\n",
      "    return np.clip(rmp, 0.0, 1.0)\n",
      ">\n",
      "\n",
      "<def get_rmp(p1, p2, p1_skill_factor, p2_skill_factor, p1_fitness, p2_fitness):\n",
      "    skill_diff = np.abs(p1_skill_factor - p2_skill_factor)\n",
      "    fitness_sum = p1_fitness + p2_fitness\n",
      "    weighted_skill = 1.0 / (1.0 + skill_diff)\n",
      "    weighted_fitness = fitness_sum / (np.max(fitness_sum) + 1e-10)\n",
      "    rmp = np.sqrt(weighted_skill * weighted_fitness)\n",
      "    return rmp\n",
      ">\n",
      "\n",
      "<def get_rmp(p1, p2, p1_skill_factor, p2_skill_factor, p1_fitness, p2_fitness):\n",
      "    same_task = (p1_skill_factor == p2_skill_factor).astype(float)\n",
      "    fitness_rank = (p1_fitness + p2_fitness) / 2.0\n",
      "    fitness_rank = (fitness_rank - np.min(fitness_rank)) / (np.max(fitness_rank) - np.min(fitness_rank) + 1e-10)\n",
      "    rmp = same_task * 0.3 + (1.0 - same_task) * (0.5 + 0.5 * fitness_rank)\n",
      "    return np.clip(rmp, 0.0, 1.0)\n",
      "Error in create rmp array: invalid syntax (<string>, line 9)\n",
      "RMP function:\n",
      " import numpy as np\n",
      "def get_rmp(p1, p2, p1_skill_factor, p2_skill_factor, p1_fitness, p2_fitness):\n",
      "    skill_match = (p1_skill_factor == p2_skill_factor).astype(float)\n",
      "    fitness_diff = np.abs(p1_fitness - p2_fitness)\n",
      "    normalized_fitness = 1 - (fitness_diff / (np.max(fitness_diff) + 1e-10))\n",
      "    rank_p1 = np.argsort(np.argsort(p1_fitness)) / len(p1_fitness)\n",
      "    rank_p2 = np.argsort(np.argsort(p2_fitness)) / len(p2_fitness)\n",
      "    rank_penalty = np.where((rank_p1 < 0.5) & (rank_p2 < 0.5), 0.2, 1.0)\n",
      "    complementary_skill = 1 - (np.abs(p1_skill_factor - p2_skill_factor) / (np.max(np.abs(p1_skill_factor - p2_skill_factor)) + 1e-10))\n",
      "    rmp = (0.6 * skill_match + 0.2 * normalized_fitness + 0.2 * complementary_skill) * rank_penalty\n",
      "    return np.clip(rmp, 0, 1)\n",
      "RMP shape: (82,)\n",
      "RMP array:\n",
      " [1.99999969e-01 1.99976417e-01 1.89809959e-01 1.99999730e-01\n",
      " 1.99246603e-01 9.99529018e-01 1.99999876e-01 8.77368849e-01\n",
      " 9.80148604e-01 1.96961766e-01 1.97806089e-01 1.93744613e-01\n",
      " 9.99997169e-01 3.99995059e-02 9.53798179e-01 1.99880555e-01\n",
      " 1.99886674e-01 9.45112176e-01 1.99920554e-01 9.95072454e-01\n",
      " 1.96286768e-01 1.98337815e-01 1.99726060e-01 1.70881923e-01\n",
      " 9.99580025e-01 1.99999936e-01 1.99989780e-01 1.91780601e-01\n",
      " 1.96177745e-01 1.99979629e-01 1.97232116e-01 1.70639775e-01\n",
      " 1.99999934e-01 1.99972753e-01 3.99995547e-02 1.91780175e-01\n",
      " 1.99999926e-01 1.99999786e-01 1.99999914e-01 1.70879902e-01\n",
      " 9.82029975e-01 1.99879790e-01 9.92478413e-01 1.95051656e-01\n",
      " 9.99997873e-01 9.99983440e-01 1.99999800e-01 1.99999969e-01\n",
      " 1.98070628e-01 1.99999711e-01 9.99999118e-01 1.94183482e-01\n",
      " 1.98303463e-01 1.95049940e-01 2.00000017e-11 1.99969236e-01\n",
      " 1.93742208e-01 1.99999881e-01 9.99567875e-01 1.99936714e-01\n",
      " 1.83923514e-01 9.97597782e-01 1.85258017e-01 9.97944814e-01\n",
      " 1.30466187e-01 1.49381676e-01 9.99530750e-01 9.94612630e-01\n",
      " 1.98516196e-01 1.99999990e-01 1.99410079e-01 3.99992143e-02\n",
      " 9.99998384e-01 1.99999756e-01 9.99985845e-01 9.84076884e-01\n",
      " 1.99955045e-01 9.96183380e-01 1.33391396e-01 1.85353536e-01\n",
      " 1.99999943e-01 1.99990241e-01]\n",
      "here\n",
      "[2.96968757e+12 4.41015851e+12 4.76219395e+12 4.38354886e+12\n",
      " 4.12711852e+12 5.30780398e+12 3.34871021e+12 4.99568255e+12\n",
      " 4.59339003e+12 5.99125270e+12 5.94781155e+12 4.08132265e+12\n",
      " 4.63825222e+12 5.11780601e+12 5.70138980e+12 4.63731701e+12\n",
      " 5.32371036e+12 3.81402833e+12 3.42495211e+12]\n",
      "[3.40967191e+12 5.02483036e+12 3.86670396e+12 3.86718843e+12\n",
      " 4.68494921e+12 4.48409987e+12 2.94874315e+12 3.56818247e+12\n",
      " 3.81047891e+12 6.00871211e+12 3.14057148e+12 4.74375194e+12\n",
      " 3.16143818e+12 4.09698442e+12 4.16199153e+12 4.48409987e+12\n",
      " 3.76329643e+12 4.23531733e+12 3.91060505e+12]\n",
      "[3.62284232e+13 7.10045111e+15 2.24435842e+14 6.12513959e+14\n",
      " 6.77402455e+14 3.45609604e+16 1.04314826e+15 4.91460809e+14\n",
      " 1.51122158e+14 7.15120565e+13 6.90691764e+16 3.13955532e+13\n",
      " 4.21924638e+12 2.02783613e+09 1.87487570e+14 3.89680088e+11\n",
      " 2.18632656e+16 3.01296872e+13 5.41878311e+13 5.66725130e+15\n",
      " 6.77403652e+07 3.25963840e+12 1.29342250e+15]\n",
      "[2.83585384e+12 1.50668854e+17 2.62440845e+16 7.68588818e+15\n",
      " 1.60484143e+13 1.82280570e+16 8.53769252e+16 1.00943901e+14\n",
      " 6.05493968e+15 3.41361724e+14 2.89143902e+13 2.04633014e+14\n",
      " 4.33011082e+14 2.12287080e+13 2.43916096e+10 8.27403813e+13\n",
      " 1.84231167e+15 1.25522871e+15 4.96250065e+12 6.61622895e+15\n",
      " 7.85130220e+13 1.15762977e+14 1.15101564e+13]\n",
      "RMP function:\n",
      " import numpy as np\n",
      "def get_rmp(p1, p2, p1_skill_factor, p2_skill_factor, p1_fitness, p2_fitness):\n",
      "    fitness_diff = np.abs(p1_fitness - p2_fitness)\n",
      "    normalized_fitness_diff = (fitness_diff - np.min(fitness_diff)) / (np.max(fitness_diff) - np.min(fitness_diff) + 1e-10)\n",
      "    skill_match = np.where(p1_skill_factor == p2_skill_factor, 1.0, 0.5)\n",
      "    fitness_weight = 1.0 - np.tanh(normalized_fitness_diff * 2.0)\n",
      "    skill_weight = np.power(skill_match, 2.0)\n",
      "    combined = (fitness_weight * 0.6 + skill_weight * 0.4)\n",
      "    rmp = np.clip(combined, 0.0, 1.0)\n",
      "    return rmp\n",
      "RMP shape: (82,)\n",
      "RMP array:\n",
      " [0.99999939 0.69985881 0.63907079 0.99999222 0.69548001 0.99717443\n",
      " 0.99999657 0.49509637 0.88243221 0.6817765  0.68683895 0.66251685\n",
      " 0.99998332 0.69998548 0.74096358 0.69928364 0.69932035 0.70019277\n",
      " 0.69952363 0.97045893 0.67773114 0.69002811 0.69835667 0.5300675\n",
      " 0.99748047 0.99999837 0.69993898 0.65079466 0.67707793 0.69987808\n",
      " 0.68339724 0.52873207 0.99999832 0.69983682 0.69998695 0.65079212\n",
      " 0.9999981  0.9999939  0.99999773 0.53005635 0.8933259  0.69927905\n",
      " 0.95495568 0.67033444 0.99998754 0.99990095 0.9999943  0.99999937\n",
      " 0.68842551 0.99999163 0.99999501 0.66514049 0.68982206 0.67032417\n",
      " 0.12158345 0.69981572 0.66250248 0.99999674 0.99740757 0.69962059\n",
      " 0.60436386 0.98558977 0.61218362 0.98767092 0.33915991 0.41982056\n",
      " 0.99718482 0.96770731 0.69109813 1.         0.69646082 0.69997674\n",
      " 0.99999061 0.99999297 0.99991537 0.90526092 0.69973058 0.97711169\n",
      " 0.3505605  0.61274453 0.99999859 0.69994175]\n",
      "here\n",
      "Error in create rmp array: object of type 'IndividualRMP' has no len()\n"
     ]
    }
   ],
   "source": [
    "bfs, mfs = amfea.fit(5000, monitor=False, monitor_rate=50, llm_rate=500)"
   ]
  },
  {
   "cell_type": "code",
   "execution_count": null,
   "id": "f71a36e0",
   "metadata": {},
   "outputs": [
    {
     "data": {
      "image/png": "[encoded data removed]",
      "text/plain": [
       "<Figure size 640x480 with 3 Axes>"
      ]
     },
     "metadata": {},
     "output_type": "display_data"
    }
   ],
   "source": [
    "num_tasks = len(tasks)\n",
    "fig, axes = plt.subplots(num_tasks, 2)\n",
    "fig.tight_layout()\n",
    "for i in range(num_tasks):\n",
    "    axes[i][0].plot(bfs[i])\n",
    "    axes[i][1].plot(mfs[i])"
   ]
  },
  {
   "cell_type": "code",
   "execution_count": 3,
   "id": "a2c19dc2",
   "metadata": {},
   "outputs": [
    {
     "name": "stdout",
     "output_type": "stream",
     "text": [
      "Creating 3 ideas\n"
     ]
    }
   ],
   "source": [
    "ideas = deepseek.initial_ideas(3)"
   ]
  },
  {
   "cell_type": "code",
   "execution_count": 4,
   "id": "3236c17d",
   "metadata": {},
   "outputs": [
    {
     "name": "stdout",
     "output_type": "stream",
     "text": [
      "Use a sigmoid-based RMP that adjusts based on the difference in skill factors, where parents with similar skill factors have higher RMP, but the fitness scores modulate the steepness of the sigmoid to allow more exploration when fitness differences are small.\n",
      "Incorporate a dynamic thresholding mechanism where RMP is high if both parents belong to the same skill factor, but if they differ, the RMP decays exponentially with the absolute difference in fitness, scaled by the ratio of their skill factors.\n",
      "Design a hybrid RMP that combines a base probability (from skill factor similarity) with a perturbation term derived from the normalized fitness ratio, ensuring that even dissimilar parents can mate if their fitness scores are highly complementary.\n"
     ]
    }
   ],
   "source": [
    "print(ideas[0])\n",
    "print(ideas[1])\n",
    "print(ideas[2])"
   ]
  },
  {
   "cell_type": "code",
   "execution_count": 5,
   "id": "7bf308f9",
   "metadata": {},
   "outputs": [
    {
     "name": "stdout",
     "output_type": "stream",
     "text": [
      "def get_rmp(p1, p2, p1_skill_factor, p2_skill_factor, p1_fitness, p2_fitness):  \n",
      "    skill_diff = np.abs(p1_skill_factor - p2_skill_factor)  \n",
      "    normalized_skill_diff = skill_diff / np.max(skill_diff + 1e-10)  \n",
      "    fitness_diff = np.abs(p1_fitness - p2_fitness)  \n",
      "    normalized_fitness_diff = fitness_diff / (np.max(fitness_diff) + 1e-10)  \n",
      "    steepness = 10.0 * (1.0 - normalized_fitness_diff)  \n",
      "    rmp = 1.0 / (1.0 + np.exp(steepness * (normalized_skill_diff - 0.5)))  \n",
      "    return rmp\n"
     ]
    }
   ],
   "source": [
    "code = deepseek.idea_to_code_function(ideas[0])\n",
    "print(code)"
   ]
  }
 ],
 "metadata": {
  "kernelspec": {
   "display_name": "Python 3",
   "language": "python",
   "name": "python3"
  },
  "language_info": {
   "codemirror_mode": {
    "name": "ipython",
    "version": 3
   },
   "file_extension": ".py",
   "mimetype": "text/x-python",
   "name": "python",
   "nbconvert_exporter": "python",
   "pygments_lexer": "ipython3",
   "version": "3.9.12"
  }
 },
 "nbformat": 4,
 "nbformat_minor": 5
}
